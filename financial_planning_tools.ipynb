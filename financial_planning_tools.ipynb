{
 "cells": [
  {
   "cell_type": "markdown",
   "metadata": {},
   "source": [
    "# Financial Planning with APIs and Simulations\n",
    "\n",
    "In this Challenge, you’ll create two financial analysis tools by using a single Jupyter notebook:\n",
    "\n",
    "Part 1: A financial planner for emergencies. The members will be able to use this tool to visualize their current savings. The members can then determine if they have enough reserves for an emergency fund.\n",
    "\n",
    "Part 2: A financial planner for retirement. This tool will forecast the performance of their retirement portfolio in 30 years. To do this, the tool will make an Alpaca API call via the Alpaca SDK to get historical price data for use in Monte Carlo simulations.\n",
    "\n",
    "You’ll use the information from the Monte Carlo simulation to answer questions about the portfolio in your Jupyter notebook.\n",
    "\n"
   ]
  },
  {
   "cell_type": "code",
   "execution_count": 1,
   "metadata": {},
   "outputs": [],
   "source": [
    "# Import the required libraries and dependencies\n",
    "import os\n",
    "import requests\n",
    "import json\n",
    "import pandas as pd\n",
    "from dotenv import load_dotenv\n",
    "import alpaca_trade_api as tradeapi\n",
    "from MCForecastTools import MCSimulation\n",
    "\n",
    "%matplotlib inline\n",
    "\n",
    "import datetime\n",
    "# BDay is business day, not birthday.  Used to calculate prior business day for closing market prices.\n",
    "from pandas.tseries.offsets import BDay"
   ]
  },
  {
   "cell_type": "code",
   "execution_count": 2,
   "metadata": {},
   "outputs": [
    {
     "data": {
      "text/plain": [
       "True"
      ]
     },
     "execution_count": 2,
     "metadata": {},
     "output_type": "execute_result"
    }
   ],
   "source": [
    "# Load the environment variables from the .env file\n",
    "#by calling the load_dotenv function\n",
    "load_dotenv()"
   ]
  },
  {
   "cell_type": "markdown",
   "metadata": {},
   "source": [
    "## Part 1: Create a Financial Planner for Emergencies"
   ]
  },
  {
   "cell_type": "markdown",
   "metadata": {},
   "source": [
    "### Evaluate the Cryptocurrency Wallet by Using the Requests Library\n",
    "\n",
    "In this section, you’ll determine the current value of a member’s cryptocurrency wallet. You’ll collect the current prices for the Bitcoin and Ethereum cryptocurrencies by using the Python Requests library. For the prototype, you’ll assume that the member holds the 1.2 Bitcoins (BTC) and 5.3 Ethereum coins (ETH). To do all this, complete the following steps:\n",
    "\n",
    "1. Create a variable named `monthly_income`, and set its value to `12000`.\n",
    "\n",
    "2. Use the Requests library to get the current price (in US dollars) of Bitcoin (BTC) and Ethereum (ETH) by using the API endpoints that the starter code supplies.\n",
    "\n",
    "3. Navigate the JSON response object to access the current price of each coin, and store each in a variable.\n",
    "\n",
    "    > **Hint** Note the specific identifier for each cryptocurrency in the API JSON response. The Bitcoin identifier is `1`, and the Ethereum identifier is `1027`.\n",
    "\n",
    "4. Calculate the value, in US dollars, of the current amount of each cryptocurrency and of the entire cryptocurrency wallet.\n",
    "\n"
   ]
  },
  {
   "cell_type": "code",
   "execution_count": 3,
   "metadata": {},
   "outputs": [],
   "source": [
    "# The current number of coins for each cryptocurrency asset held in the portfolio.\n",
    "btc_coins = 1.2\n",
    "eth_coins = 5.3"
   ]
  },
  {
   "cell_type": "markdown",
   "metadata": {},
   "source": [
    "#### Step 1: Create a variable named `monthly_income`, and set its value to `12000`."
   ]
  },
  {
   "cell_type": "code",
   "execution_count": 4,
   "metadata": {},
   "outputs": [],
   "source": [
    "# The monthly amount for the member's household income\n",
    "monthly_income = 12000\n"
   ]
  },
  {
   "cell_type": "markdown",
   "metadata": {},
   "source": [
    "#### Review the endpoint URLs for the API calls to Free Crypto API in order to get the current pricing information for both BTC and ETH."
   ]
  },
  {
   "cell_type": "code",
   "execution_count": 5,
   "metadata": {},
   "outputs": [
    {
     "name": "stdout",
     "output_type": "stream",
     "text": [
      "{'data': {'1': {'id': 1, 'name': 'Bitcoin', 'symbol': 'BTC', 'website_slug': 'bitcoin', 'rank': 1, 'circulating_supply': 19076762, 'total_supply': 19076762, 'max_supply': 21000000, 'quotes': {'USD': {'price': 21224.0, 'volume_24h': 19025778103, 'market_cap': 404043073115, 'percentage_change_1h': 0.593419975800762, 'percentage_change_24h': -0.266957595151171, 'percentage_change_7d': 3.66713364768662, 'percent_change_1h': 0.593419975800762, 'percent_change_24h': -0.266957595151171, 'percent_change_7d': 3.66713364768662}}, 'last_updated': 1656164045}}, 'metadata': {'timestamp': 1656164045, 'num_cryptocurrencies': 3116, 'error': None}}\n",
      "Parsed url: https://api.alternative.me/v2/ticker/Bitcoin/?convert=USD\n",
      "\n",
      "{'data': {'1027': {'id': 1027, 'name': 'Ethereum', 'symbol': 'ETH', 'website_slug': 'ethereum', 'rank': 2, 'circulating_supply': 121298768, 'total_supply': 121298768, 'max_supply': 0, 'quotes': {'USD': {'price': 1197.93, 'volume_24h': 13029704545, 'market_cap': 145104106052, 'percentage_change_1h': -0.0460067881626383, 'percentage_change_24h': -1.53976435026306, 'percentage_change_7d': 10.122493563016, 'percent_change_1h': -0.0460067881626383, 'percent_change_24h': -1.53976435026306, 'percent_change_7d': 10.122493563016}}, 'last_updated': 1656164084}}, 'metadata': {'timestamp': 1656164084, 'num_cryptocurrencies': 3116, 'error': None}}\n",
      "Parsed url: https://api.alternative.me/v2/ticker/Ethereum/?convert=USD\n",
      "\n"
     ]
    }
   ],
   "source": [
    "# The Free Crypto API Call endpoint URLs for the held cryptocurrency assets\n",
    "btc_url = \"https://api.alternative.me/v2/ticker/Bitcoin/?convert=USD\"\n",
    "eth_url = \"https://api.alternative.me/v2/ticker/Ethereum/?convert=USD\"\n",
    "\n",
    "# Make list of url's to check for any exception erros.  Copied from class instruction demo exercise, with minor edits.\n",
    "crypto_url_list = [btc_url, eth_url]\n",
    "\n",
    "for url in crypto_url_list:\n",
    "    try:\n",
    "        response = requests.get(url)\n",
    "\n",
    "        # Check Status Codes\n",
    "        if response.status_code == 200:\n",
    "            print(response.json())\n",
    "        else:\n",
    "            print(f\"The url: {url} is invalid.\\nResponse code: {response.status_code}\")\n",
    "\n",
    "    except Exception as error:\n",
    "        # If an exception occurs in the try portion, the code in this branch will be executed.\n",
    "        print(f\"Unable to connect to the server at url: {url}.\\nError:\\n{error}\")\n",
    "    finally:\n",
    "        # Everything in finally will be executed regardless of try/except\n",
    "        print(f\"Parsed url: {url}\\n\")"
   ]
  },
  {
   "cell_type": "markdown",
   "metadata": {},
   "source": [
    "#### Step 2. Use the Requests library to get the current price (in US dollars) of Bitcoin (BTC) and Ethereum (ETH) by using the API endpoints that the starter code supplied."
   ]
  },
  {
   "cell_type": "code",
   "execution_count": 6,
   "metadata": {},
   "outputs": [
    {
     "name": "stdout",
     "output_type": "stream",
     "text": [
      "{\n",
      "    \"data\": {\n",
      "        \"1\": {\n",
      "            \"circulating_supply\": 19076762,\n",
      "            \"id\": 1,\n",
      "            \"last_updated\": 1656164045,\n",
      "            \"max_supply\": 21000000,\n",
      "            \"name\": \"Bitcoin\",\n",
      "            \"quotes\": {\n",
      "                \"USD\": {\n",
      "                    \"market_cap\": 404043073115,\n",
      "                    \"percent_change_1h\": 0.593419975800762,\n",
      "                    \"percent_change_24h\": -0.266957595151171,\n",
      "                    \"percent_change_7d\": 3.66713364768662,\n",
      "                    \"percentage_change_1h\": 0.593419975800762,\n",
      "                    \"percentage_change_24h\": -0.266957595151171,\n",
      "                    \"percentage_change_7d\": 3.66713364768662,\n",
      "                    \"price\": 21224.0,\n",
      "                    \"volume_24h\": 19025778103\n",
      "                }\n",
      "            },\n",
      "            \"rank\": 1,\n",
      "            \"symbol\": \"BTC\",\n",
      "            \"total_supply\": 19076762,\n",
      "            \"website_slug\": \"bitcoin\"\n",
      "        }\n",
      "    },\n",
      "    \"metadata\": {\n",
      "        \"error\": null,\n",
      "        \"num_cryptocurrencies\": 3116,\n",
      "        \"timestamp\": 1656164045\n",
      "    }\n",
      "}\n"
     ]
    }
   ],
   "source": [
    "# Using the Python requests library, make an API call to access the current price of BTC\n",
    "btc_response = requests.get(btc_url).json()\n",
    "\n",
    "# Use the json.dumps function to review the response data from the API call\n",
    "# Use the indent and sort_keys parameters to make the response object readable\n",
    "print(json.dumps(btc_response, indent=4, sort_keys=True))\n"
   ]
  },
  {
   "cell_type": "code",
   "execution_count": 7,
   "metadata": {},
   "outputs": [
    {
     "name": "stdout",
     "output_type": "stream",
     "text": [
      "{\n",
      "    \"data\": {\n",
      "        \"1027\": {\n",
      "            \"circulating_supply\": 121298768,\n",
      "            \"id\": 1027,\n",
      "            \"last_updated\": 1656164084,\n",
      "            \"max_supply\": 0,\n",
      "            \"name\": \"Ethereum\",\n",
      "            \"quotes\": {\n",
      "                \"USD\": {\n",
      "                    \"market_cap\": 145104106052,\n",
      "                    \"percent_change_1h\": -0.0460067881626383,\n",
      "                    \"percent_change_24h\": -1.53976435026306,\n",
      "                    \"percent_change_7d\": 10.122493563016,\n",
      "                    \"percentage_change_1h\": -0.0460067881626383,\n",
      "                    \"percentage_change_24h\": -1.53976435026306,\n",
      "                    \"percentage_change_7d\": 10.122493563016,\n",
      "                    \"price\": 1197.93,\n",
      "                    \"volume_24h\": 13029704545\n",
      "                }\n",
      "            },\n",
      "            \"rank\": 2,\n",
      "            \"symbol\": \"ETH\",\n",
      "            \"total_supply\": 121298768,\n",
      "            \"website_slug\": \"ethereum\"\n",
      "        }\n",
      "    },\n",
      "    \"metadata\": {\n",
      "        \"error\": null,\n",
      "        \"num_cryptocurrencies\": 3116,\n",
      "        \"timestamp\": 1656164084\n",
      "    }\n",
      "}\n"
     ]
    }
   ],
   "source": [
    "# Using the Python requests library, make an API call to access the current price ETH\n",
    "eth_response = requests.get(eth_url).json()\n",
    "\n",
    "# Use the json.dumps function to review the response data from the API call\n",
    "# Use the indent and sort_keys parameters to make the response object readable\n",
    "print(json.dumps(eth_response, indent=4, sort_keys=True))\n"
   ]
  },
  {
   "cell_type": "markdown",
   "metadata": {},
   "source": [
    "#### Step 3: Navigate the JSON response object to access the current price of each coin, and store each in a variable."
   ]
  },
  {
   "cell_type": "code",
   "execution_count": 8,
   "metadata": {},
   "outputs": [
    {
     "name": "stdout",
     "output_type": "stream",
     "text": [
      "The current price for Bitcoin is $21224.00\n"
     ]
    }
   ],
   "source": [
    "# Navigate the BTC response object to access the current price of BTC\n",
    "btc_price = btc_response['data']['1']['quotes']['USD']['price']\n",
    "\n",
    "# Print the current price of BTC\n",
    "print(f\"The current price for Bitcoin is ${btc_price:0.2f}\")\n"
   ]
  },
  {
   "cell_type": "code",
   "execution_count": 9,
   "metadata": {},
   "outputs": [
    {
     "name": "stdout",
     "output_type": "stream",
     "text": [
      "The current price for Ethereum is $1197.93\n"
     ]
    }
   ],
   "source": [
    "# Navigate the BTC response object to access the current price of ETH\n",
    "eth_price = eth_response['data']['1027']['quotes']['USD']['price']\n",
    "\n",
    "# Print the current price of ETH\n",
    "print(f\"The current price for Ethereum is ${eth_price:0.2f}\")\n"
   ]
  },
  {
   "cell_type": "markdown",
   "metadata": {},
   "source": [
    "### Step 4: Calculate the value, in US dollars, of the current amount of each cryptocurrency and of the entire cryptocurrency wallet."
   ]
  },
  {
   "cell_type": "code",
   "execution_count": 10,
   "metadata": {},
   "outputs": [
    {
     "name": "stdout",
     "output_type": "stream",
     "text": [
      "The current value of your Bitcoin holdings is $25468.80\n"
     ]
    }
   ],
   "source": [
    "# Compute the current value of the BTC holding \n",
    "btc_value = btc_coins * btc_price\n",
    "\n",
    "# Print current value of your holding in BTC\n",
    "print(f\"The current value of your Bitcoin holdings is ${btc_value:0.2f}\")\n"
   ]
  },
  {
   "cell_type": "code",
   "execution_count": 11,
   "metadata": {},
   "outputs": [
    {
     "name": "stdout",
     "output_type": "stream",
     "text": [
      "The current value of your Ethereum holdings is $6349.03\n"
     ]
    }
   ],
   "source": [
    "# Compute the current value of the ETH holding \n",
    "eth_value = eth_coins * eth_price\n",
    "\n",
    "# Print current value of your holding in ETH\n",
    "print(f\"The current value of your Ethereum holdings is ${eth_value:0.2f}\")\n"
   ]
  },
  {
   "cell_type": "code",
   "execution_count": 12,
   "metadata": {},
   "outputs": [
    {
     "name": "stdout",
     "output_type": "stream",
     "text": [
      "Your total cryptocurrency current wallet balance is $31817.83\n"
     ]
    }
   ],
   "source": [
    "# Compute the total value of the cryptocurrency wallet\n",
    "# Add the value of the BTC holding to the value of the ETH holding\n",
    "total_crypto_wallet = btc_value + eth_value\n",
    "\n",
    "# Print current cryptocurrency wallet balance\n",
    "print(f\"Your total cryptocurrency current wallet balance is ${total_crypto_wallet:0.2f}\")\n"
   ]
  },
  {
   "cell_type": "markdown",
   "metadata": {
    "tags": []
   },
   "source": [
    "### Evaluate the Stock and Bond Holdings by Using the Alpaca SDK\n",
    "\n",
    "In this section, you’ll determine the current value of a member’s stock and bond holdings. You’ll make an API call to Alpaca via the Alpaca SDK to get the current closing prices of the SPDR S&P 500 ETF Trust (ticker: SPY) and of the iShares Core US Aggregate Bond ETF (ticker: AGG). For the prototype, assume that the member holds 110 shares of SPY, which represents the stock portion of their portfolio, and 200 shares of AGG, which represents the bond portion. To do all this, complete the following steps:\n",
    "\n",
    "1. In the `Starter_Code` folder, create an environment file (`.env`) to store the values of your Alpaca API key and Alpaca secret key.\n",
    "\n",
    "2. Set the variables for the Alpaca API and secret keys. Using the Alpaca SDK, create the Alpaca `tradeapi.REST` object. In this object, include the parameters for the Alpaca API key, the secret key, and the version number.\n",
    "\n",
    "3. Set the following parameters for the Alpaca API call:\n",
    "\n",
    "    - `tickers`: Use the tickers for the member’s stock and bond holdings.\n",
    "\n",
    "    - `timeframe`: Use a time frame of one day.\n",
    "\n",
    "    - `start_date` and `end_date`: Use the same date for these parameters, and format them with the date of the previous weekday (or `2020-08-07`). This is because you want the one closing price for the most-recent trading day.\n",
    "\n",
    "4. Get the current closing prices for `SPY` and `AGG` by using the Alpaca `get_bars` function. Format the response as a Pandas DataFrame by including the `df` property at the end of the `get_bars` function.\n",
    "\n",
    "5. Navigating the Alpaca response DataFrame, select the `SPY` and `AGG` closing prices, and store them as variables.\n",
    "\n",
    "6. Calculate the value, in US dollars, of the current amount of shares in each of the stock and bond portions of the portfolio, and print the results.\n"
   ]
  },
  {
   "cell_type": "markdown",
   "metadata": {},
   "source": [
    "#### Review the total number of shares held in both (SPY) and (AGG)."
   ]
  },
  {
   "cell_type": "code",
   "execution_count": 13,
   "metadata": {},
   "outputs": [],
   "source": [
    "# Current amount of shares held in both the stock (SPY) and bond (AGG) portion of the portfolio.\n",
    "spy_shares = 110\n",
    "agg_shares = 200\n"
   ]
  },
  {
   "cell_type": "markdown",
   "metadata": {},
   "source": [
    "#### Step 1: In the `Starter_Code` folder, create an environment file (`.env`) to store the values of your Alpaca API key and Alpaca secret key."
   ]
  },
  {
   "cell_type": "markdown",
   "metadata": {},
   "source": [
    "#### Step 2: Set the variables for the Alpaca API and secret keys. Using the Alpaca SDK, create the Alpaca `tradeapi.REST` object. In this object, include the parameters for the Alpaca API key, the secret key, and the version number."
   ]
  },
  {
   "cell_type": "code",
   "execution_count": 14,
   "metadata": {},
   "outputs": [
    {
     "name": "stdout",
     "output_type": "stream",
     "text": [
      "<class 'str'>\n",
      "<class 'str'>\n"
     ]
    }
   ],
   "source": [
    "# Set the variables for the Alpaca API and secret keys\n",
    "alpaca_api_key = os.getenv(\"ALPACA_API_KEY\")\n",
    "alpaca_secret_key = os.getenv(\"ALPACA_SECRET_KEY\")\n",
    "print(type(alpaca_api_key))\n",
    "print(type(alpaca_secret_key))\n",
    "\n",
    "# Create the Alpaca tradeapi.REST object\n",
    "alpaca = tradeapi.REST(alpaca_api_key, alpaca_secret_key, api_version=\"v2\")\n"
   ]
  },
  {
   "cell_type": "markdown",
   "metadata": {},
   "source": [
    "#### Step 3: Set the following parameters for the Alpaca API call:\n",
    "\n",
    "- `tickers`: Use the tickers for the member’s stock and bond holdings.\n",
    "\n",
    "- `timeframe`: Use a time frame of one day.\n",
    "\n",
    "- `start_date` and `end_date`: Use the same date for these parameters, and format them with the date of the previous weekday (or `2020-08-07`). This is because you want the one closing price for the most-recent trading day.\n"
   ]
  },
  {
   "cell_type": "code",
   "execution_count": 15,
   "metadata": {},
   "outputs": [
    {
     "data": {
      "text/plain": [
       "'2022-06-24'"
      ]
     },
     "execution_count": 15,
     "metadata": {},
     "output_type": "execute_result"
    }
   ],
   "source": [
    "# Get a formatted date for the prior business day.  Used in API calls for obtaining prices from last market close.\n",
    "\n",
    "today = datetime.datetime.today()\n",
    "# BDay is business day, not birthday.  Used to calculate prior business day for closing market prices.\n",
    "prior_business_day = today - BDay(1)\n",
    "prior_business_day_str = prior_business_day.strftime ('%Y-%m-%d') # formats the date to YYYY-MM-DD and stores as a string\n",
    "prior_business_day_str"
   ]
  },
  {
   "cell_type": "code",
   "execution_count": 16,
   "metadata": {},
   "outputs": [],
   "source": [
    "# Set the tickers for both the bond and stock portion of the portfolio\n",
    "tickers = ['SPY', 'AGG']\n",
    "\n",
    "# Set timeframe to 1Day\n",
    "timeframe = '1Day'\n",
    "\n",
    "# Format current date as ISO format\n",
    "# Set both the start and end date at the date of your prior weekday \n",
    "# This will give you the closing price of the previous trading day\n",
    "# Alternatively you can use a start and end date of 2020-08-07\n",
    "start_date = pd.Timestamp(prior_business_day_str, tz=\"America/New_York\").isoformat()\n",
    "end_date = pd.Timestamp(prior_business_day_str, tz=\"America/New_York\").isoformat()"
   ]
  },
  {
   "cell_type": "markdown",
   "metadata": {},
   "source": [
    "#### Step 4: Get the current closing prices for `SPY` and `AGG` by using the Alpaca `get_bars` function. Format the response as a Pandas DataFrame by including the `df` property at the end of the `get_bars` function."
   ]
  },
  {
   "cell_type": "code",
   "execution_count": 17,
   "metadata": {},
   "outputs": [
    {
     "data": {
      "text/html": [
       "<div>\n",
       "<style scoped>\n",
       "    .dataframe tbody tr th:only-of-type {\n",
       "        vertical-align: middle;\n",
       "    }\n",
       "\n",
       "    .dataframe tbody tr th {\n",
       "        vertical-align: top;\n",
       "    }\n",
       "\n",
       "    .dataframe thead tr th {\n",
       "        text-align: left;\n",
       "    }\n",
       "\n",
       "    .dataframe thead tr:last-of-type th {\n",
       "        text-align: right;\n",
       "    }\n",
       "</style>\n",
       "<table border=\"1\" class=\"dataframe\">\n",
       "  <thead>\n",
       "    <tr>\n",
       "      <th></th>\n",
       "      <th colspan=\"7\" halign=\"left\">SPY</th>\n",
       "      <th colspan=\"7\" halign=\"left\">AGG</th>\n",
       "    </tr>\n",
       "    <tr>\n",
       "      <th></th>\n",
       "      <th>open</th>\n",
       "      <th>high</th>\n",
       "      <th>low</th>\n",
       "      <th>close</th>\n",
       "      <th>volume</th>\n",
       "      <th>trade_count</th>\n",
       "      <th>vwap</th>\n",
       "      <th>open</th>\n",
       "      <th>high</th>\n",
       "      <th>low</th>\n",
       "      <th>close</th>\n",
       "      <th>volume</th>\n",
       "      <th>trade_count</th>\n",
       "      <th>vwap</th>\n",
       "    </tr>\n",
       "    <tr>\n",
       "      <th>timestamp</th>\n",
       "      <th></th>\n",
       "      <th></th>\n",
       "      <th></th>\n",
       "      <th></th>\n",
       "      <th></th>\n",
       "      <th></th>\n",
       "      <th></th>\n",
       "      <th></th>\n",
       "      <th></th>\n",
       "      <th></th>\n",
       "      <th></th>\n",
       "      <th></th>\n",
       "      <th></th>\n",
       "      <th></th>\n",
       "    </tr>\n",
       "  </thead>\n",
       "  <tbody>\n",
       "    <tr>\n",
       "      <th>2022-06-24 04:00:00+00:00</th>\n",
       "      <td>381.43</td>\n",
       "      <td>390.09</td>\n",
       "      <td>381.365</td>\n",
       "      <td>390.08</td>\n",
       "      <td>97628636</td>\n",
       "      <td>628275</td>\n",
       "      <td>386.72431</td>\n",
       "      <td>101.11</td>\n",
       "      <td>101.47</td>\n",
       "      <td>100.995</td>\n",
       "      <td>101.05</td>\n",
       "      <td>7379452</td>\n",
       "      <td>22965</td>\n",
       "      <td>101.093993</td>\n",
       "    </tr>\n",
       "  </tbody>\n",
       "</table>\n",
       "</div>"
      ],
      "text/plain": [
       "                              SPY                                     \\\n",
       "                             open    high      low   close    volume   \n",
       "timestamp                                                              \n",
       "2022-06-24 04:00:00+00:00  381.43  390.09  381.365  390.08  97628636   \n",
       "\n",
       "                                                     AGG                   \\\n",
       "                          trade_count       vwap    open    high      low   \n",
       "timestamp                                                                   \n",
       "2022-06-24 04:00:00+00:00      628275  386.72431  101.11  101.47  100.995   \n",
       "\n",
       "                                                                    \n",
       "                            close   volume trade_count        vwap  \n",
       "timestamp                                                           \n",
       "2022-06-24 04:00:00+00:00  101.05  7379452       22965  101.093993  "
      ]
     },
     "execution_count": 17,
     "metadata": {},
     "output_type": "execute_result"
    }
   ],
   "source": [
    "# Use the Alpaca get_bars function to get current closing prices the portfolio\n",
    "# Be sure to set the `df` property after the function to format the response object as a DataFrame\n",
    "portfolio_df = alpaca.get_bars(\n",
    "    tickers,\n",
    "    timeframe,\n",
    "    start=start_date,\n",
    "    end=end_date).df\n",
    "\n",
    "# Reorganize the DataFrame\n",
    "# Separate ticker data\n",
    "SPY = portfolio_df[portfolio_df['symbol']=='SPY'].drop('symbol', axis=1)\n",
    "AGG = portfolio_df[portfolio_df['symbol']=='AGG'].drop('symbol', axis=1)\n",
    "\n",
    "# Concatenate the ticker DataFrames\n",
    "portfolio_df = pd.concat([SPY,AGG], axis=1, keys=['SPY','AGG'])\n",
    "\n",
    "# Review the first 5 rows of the Alpaca DataFrame\n",
    "portfolio_df.head()\n"
   ]
  },
  {
   "cell_type": "markdown",
   "metadata": {},
   "source": [
    "#### Step 5: Navigating the Alpaca response DataFrame, select the `SPY` and `AGG` closing prices, and store them as variables."
   ]
  },
  {
   "cell_type": "code",
   "execution_count": 18,
   "metadata": {},
   "outputs": [
    {
     "name": "stdout",
     "output_type": "stream",
     "text": [
      "The AGG closing price is $101.05\n"
     ]
    }
   ],
   "source": [
    "# Access the closing price for AGG from the Alpaca DataFrame\n",
    "# Converting the value to a floating point number\n",
    "agg_close_price = float(portfolio_df[\"AGG\"][\"close\"])\n",
    "\n",
    "# Print the AGG closing price\n",
    "print(f\"The AGG closing price is ${agg_close_price:0.2f}\")\n"
   ]
  },
  {
   "cell_type": "code",
   "execution_count": 19,
   "metadata": {},
   "outputs": [
    {
     "name": "stdout",
     "output_type": "stream",
     "text": [
      "The SPY closing price is $390.08\n"
     ]
    }
   ],
   "source": [
    "# Access the closing price for SPY from the Alpaca DataFrame\n",
    "# Converting the value to a floating point number\n",
    "spy_close_price = float(portfolio_df[\"SPY\"][\"close\"])\n",
    "\n",
    "# Print the SPY closing price\n",
    "print(f\"The SPY closing price is ${spy_close_price:0.2f}\")\n"
   ]
  },
  {
   "cell_type": "markdown",
   "metadata": {},
   "source": [
    "#### Step 6: Calculate the value, in US dollars, of the current amount of shares in each of the stock and bond portions of the portfolio, and print the results."
   ]
  },
  {
   "cell_type": "code",
   "execution_count": 20,
   "metadata": {},
   "outputs": [
    {
     "name": "stdout",
     "output_type": "stream",
     "text": [
      "The current value of the bond portfolio is $20210.00\n"
     ]
    }
   ],
   "source": [
    "# Calculate the current value of the bond portion of the portfolio\n",
    "agg_value = agg_shares * agg_close_price\n",
    "\n",
    "# Print the current value of the bond portfolio\n",
    "print(f\"The current value of the bond portfolio is ${agg_value:0.2f}\")\n"
   ]
  },
  {
   "cell_type": "code",
   "execution_count": 21,
   "metadata": {},
   "outputs": [
    {
     "name": "stdout",
     "output_type": "stream",
     "text": [
      "The current value of the stock portfolio is $42908.80\n"
     ]
    }
   ],
   "source": [
    "# Calculate the current value of the stock portion of the portfolio\n",
    "spy_value = spy_shares * spy_close_price\n",
    "\n",
    "# Print the current value of the stock portfolio\n",
    "print(f\"The current value of the stock portfolio is ${spy_value:0.2f}\")\n"
   ]
  },
  {
   "cell_type": "code",
   "execution_count": 22,
   "metadata": {},
   "outputs": [
    {
     "name": "stdout",
     "output_type": "stream",
     "text": [
      "The current balance of the stock and bond portion of the portfolio is $63118.80\n"
     ]
    }
   ],
   "source": [
    "# Calculate the total value of the stock and bond portion of the portfolio\n",
    "total_stocks_bonds = agg_value + spy_value\n",
    "\n",
    "# Print the current balance of the stock and bond portion of the portfolio\n",
    "print(f\"The current balance of the stock and bond portion of the portfolio is ${total_stocks_bonds:0.2f}\")\n"
   ]
  },
  {
   "cell_type": "code",
   "execution_count": 23,
   "metadata": {},
   "outputs": [
    {
     "name": "stdout",
     "output_type": "stream",
     "text": [
      "The total value of your entire savings portfolio is $94936.63\n"
     ]
    }
   ],
   "source": [
    "# Calculate the total value of the member's entire savings portfolio\n",
    "# Add the value of the cryptocurrency walled to the value of the total stocks and bonds\n",
    "total_portfolio = total_crypto_wallet + total_stocks_bonds\n",
    "\n",
    "# Print the total value of the member's entire savings portfolio\n",
    "print(f\"The total value of your entire savings portfolio is ${total_portfolio:0.2f}\")\n"
   ]
  },
  {
   "cell_type": "markdown",
   "metadata": {},
   "source": [
    "### Evaluate the Emergency Fund\n",
    "\n",
    "In this section, you’ll use the valuations for the cryptocurrency wallet and for the stock and bond portions of the portfolio to determine if the credit union member has enough savings to build an emergency fund into their financial plan. To do this, complete the following steps:\n",
    "\n",
    "1. Create a Python list named `savings_data` that has two elements. The first element contains the total value of the cryptocurrency wallet. The second element contains the total value of the stock and bond portions of the portfolio.\n",
    "\n",
    "2. Use the `savings_data` list to create a Pandas DataFrame named `savings_df`, and then display this DataFrame. The function to create the DataFrame should take the following three parameters:\n",
    "\n",
    "    - `savings_data`: Use the list that you just created.\n",
    "\n",
    "    - `columns`: Set this parameter equal to a Python list with a single value called `amount`.\n",
    "\n",
    "    - `index`: Set this parameter equal to a Python list with the values of `crypto` and `stock/bond`.\n",
    "\n",
    "3. Use the `savings_df` DataFrame to plot a pie chart that visualizes the composition of the member’s portfolio. The y-axis of the pie chart uses `amount`. Be sure to add a title.\n",
    "\n",
    "4. Using Python, determine if the current portfolio has enough to create an emergency fund as part of the member’s financial plan. Ideally, an emergency fund should equal to three times the member’s monthly income. To do this, implement the following steps:\n",
    "\n",
    "    1. Create a variable named `emergency_fund_value`, and set it equal to three times the value of the member’s `monthly_income` of $12000. (You set this earlier in Part 1).\n",
    "\n",
    "    2. Create a series of three if statements to determine if the member’s total portfolio is large enough to fund the emergency portfolio:\n",
    "\n",
    "        1. If the total portfolio value is greater than the emergency fund value, display a message congratulating the member for having enough money in this fund.\n",
    "\n",
    "        2. Else if the total portfolio value is equal to the emergency fund value, display a message congratulating the member on reaching this important financial goal.\n",
    "\n",
    "        3. Else the total portfolio is less than the emergency fund value, so display a message showing how many dollars away the member is from reaching the goal. (Subtract the total portfolio value from the emergency fund value.)\n"
   ]
  },
  {
   "cell_type": "markdown",
   "metadata": {},
   "source": [
    "#### Step 1: Create a Python list named `savings_data` that has two elements. The first element contains the total value of the cryptocurrency wallet. The second element contains the total value of the stock and bond portions of the portfolio."
   ]
  },
  {
   "cell_type": "code",
   "execution_count": 24,
   "metadata": {},
   "outputs": [
    {
     "data": {
      "text/plain": [
       "[31817.828999999998, 63118.799999999996]"
      ]
     },
     "execution_count": 24,
     "metadata": {},
     "output_type": "execute_result"
    }
   ],
   "source": [
    "# Consolidate financial assets data into a Python list\n",
    "savings_data = [total_crypto_wallet, total_stocks_bonds]\n",
    "\n",
    "# Review the Python list savings_data\n",
    "savings_data\n",
    "    "
   ]
  },
  {
   "cell_type": "markdown",
   "metadata": {},
   "source": [
    "#### Step 2: Use the `savings_data` list to create a Pandas DataFrame named `savings_df`, and then display this DataFrame. The function to create the DataFrame should take the following three parameters:\n",
    "\n",
    "- `savings_data`: Use the list that you just created.\n",
    "\n",
    "- `columns`: Set this parameter equal to a Python list with a single value called `amount`.\n",
    "\n",
    "- `index`: Set this parameter equal to a Python list with the values of `crypto` and `stock/bond`.\n"
   ]
  },
  {
   "cell_type": "code",
   "execution_count": 25,
   "metadata": {},
   "outputs": [
    {
     "data": {
      "text/html": [
       "<div>\n",
       "<style scoped>\n",
       "    .dataframe tbody tr th:only-of-type {\n",
       "        vertical-align: middle;\n",
       "    }\n",
       "\n",
       "    .dataframe tbody tr th {\n",
       "        vertical-align: top;\n",
       "    }\n",
       "\n",
       "    .dataframe thead th {\n",
       "        text-align: right;\n",
       "    }\n",
       "</style>\n",
       "<table border=\"1\" class=\"dataframe\">\n",
       "  <thead>\n",
       "    <tr style=\"text-align: right;\">\n",
       "      <th></th>\n",
       "      <th>amount</th>\n",
       "    </tr>\n",
       "  </thead>\n",
       "  <tbody>\n",
       "    <tr>\n",
       "      <th>crypto</th>\n",
       "      <td>31817.829</td>\n",
       "    </tr>\n",
       "    <tr>\n",
       "      <th>stock/bond</th>\n",
       "      <td>63118.800</td>\n",
       "    </tr>\n",
       "  </tbody>\n",
       "</table>\n",
       "</div>"
      ],
      "text/plain": [
       "               amount\n",
       "crypto      31817.829\n",
       "stock/bond  63118.800"
      ]
     },
     "execution_count": 25,
     "metadata": {},
     "output_type": "execute_result"
    }
   ],
   "source": [
    "# Create a Pandas DataFrame called savings_df \n",
    "savings_df = pd.DataFrame(data=savings_data, columns=['amount'], index=['crypto', 'stock/bond'])\n",
    "\n",
    "# Display the savings_df DataFrame\n",
    "savings_df\n"
   ]
  },
  {
   "cell_type": "markdown",
   "metadata": {},
   "source": [
    "#### Step 3: Use the `savings_df` DataFrame to plot a pie chart that visualizes the composition of the member’s portfolio. The y-axis of the pie chart uses `amount`. Be sure to add a title."
   ]
  },
  {
   "cell_type": "code",
   "execution_count": 26,
   "metadata": {},
   "outputs": [
    {
     "data": {
      "text/plain": [
       "<AxesSubplot:title={'center':'Breakdown of Total Portfolio Value'}, ylabel='amount'>"
      ]
     },
     "execution_count": 26,
     "metadata": {},
     "output_type": "execute_result"
    },
    {
     "data": {
      "image/png": "[encoded data removed]",
      "text/plain": [
       "<Figure size 576x576 with 1 Axes>"
      ]
     },
     "metadata": {},
     "output_type": "display_data"
    }
   ],
   "source": [
    "# Plot the total value of the member's portfolio (crypto and stock/bond) in a pie chart\n",
    "savings_df.plot.pie(y='amount', figsize=(8, 8), title=\"Breakdown of Total Portfolio Value\")\n"
   ]
  },
  {
   "cell_type": "markdown",
   "metadata": {},
   "source": [
    "#### Step 4: Using Python, determine if the current portfolio has enough to create an emergency fund as part of the member’s financial plan. Ideally, an emergency fund should equal to three times the member’s monthly income. To do this, implement the following steps:\n",
    "\n",
    "Step 1. Create a variable named `emergency_fund_value`, and set it equal to three times the value of the member’s `monthly_income` of 12000. (You set this earlier in Part 1).\n",
    "\n",
    "Step 2. Create a series of three if statements to determine if the member’s total portfolio is large enough to fund the emergency portfolio:\n",
    "\n",
    "* If the total portfolio value is greater than the emergency fund value, display a message congratulating the member for having enough money in this fund.\n",
    "\n",
    "* Else if the total portfolio value is equal to the emergency fund value, display a message congratulating the member on reaching this important financial goal.\n",
    "\n",
    "* Else the total portfolio is less than the emergency fund value, so display a message showing how many dollars away the member is from reaching the goal. (Subtract the total portfolio value from the emergency fund value.)\n"
   ]
  },
  {
   "cell_type": "markdown",
   "metadata": {},
   "source": [
    "##### Step 4-1: Create a variable named `emergency_fund_value`, and set it equal to three times the value of the member’s `monthly_income` of 12000. (You set this earlier in Part 1)."
   ]
  },
  {
   "cell_type": "code",
   "execution_count": 27,
   "metadata": {},
   "outputs": [],
   "source": [
    "# Create a variable named emergency_fund_value\n",
    "emergency_fund_value = 3 * monthly_income\n"
   ]
  },
  {
   "cell_type": "markdown",
   "metadata": {},
   "source": [
    "##### Step 4-2: Create a series of three if statements to determine if the member’s total portfolio is large enough to fund the emergency portfolio:\n",
    "\n",
    "* If the total portfolio value is greater than the emergency fund value, display a message congratulating the member for having enough money in this fund.\n",
    "\n",
    "* Else if the total portfolio value is equal to the emergency fund value, display a message congratulating the member on reaching this important financial goal.\n",
    "\n",
    "* Else the total portfolio is less than the emergency fund value, so display a message showing how many dollars away the member is from reaching the goal. (Subtract the total portfolio value from the emergency fund value.)"
   ]
  },
  {
   "cell_type": "code",
   "execution_count": 28,
   "metadata": {},
   "outputs": [
    {
     "name": "stdout",
     "output_type": "stream",
     "text": [
      "Congratulations! You have more than enough money saved to cover emergencies, with $58936.63 to spare.\n"
     ]
    }
   ],
   "source": [
    "# Evaluate the possibility of creating an emergency fund with 3 conditions:\n",
    "if total_portfolio > emergency_fund_value:\n",
    "    print(f\"Congratulations! You have more than enough money saved to cover emergencies, with ${total_portfolio - emergency_fund_value:0.2f} to spare.\")\n",
    "elif total_portfolio == emergency_fund_value:\n",
    "    print(\"Congratulations! You have just enough money saved to cover emergencies.\")\n",
    "else:\n",
    "    print(f\"Almost there! You'll need to save an additional ${emergency_fund_value - total_portfolio:0.2f} to fully fund your emergency fund.\")\n"
   ]
  },
  {
   "cell_type": "markdown",
   "metadata": {},
   "source": [
    "## Part 2: Create a Financial Planner for Retirement"
   ]
  },
  {
   "cell_type": "markdown",
   "metadata": {},
   "source": [
    "### Create the Monte Carlo Simulation\n",
    "\n",
    "In this section, you’ll use the MCForecastTools library to create a Monte Carlo simulation for the member’s savings portfolio. To do this, complete the following steps:\n",
    "\n",
    "1. Make an API call via the Alpaca SDK to get 3 years of historical closing prices for a traditional 60/40 portfolio split: 60% stocks (SPY) and 40% bonds (AGG).\n",
    "\n",
    "2. Run a Monte Carlo simulation of 500 samples and 30 years for the 60/40 portfolio, and then plot the results.The following image shows the overlay line plot resulting from a simulation with these characteristics. However, because a random number generator is used to run each live Monte Carlo simulation, your image will differ slightly from this exact image:\n",
    "\n",
    "![A screenshot depicts the resulting plot.](Images/5-4-monte-carlo-line-plot.png)\n",
    "\n",
    "3. Plot the probability distribution of the Monte Carlo simulation. Plot the probability distribution of the Monte Carlo simulation. The following image shows the histogram plot resulting from a simulation with these characteristics. However, because a random number generator is used to run each live Monte Carlo simulation, your image will differ slightly from this exact image:\n",
    "\n",
    "![A screenshot depicts the histogram plot.](Images/5-4-monte-carlo-histogram.png)\n",
    "\n",
    "4. Generate the summary statistics for the Monte Carlo simulation.\n",
    "\n"
   ]
  },
  {
   "cell_type": "markdown",
   "metadata": {},
   "source": [
    "#### Step 1: Make an API call via the Alpaca SDK to get 3 years of historical closing prices for a traditional 60/40 portfolio split: 60% stocks (SPY) and 40% bonds (AGG)."
   ]
  },
  {
   "cell_type": "code",
   "execution_count": 47,
   "metadata": {},
   "outputs": [
    {
     "name": "stdout",
     "output_type": "stream",
     "text": [
      "2022-06-24\n",
      "2019-06-25\n"
     ]
    }
   ],
   "source": [
    "# Set start and end dates of 3 years back from your current date\n",
    "# Alternatively, you can use an end date of 2020-08-07 and work 3 years back from that date \n",
    "\n",
    "print(prior_business_day_str) # from Financial Planner for Emergencies coding\n",
    "\n",
    "three_years_ago = prior_business_day - datetime.timedelta(days=365*3)  # does not reflect leap years, but that's ok for our purposes \n",
    "three_years_ago_str = three_years_ago.strftime ('%Y-%m-%d') # formats the date to YYYY-MM-DD and stores as a string\n",
    "print(three_years_ago_str)\n",
    "\n",
    "start_date_2 = pd.Timestamp(three_years_ago_str, tz=\"America/New_York\").isoformat()\n",
    "end_date_2 = pd.Timestamp(prior_business_day_str, tz=\"America/New_York\").isoformat()"
   ]
  },
  {
   "cell_type": "code",
   "execution_count": 30,
   "metadata": {},
   "outputs": [
    {
     "data": {
      "text/html": [
       "<div>\n",
       "<style scoped>\n",
       "    .dataframe tbody tr th:only-of-type {\n",
       "        vertical-align: middle;\n",
       "    }\n",
       "\n",
       "    .dataframe tbody tr th {\n",
       "        vertical-align: top;\n",
       "    }\n",
       "\n",
       "    .dataframe thead tr th {\n",
       "        text-align: left;\n",
       "    }\n",
       "\n",
       "    .dataframe thead tr:last-of-type th {\n",
       "        text-align: right;\n",
       "    }\n",
       "</style>\n",
       "<table border=\"1\" class=\"dataframe\">\n",
       "  <thead>\n",
       "    <tr>\n",
       "      <th></th>\n",
       "      <th>SPY</th>\n",
       "      <th>AGG</th>\n",
       "    </tr>\n",
       "    <tr>\n",
       "      <th></th>\n",
       "      <th>close</th>\n",
       "      <th>close</th>\n",
       "    </tr>\n",
       "    <tr>\n",
       "      <th>timestamp</th>\n",
       "      <th></th>\n",
       "      <th></th>\n",
       "    </tr>\n",
       "  </thead>\n",
       "  <tbody>\n",
       "    <tr>\n",
       "      <th>2019-06-25 04:00:00+00:00</th>\n",
       "      <td>290.76</td>\n",
       "      <td>111.34</td>\n",
       "    </tr>\n",
       "    <tr>\n",
       "      <th>2019-06-26 04:00:00+00:00</th>\n",
       "      <td>290.47</td>\n",
       "      <td>111.09</td>\n",
       "    </tr>\n",
       "    <tr>\n",
       "      <th>2019-06-27 04:00:00+00:00</th>\n",
       "      <td>291.50</td>\n",
       "      <td>111.40</td>\n",
       "    </tr>\n",
       "    <tr>\n",
       "      <th>2019-06-28 04:00:00+00:00</th>\n",
       "      <td>293.00</td>\n",
       "      <td>111.35</td>\n",
       "    </tr>\n",
       "    <tr>\n",
       "      <th>2019-07-01 04:00:00+00:00</th>\n",
       "      <td>295.66</td>\n",
       "      <td>111.18</td>\n",
       "    </tr>\n",
       "    <tr>\n",
       "      <th>...</th>\n",
       "      <td>...</td>\n",
       "      <td>...</td>\n",
       "    </tr>\n",
       "    <tr>\n",
       "      <th>2022-06-17 04:00:00+00:00</th>\n",
       "      <td>365.86</td>\n",
       "      <td>100.34</td>\n",
       "    </tr>\n",
       "    <tr>\n",
       "      <th>2022-06-21 04:00:00+00:00</th>\n",
       "      <td>375.07</td>\n",
       "      <td>99.94</td>\n",
       "    </tr>\n",
       "    <tr>\n",
       "      <th>2022-06-22 04:00:00+00:00</th>\n",
       "      <td>374.39</td>\n",
       "      <td>100.79</td>\n",
       "    </tr>\n",
       "    <tr>\n",
       "      <th>2022-06-23 04:00:00+00:00</th>\n",
       "      <td>378.06</td>\n",
       "      <td>101.21</td>\n",
       "    </tr>\n",
       "    <tr>\n",
       "      <th>2022-06-24 04:00:00+00:00</th>\n",
       "      <td>390.08</td>\n",
       "      <td>101.05</td>\n",
       "    </tr>\n",
       "  </tbody>\n",
       "</table>\n",
       "<p>757 rows × 2 columns</p>\n",
       "</div>"
      ],
      "text/plain": [
       "                              SPY     AGG\n",
       "                            close   close\n",
       "timestamp                                \n",
       "2019-06-25 04:00:00+00:00  290.76  111.34\n",
       "2019-06-26 04:00:00+00:00  290.47  111.09\n",
       "2019-06-27 04:00:00+00:00  291.50  111.40\n",
       "2019-06-28 04:00:00+00:00  293.00  111.35\n",
       "2019-07-01 04:00:00+00:00  295.66  111.18\n",
       "...                           ...     ...\n",
       "2022-06-17 04:00:00+00:00  365.86  100.34\n",
       "2022-06-21 04:00:00+00:00  375.07   99.94\n",
       "2022-06-22 04:00:00+00:00  374.39  100.79\n",
       "2022-06-23 04:00:00+00:00  378.06  101.21\n",
       "2022-06-24 04:00:00+00:00  390.08  101.05\n",
       "\n",
       "[757 rows x 2 columns]"
      ]
     },
     "execution_count": 30,
     "metadata": {},
     "output_type": "execute_result"
    }
   ],
   "source": [
    "# Use the Alpaca get_bars function to make the API call to get the 3 years worth of pricing data\n",
    "# The tickers and timeframe parameters should have been set in Part 1 of this activity \n",
    "# The start and end dates should be updated with the information set above\n",
    "# Remember to add the df property to the end of the call so the response is returned as a DataFrame\n",
    "portfolio_2_df = alpaca.get_bars(\n",
    "    tickers,\n",
    "    timeframe,\n",
    "    start=start_date_2,\n",
    "    end=end_date_2).df\n",
    "\n",
    "# Take only the \"close\" and \"symbol\" columns for the dataframe.\n",
    "portfolio_2_df = portfolio_2_df[[\"close\", \"symbol\"]]\n",
    "\n",
    "# Reorganize the DataFrame\n",
    "# Separate ticker data\n",
    "SPY_2 = portfolio_2_df[portfolio_2_df['symbol']=='SPY'].drop('symbol', axis=1)\n",
    "AGG_2 = portfolio_2_df[portfolio_2_df['symbol']=='AGG'].drop('symbol', axis=1)\n",
    "\n",
    "# Concatenate the ticker DataFrames\n",
    "portfolio_2_df = pd.concat([SPY_2,AGG_2], axis=1, keys=['SPY','AGG'])\n",
    "\n",
    "# Display both the first and last five rows of the DataFrame\n",
    "portfolio_2_df\n"
   ]
  },
  {
   "cell_type": "markdown",
   "metadata": {},
   "source": [
    "#### Step 2: Run a Monte Carlo simulation of 500 samples and 30 years for the 60/40 portfolio, and then plot the results."
   ]
  },
  {
   "cell_type": "code",
   "execution_count": 31,
   "metadata": {},
   "outputs": [
    {
     "data": {
      "text/html": [
       "<div>\n",
       "<style scoped>\n",
       "    .dataframe tbody tr th:only-of-type {\n",
       "        vertical-align: middle;\n",
       "    }\n",
       "\n",
       "    .dataframe tbody tr th {\n",
       "        vertical-align: top;\n",
       "    }\n",
       "\n",
       "    .dataframe thead tr th {\n",
       "        text-align: left;\n",
       "    }\n",
       "\n",
       "    .dataframe thead tr:last-of-type th {\n",
       "        text-align: right;\n",
       "    }\n",
       "</style>\n",
       "<table border=\"1\" class=\"dataframe\">\n",
       "  <thead>\n",
       "    <tr>\n",
       "      <th></th>\n",
       "      <th colspan=\"2\" halign=\"left\">SPY</th>\n",
       "      <th colspan=\"2\" halign=\"left\">AGG</th>\n",
       "    </tr>\n",
       "    <tr>\n",
       "      <th></th>\n",
       "      <th>close</th>\n",
       "      <th>daily_return</th>\n",
       "      <th>close</th>\n",
       "      <th>daily_return</th>\n",
       "    </tr>\n",
       "    <tr>\n",
       "      <th>timestamp</th>\n",
       "      <th></th>\n",
       "      <th></th>\n",
       "      <th></th>\n",
       "      <th></th>\n",
       "    </tr>\n",
       "  </thead>\n",
       "  <tbody>\n",
       "    <tr>\n",
       "      <th>2019-06-25 04:00:00+00:00</th>\n",
       "      <td>290.76</td>\n",
       "      <td>NaN</td>\n",
       "      <td>111.34</td>\n",
       "      <td>NaN</td>\n",
       "    </tr>\n",
       "    <tr>\n",
       "      <th>2019-06-26 04:00:00+00:00</th>\n",
       "      <td>290.47</td>\n",
       "      <td>-0.000997</td>\n",
       "      <td>111.09</td>\n",
       "      <td>-0.002245</td>\n",
       "    </tr>\n",
       "    <tr>\n",
       "      <th>2019-06-27 04:00:00+00:00</th>\n",
       "      <td>291.50</td>\n",
       "      <td>0.003546</td>\n",
       "      <td>111.40</td>\n",
       "      <td>0.002791</td>\n",
       "    </tr>\n",
       "    <tr>\n",
       "      <th>2019-06-28 04:00:00+00:00</th>\n",
       "      <td>293.00</td>\n",
       "      <td>0.005146</td>\n",
       "      <td>111.35</td>\n",
       "      <td>-0.000449</td>\n",
       "    </tr>\n",
       "    <tr>\n",
       "      <th>2019-07-01 04:00:00+00:00</th>\n",
       "      <td>295.66</td>\n",
       "      <td>0.009078</td>\n",
       "      <td>111.18</td>\n",
       "      <td>-0.001527</td>\n",
       "    </tr>\n",
       "    <tr>\n",
       "      <th>...</th>\n",
       "      <td>...</td>\n",
       "      <td>...</td>\n",
       "      <td>...</td>\n",
       "      <td>...</td>\n",
       "    </tr>\n",
       "    <tr>\n",
       "      <th>2022-06-17 04:00:00+00:00</th>\n",
       "      <td>365.86</td>\n",
       "      <td>-0.002155</td>\n",
       "      <td>100.34</td>\n",
       "      <td>-0.000100</td>\n",
       "    </tr>\n",
       "    <tr>\n",
       "      <th>2022-06-21 04:00:00+00:00</th>\n",
       "      <td>375.07</td>\n",
       "      <td>0.025174</td>\n",
       "      <td>99.94</td>\n",
       "      <td>-0.003986</td>\n",
       "    </tr>\n",
       "    <tr>\n",
       "      <th>2022-06-22 04:00:00+00:00</th>\n",
       "      <td>374.39</td>\n",
       "      <td>-0.001813</td>\n",
       "      <td>100.79</td>\n",
       "      <td>0.008505</td>\n",
       "    </tr>\n",
       "    <tr>\n",
       "      <th>2022-06-23 04:00:00+00:00</th>\n",
       "      <td>378.06</td>\n",
       "      <td>0.009803</td>\n",
       "      <td>101.21</td>\n",
       "      <td>0.004167</td>\n",
       "    </tr>\n",
       "    <tr>\n",
       "      <th>2022-06-24 04:00:00+00:00</th>\n",
       "      <td>390.08</td>\n",
       "      <td>0.031794</td>\n",
       "      <td>101.05</td>\n",
       "      <td>-0.001581</td>\n",
       "    </tr>\n",
       "  </tbody>\n",
       "</table>\n",
       "<p>757 rows × 4 columns</p>\n",
       "</div>"
      ],
      "text/plain": [
       "                              SPY                  AGG             \n",
       "                            close daily_return   close daily_return\n",
       "timestamp                                                          \n",
       "2019-06-25 04:00:00+00:00  290.76          NaN  111.34          NaN\n",
       "2019-06-26 04:00:00+00:00  290.47    -0.000997  111.09    -0.002245\n",
       "2019-06-27 04:00:00+00:00  291.50     0.003546  111.40     0.002791\n",
       "2019-06-28 04:00:00+00:00  293.00     0.005146  111.35    -0.000449\n",
       "2019-07-01 04:00:00+00:00  295.66     0.009078  111.18    -0.001527\n",
       "...                           ...          ...     ...          ...\n",
       "2022-06-17 04:00:00+00:00  365.86    -0.002155  100.34    -0.000100\n",
       "2022-06-21 04:00:00+00:00  375.07     0.025174   99.94    -0.003986\n",
       "2022-06-22 04:00:00+00:00  374.39    -0.001813  100.79     0.008505\n",
       "2022-06-23 04:00:00+00:00  378.06     0.009803  101.21     0.004167\n",
       "2022-06-24 04:00:00+00:00  390.08     0.031794  101.05    -0.001581\n",
       "\n",
       "[757 rows x 4 columns]"
      ]
     },
     "execution_count": 31,
     "metadata": {},
     "output_type": "execute_result"
    }
   ],
   "source": [
    "# Configure the Monte Carlo simulation to forecast 30 years cumulative returns\n",
    "# The weights should be split 40% to AGG and 60% to SPY.\n",
    "# Run 500 samples.\n",
    "MC_60_40 = MCSimulation(\n",
    "    portfolio_data = portfolio_2_df,\n",
    "    weights = [0.60, 0.40],\n",
    "    num_simulation=500,\n",
    "    num_trading_days=252*30)\n",
    "\n",
    "# Review the simulation input data\n",
    "MC_60_40.portfolio_data\n"
   ]
  },
  {
   "cell_type": "code",
   "execution_count": 32,
   "metadata": {},
   "outputs": [
    {
     "name": "stdout",
     "output_type": "stream",
     "text": [
      "Running Monte Carlo simulation number 0.\n",
      "Running Monte Carlo simulation number 10.\n",
      "Running Monte Carlo simulation number 20.\n",
      "Running Monte Carlo simulation number 30.\n",
      "Running Monte Carlo simulation number 40.\n",
      "Running Monte Carlo simulation number 50.\n",
      "Running Monte Carlo simulation number 60.\n",
      "Running Monte Carlo simulation number 70.\n",
      "Running Monte Carlo simulation number 80.\n",
      "Running Monte Carlo simulation number 90.\n",
      "Running Monte Carlo simulation number 100.\n"
     ]
    },
    {
     "name": "stderr",
     "output_type": "stream",
     "text": [
      "/Users/jasonbuckholt/Desktop/FinTech_Workspace/Challenges/Module_5/MCForecastTools.py:117: PerformanceWarning: DataFrame is highly fragmented.  This is usually the result of calling `frame.insert` many times, which has poor performance.  Consider joining all columns at once using pd.concat(axis=1) instead.  To get a de-fragmented frame, use `newframe = frame.copy()`\n",
      "  portfolio_cumulative_returns[n] = (1 + sim_df.fillna(0)).cumprod()\n"
     ]
    },
    {
     "name": "stdout",
     "output_type": "stream",
     "text": [
      "Running Monte Carlo simulation number 110.\n",
      "Running Monte Carlo simulation number 120.\n",
      "Running Monte Carlo simulation number 130.\n",
      "Running Monte Carlo simulation number 140.\n",
      "Running Monte Carlo simulation number 150.\n",
      "Running Monte Carlo simulation number 160.\n",
      "Running Monte Carlo simulation number 170.\n",
      "Running Monte Carlo simulation number 180.\n",
      "Running Monte Carlo simulation number 190.\n",
      "Running Monte Carlo simulation number 200.\n",
      "Running Monte Carlo simulation number 210.\n",
      "Running Monte Carlo simulation number 220.\n",
      "Running Monte Carlo simulation number 230.\n",
      "Running Monte Carlo simulation number 240.\n",
      "Running Monte Carlo simulation number 250.\n",
      "Running Monte Carlo simulation number 260.\n",
      "Running Monte Carlo simulation number 270.\n",
      "Running Monte Carlo simulation number 280.\n",
      "Running Monte Carlo simulation number 290.\n",
      "Running Monte Carlo simulation number 300.\n",
      "Running Monte Carlo simulation number 310.\n",
      "Running Monte Carlo simulation number 320.\n",
      "Running Monte Carlo simulation number 330.\n",
      "Running Monte Carlo simulation number 340.\n",
      "Running Monte Carlo simulation number 350.\n",
      "Running Monte Carlo simulation number 360.\n",
      "Running Monte Carlo simulation number 370.\n",
      "Running Monte Carlo simulation number 380.\n",
      "Running Monte Carlo simulation number 390.\n",
      "Running Monte Carlo simulation number 400.\n",
      "Running Monte Carlo simulation number 410.\n",
      "Running Monte Carlo simulation number 420.\n",
      "Running Monte Carlo simulation number 430.\n",
      "Running Monte Carlo simulation number 440.\n",
      "Running Monte Carlo simulation number 450.\n",
      "Running Monte Carlo simulation number 460.\n",
      "Running Monte Carlo simulation number 470.\n",
      "Running Monte Carlo simulation number 480.\n",
      "Running Monte Carlo simulation number 490.\n"
     ]
    },
    {
     "data": {
      "text/html": [
       "<div>\n",
       "<style scoped>\n",
       "    .dataframe tbody tr th:only-of-type {\n",
       "        vertical-align: middle;\n",
       "    }\n",
       "\n",
       "    .dataframe tbody tr th {\n",
       "        vertical-align: top;\n",
       "    }\n",
       "\n",
       "    .dataframe thead th {\n",
       "        text-align: right;\n",
       "    }\n",
       "</style>\n",
       "<table border=\"1\" class=\"dataframe\">\n",
       "  <thead>\n",
       "    <tr style=\"text-align: right;\">\n",
       "      <th></th>\n",
       "      <th>0</th>\n",
       "      <th>1</th>\n",
       "      <th>2</th>\n",
       "      <th>3</th>\n",
       "      <th>4</th>\n",
       "      <th>5</th>\n",
       "      <th>6</th>\n",
       "      <th>7</th>\n",
       "      <th>8</th>\n",
       "      <th>9</th>\n",
       "      <th>...</th>\n",
       "      <th>490</th>\n",
       "      <th>491</th>\n",
       "      <th>492</th>\n",
       "      <th>493</th>\n",
       "      <th>494</th>\n",
       "      <th>495</th>\n",
       "      <th>496</th>\n",
       "      <th>497</th>\n",
       "      <th>498</th>\n",
       "      <th>499</th>\n",
       "    </tr>\n",
       "  </thead>\n",
       "  <tbody>\n",
       "    <tr>\n",
       "      <th>0</th>\n",
       "      <td>1.000000</td>\n",
       "      <td>1.000000</td>\n",
       "      <td>1.000000</td>\n",
       "      <td>1.000000</td>\n",
       "      <td>1.000000</td>\n",
       "      <td>1.000000</td>\n",
       "      <td>1.000000</td>\n",
       "      <td>1.000000</td>\n",
       "      <td>1.000000</td>\n",
       "      <td>1.000000</td>\n",
       "      <td>...</td>\n",
       "      <td>1.000000</td>\n",
       "      <td>1.000000</td>\n",
       "      <td>1.000000</td>\n",
       "      <td>1.000000</td>\n",
       "      <td>1.000000</td>\n",
       "      <td>1.000000</td>\n",
       "      <td>1.000000</td>\n",
       "      <td>1.000000</td>\n",
       "      <td>1.000000</td>\n",
       "      <td>1.000000</td>\n",
       "    </tr>\n",
       "    <tr>\n",
       "      <th>1</th>\n",
       "      <td>1.004578</td>\n",
       "      <td>0.995521</td>\n",
       "      <td>1.005744</td>\n",
       "      <td>1.010444</td>\n",
       "      <td>0.984409</td>\n",
       "      <td>0.993851</td>\n",
       "      <td>1.008081</td>\n",
       "      <td>0.997345</td>\n",
       "      <td>0.998475</td>\n",
       "      <td>1.010726</td>\n",
       "      <td>...</td>\n",
       "      <td>0.995289</td>\n",
       "      <td>0.996933</td>\n",
       "      <td>0.993462</td>\n",
       "      <td>0.996897</td>\n",
       "      <td>0.996744</td>\n",
       "      <td>0.995379</td>\n",
       "      <td>1.006917</td>\n",
       "      <td>0.995438</td>\n",
       "      <td>1.004424</td>\n",
       "      <td>0.991256</td>\n",
       "    </tr>\n",
       "    <tr>\n",
       "      <th>2</th>\n",
       "      <td>1.004050</td>\n",
       "      <td>0.988999</td>\n",
       "      <td>1.026477</td>\n",
       "      <td>0.999610</td>\n",
       "      <td>0.989371</td>\n",
       "      <td>0.999898</td>\n",
       "      <td>1.003070</td>\n",
       "      <td>0.987421</td>\n",
       "      <td>1.018045</td>\n",
       "      <td>1.004754</td>\n",
       "      <td>...</td>\n",
       "      <td>0.991883</td>\n",
       "      <td>1.009169</td>\n",
       "      <td>1.007906</td>\n",
       "      <td>0.988424</td>\n",
       "      <td>1.003079</td>\n",
       "      <td>0.994273</td>\n",
       "      <td>1.011916</td>\n",
       "      <td>0.996193</td>\n",
       "      <td>0.988963</td>\n",
       "      <td>0.974405</td>\n",
       "    </tr>\n",
       "    <tr>\n",
       "      <th>3</th>\n",
       "      <td>1.015387</td>\n",
       "      <td>0.985353</td>\n",
       "      <td>1.038492</td>\n",
       "      <td>0.988242</td>\n",
       "      <td>0.994163</td>\n",
       "      <td>0.994437</td>\n",
       "      <td>1.005250</td>\n",
       "      <td>0.966039</td>\n",
       "      <td>1.030431</td>\n",
       "      <td>1.004486</td>\n",
       "      <td>...</td>\n",
       "      <td>0.997562</td>\n",
       "      <td>1.009421</td>\n",
       "      <td>1.011378</td>\n",
       "      <td>0.979993</td>\n",
       "      <td>0.996719</td>\n",
       "      <td>0.981813</td>\n",
       "      <td>0.998920</td>\n",
       "      <td>0.990411</td>\n",
       "      <td>0.993892</td>\n",
       "      <td>0.983452</td>\n",
       "    </tr>\n",
       "    <tr>\n",
       "      <th>4</th>\n",
       "      <td>1.021721</td>\n",
       "      <td>0.994812</td>\n",
       "      <td>1.042227</td>\n",
       "      <td>0.997531</td>\n",
       "      <td>0.991179</td>\n",
       "      <td>1.007868</td>\n",
       "      <td>1.010777</td>\n",
       "      <td>0.968502</td>\n",
       "      <td>1.050405</td>\n",
       "      <td>0.994676</td>\n",
       "      <td>...</td>\n",
       "      <td>0.990315</td>\n",
       "      <td>1.016014</td>\n",
       "      <td>1.024464</td>\n",
       "      <td>0.986783</td>\n",
       "      <td>1.014358</td>\n",
       "      <td>0.971548</td>\n",
       "      <td>1.000677</td>\n",
       "      <td>1.000243</td>\n",
       "      <td>0.984419</td>\n",
       "      <td>0.985087</td>\n",
       "    </tr>\n",
       "    <tr>\n",
       "      <th>...</th>\n",
       "      <td>...</td>\n",
       "      <td>...</td>\n",
       "      <td>...</td>\n",
       "      <td>...</td>\n",
       "      <td>...</td>\n",
       "      <td>...</td>\n",
       "      <td>...</td>\n",
       "      <td>...</td>\n",
       "      <td>...</td>\n",
       "      <td>...</td>\n",
       "      <td>...</td>\n",
       "      <td>...</td>\n",
       "      <td>...</td>\n",
       "      <td>...</td>\n",
       "      <td>...</td>\n",
       "      <td>...</td>\n",
       "      <td>...</td>\n",
       "      <td>...</td>\n",
       "      <td>...</td>\n",
       "      <td>...</td>\n",
       "      <td>...</td>\n",
       "    </tr>\n",
       "    <tr>\n",
       "      <th>7556</th>\n",
       "      <td>6.136555</td>\n",
       "      <td>13.660730</td>\n",
       "      <td>2.641169</td>\n",
       "      <td>2.202518</td>\n",
       "      <td>4.442553</td>\n",
       "      <td>4.296569</td>\n",
       "      <td>13.846669</td>\n",
       "      <td>1.064179</td>\n",
       "      <td>1.428341</td>\n",
       "      <td>2.944748</td>\n",
       "      <td>...</td>\n",
       "      <td>18.733678</td>\n",
       "      <td>24.170506</td>\n",
       "      <td>11.344193</td>\n",
       "      <td>1.707865</td>\n",
       "      <td>5.050285</td>\n",
       "      <td>8.014191</td>\n",
       "      <td>2.382842</td>\n",
       "      <td>14.854223</td>\n",
       "      <td>1.256228</td>\n",
       "      <td>8.539993</td>\n",
       "    </tr>\n",
       "    <tr>\n",
       "      <th>7557</th>\n",
       "      <td>6.126689</td>\n",
       "      <td>13.791302</td>\n",
       "      <td>2.644698</td>\n",
       "      <td>2.203414</td>\n",
       "      <td>4.424775</td>\n",
       "      <td>4.305329</td>\n",
       "      <td>13.836763</td>\n",
       "      <td>1.066074</td>\n",
       "      <td>1.435457</td>\n",
       "      <td>2.986200</td>\n",
       "      <td>...</td>\n",
       "      <td>18.333945</td>\n",
       "      <td>24.278044</td>\n",
       "      <td>11.329137</td>\n",
       "      <td>1.685255</td>\n",
       "      <td>5.135803</td>\n",
       "      <td>8.077145</td>\n",
       "      <td>2.443862</td>\n",
       "      <td>15.055943</td>\n",
       "      <td>1.262791</td>\n",
       "      <td>8.548448</td>\n",
       "    </tr>\n",
       "    <tr>\n",
       "      <th>7558</th>\n",
       "      <td>6.117065</td>\n",
       "      <td>13.577783</td>\n",
       "      <td>2.654324</td>\n",
       "      <td>2.213153</td>\n",
       "      <td>4.411246</td>\n",
       "      <td>4.256578</td>\n",
       "      <td>13.807165</td>\n",
       "      <td>1.083483</td>\n",
       "      <td>1.441686</td>\n",
       "      <td>3.026361</td>\n",
       "      <td>...</td>\n",
       "      <td>18.361350</td>\n",
       "      <td>23.965079</td>\n",
       "      <td>11.524838</td>\n",
       "      <td>1.657436</td>\n",
       "      <td>5.172910</td>\n",
       "      <td>7.971993</td>\n",
       "      <td>2.436311</td>\n",
       "      <td>15.015140</td>\n",
       "      <td>1.276023</td>\n",
       "      <td>8.597159</td>\n",
       "    </tr>\n",
       "    <tr>\n",
       "      <th>7559</th>\n",
       "      <td>6.041854</td>\n",
       "      <td>13.527974</td>\n",
       "      <td>2.665641</td>\n",
       "      <td>2.165845</td>\n",
       "      <td>4.442652</td>\n",
       "      <td>4.266337</td>\n",
       "      <td>13.893992</td>\n",
       "      <td>1.085630</td>\n",
       "      <td>1.426599</td>\n",
       "      <td>3.004442</td>\n",
       "      <td>...</td>\n",
       "      <td>18.248577</td>\n",
       "      <td>24.203086</td>\n",
       "      <td>11.445400</td>\n",
       "      <td>1.651440</td>\n",
       "      <td>5.273573</td>\n",
       "      <td>8.039397</td>\n",
       "      <td>2.406349</td>\n",
       "      <td>14.998247</td>\n",
       "      <td>1.274390</td>\n",
       "      <td>8.573483</td>\n",
       "    </tr>\n",
       "    <tr>\n",
       "      <th>7560</th>\n",
       "      <td>6.014170</td>\n",
       "      <td>13.784925</td>\n",
       "      <td>2.683470</td>\n",
       "      <td>2.160682</td>\n",
       "      <td>4.403172</td>\n",
       "      <td>4.323408</td>\n",
       "      <td>13.902125</td>\n",
       "      <td>1.088980</td>\n",
       "      <td>1.430948</td>\n",
       "      <td>3.006177</td>\n",
       "      <td>...</td>\n",
       "      <td>18.194260</td>\n",
       "      <td>24.110629</td>\n",
       "      <td>11.473731</td>\n",
       "      <td>1.673361</td>\n",
       "      <td>5.419703</td>\n",
       "      <td>8.018924</td>\n",
       "      <td>2.404750</td>\n",
       "      <td>15.109218</td>\n",
       "      <td>1.266881</td>\n",
       "      <td>8.511881</td>\n",
       "    </tr>\n",
       "  </tbody>\n",
       "</table>\n",
       "<p>7561 rows × 500 columns</p>\n",
       "</div>"
      ],
      "text/plain": [
       "           0          1         2         3         4         5          6    \\\n",
       "0     1.000000   1.000000  1.000000  1.000000  1.000000  1.000000   1.000000   \n",
       "1     1.004578   0.995521  1.005744  1.010444  0.984409  0.993851   1.008081   \n",
       "2     1.004050   0.988999  1.026477  0.999610  0.989371  0.999898   1.003070   \n",
       "3     1.015387   0.985353  1.038492  0.988242  0.994163  0.994437   1.005250   \n",
       "4     1.021721   0.994812  1.042227  0.997531  0.991179  1.007868   1.010777   \n",
       "...        ...        ...       ...       ...       ...       ...        ...   \n",
       "7556  6.136555  13.660730  2.641169  2.202518  4.442553  4.296569  13.846669   \n",
       "7557  6.126689  13.791302  2.644698  2.203414  4.424775  4.305329  13.836763   \n",
       "7558  6.117065  13.577783  2.654324  2.213153  4.411246  4.256578  13.807165   \n",
       "7559  6.041854  13.527974  2.665641  2.165845  4.442652  4.266337  13.893992   \n",
       "7560  6.014170  13.784925  2.683470  2.160682  4.403172  4.323408  13.902125   \n",
       "\n",
       "           7         8         9    ...        490        491        492  \\\n",
       "0     1.000000  1.000000  1.000000  ...   1.000000   1.000000   1.000000   \n",
       "1     0.997345  0.998475  1.010726  ...   0.995289   0.996933   0.993462   \n",
       "2     0.987421  1.018045  1.004754  ...   0.991883   1.009169   1.007906   \n",
       "3     0.966039  1.030431  1.004486  ...   0.997562   1.009421   1.011378   \n",
       "4     0.968502  1.050405  0.994676  ...   0.990315   1.016014   1.024464   \n",
       "...        ...       ...       ...  ...        ...        ...        ...   \n",
       "7556  1.064179  1.428341  2.944748  ...  18.733678  24.170506  11.344193   \n",
       "7557  1.066074  1.435457  2.986200  ...  18.333945  24.278044  11.329137   \n",
       "7558  1.083483  1.441686  3.026361  ...  18.361350  23.965079  11.524838   \n",
       "7559  1.085630  1.426599  3.004442  ...  18.248577  24.203086  11.445400   \n",
       "7560  1.088980  1.430948  3.006177  ...  18.194260  24.110629  11.473731   \n",
       "\n",
       "           493       494       495       496        497       498       499  \n",
       "0     1.000000  1.000000  1.000000  1.000000   1.000000  1.000000  1.000000  \n",
       "1     0.996897  0.996744  0.995379  1.006917   0.995438  1.004424  0.991256  \n",
       "2     0.988424  1.003079  0.994273  1.011916   0.996193  0.988963  0.974405  \n",
       "3     0.979993  0.996719  0.981813  0.998920   0.990411  0.993892  0.983452  \n",
       "4     0.986783  1.014358  0.971548  1.000677   1.000243  0.984419  0.985087  \n",
       "...        ...       ...       ...       ...        ...       ...       ...  \n",
       "7556  1.707865  5.050285  8.014191  2.382842  14.854223  1.256228  8.539993  \n",
       "7557  1.685255  5.135803  8.077145  2.443862  15.055943  1.262791  8.548448  \n",
       "7558  1.657436  5.172910  7.971993  2.436311  15.015140  1.276023  8.597159  \n",
       "7559  1.651440  5.273573  8.039397  2.406349  14.998247  1.274390  8.573483  \n",
       "7560  1.673361  5.419703  8.018924  2.404750  15.109218  1.266881  8.511881  \n",
       "\n",
       "[7561 rows x 500 columns]"
      ]
     },
     "execution_count": 32,
     "metadata": {},
     "output_type": "execute_result"
    }
   ],
   "source": [
    "# Run the Monte Carlo simulation to forecast 30 years cumulative returns\n",
    "MC_60_40.calc_cumulative_return()\n"
   ]
  },
  {
   "cell_type": "code",
   "execution_count": 33,
   "metadata": {},
   "outputs": [
    {
     "data": {
      "text/plain": [
       "<AxesSubplot:title={'center':'500 Simulations of Cumulative Portfolio Return Trajectories Over the Next 7560 Trading Days.'}>"
      ]
     },
     "execution_count": 33,
     "metadata": {},
     "output_type": "execute_result"
    },
    {
     "data": {
      "image/png": "[encoded data removed]",
      "text/plain": [
       "<Figure size 432x288 with 1 Axes>"
      ]
     },
     "metadata": {
      "needs_background": "light"
     },
     "output_type": "display_data"
    }
   ],
   "source": [
    "# Visualize the 30-year Monte Carlo simulation by creating an\n",
    "# overlay line plot\n",
    "MC_60_40_overlay_plot = MC_60_40.plot_simulation()\n",
    "MC_60_40_overlay_plot"
   ]
  },
  {
   "cell_type": "markdown",
   "metadata": {},
   "source": [
    "#### Step 3: Plot the probability distribution of the Monte Carlo simulation."
   ]
  },
  {
   "cell_type": "code",
   "execution_count": 34,
   "metadata": {},
   "outputs": [
    {
     "data": {
      "text/plain": [
       "<AxesSubplot:title={'center':'Distribution of Final Cumuluative Returns Across All 500 Simulations'}, ylabel='Frequency'>"
      ]
     },
     "execution_count": 34,
     "metadata": {},
     "output_type": "execute_result"
    },
    {
     "data": {
      "image/png": "[encoded data removed]",
      "text/plain": [
       "<Figure size 432x288 with 1 Axes>"
      ]
     },
     "metadata": {
      "needs_background": "light"
     },
     "output_type": "display_data"
    }
   ],
   "source": [
    "# Visualize the probability distribution of the 30-year Monte Carlo simulation \n",
    "# by plotting a histogram\n",
    "MC_60_40_distribution_plot = MC_60_40.plot_distribution()\n",
    "MC_60_40_distribution_plot\n"
   ]
  },
  {
   "cell_type": "markdown",
   "metadata": {},
   "source": [
    "#### Step 4: Generate the summary statistics for the Monte Carlo simulation."
   ]
  },
  {
   "cell_type": "code",
   "execution_count": 35,
   "metadata": {},
   "outputs": [
    {
     "data": {
      "text/plain": [
       "count           500.000000\n",
       "mean              7.051171\n",
       "std               6.421780\n",
       "min               0.473754\n",
       "25%               2.745240\n",
       "50%               5.375865\n",
       "75%               8.997304\n",
       "max              50.643204\n",
       "95% CI Lower      0.949612\n",
       "95% CI Upper     25.149055\n",
       "Name: 7560, dtype: float64"
      ]
     },
     "execution_count": 35,
     "metadata": {},
     "output_type": "execute_result"
    }
   ],
   "source": [
    "# Generate summary statistics from the 30-year Monte Carlo simulation results\n",
    "# Save the results as a variable\n",
    "MC_60_40_table = MC_60_40.summarize_cumulative_return()\n",
    "\n",
    "# Review the 30-year Monte Carlo summary statistics\n",
    "MC_60_40_table"
   ]
  },
  {
   "cell_type": "markdown",
   "metadata": {},
   "source": [
    "### Analyze the Retirement Portfolio Forecasts\n",
    "\n",
    "Using the current value of only the stock and bond portion of the member's portfolio and the summary statistics that you generated from the Monte Carlo simulation, answer the following question in your Jupyter notebook:\n",
    "\n",
    "-  What are the lower and upper bounds for the expected value of the portfolio with a 95% confidence interval?\n"
   ]
  },
  {
   "cell_type": "code",
   "execution_count": 36,
   "metadata": {},
   "outputs": [
    {
     "name": "stdout",
     "output_type": "stream",
     "text": [
      "The current value of the stocks and bonds portfolio is $63119.\n"
     ]
    }
   ],
   "source": [
    "# Print the current balance of the stock and bond portion of the members portfolio\n",
    "print(f\"The current value of the stocks and bonds portfolio is ${total_stocks_bonds:0.0f}.\")\n"
   ]
  },
  {
   "cell_type": "code",
   "execution_count": 37,
   "metadata": {},
   "outputs": [
    {
     "name": "stdout",
     "output_type": "stream",
     "text": [
      "There is a 95% chance that the current value of $63119 in the stocks and bonds portfolio, reallocated to be 60% in SPY and 40% in AGG, will accumulate in 30 years to be within the range of $59938 and $1587378.\n"
     ]
    }
   ],
   "source": [
    "# Use the lower and upper `95%` confidence intervals to calculate the range of the possible outcomes for the current stock/bond portfolio\n",
    "ci_lower_thirty_cumulative_return = round(total_stocks_bonds * MC_60_40_table[8], 2)\n",
    "ci_upper_thirty_cumulative_return = round(total_stocks_bonds * MC_60_40_table[9], 2)\n",
    "\n",
    "# Print the result of your calculations\n",
    "print(f\"There is a 95% chance that the current value of ${total_stocks_bonds:0.0f} in the stocks and bonds portfolio,\"\n",
    "      f\" reallocated to be 60% in SPY and 40% in AGG, will accumulate in 30 years to be within the range of\"\n",
    "      f\" ${ci_lower_thirty_cumulative_return:0.0f} and ${ci_upper_thirty_cumulative_return:0.0f}.\")\n"
   ]
  },
  {
   "cell_type": "markdown",
   "metadata": {},
   "source": [
    "### Forecast Cumulative Returns in 10 Years\n",
    "\n",
    "The CTO of the credit union is impressed with your work on these planning tools but wonders if 30 years is a long time to wait until retirement. So, your next task is to adjust the retirement portfolio and run a new Monte Carlo simulation to find out if the changes will allow members to retire earlier.\n",
    "\n",
    "For this new Monte Carlo simulation, do the following: \n",
    "\n",
    "- Forecast the cumulative returns for 10 years from now. Because of the shortened investment horizon (30 years to 10 years), the portfolio needs to invest more heavily in the riskier asset&mdash;that is, stock&mdash;to help accumulate wealth for retirement. \n",
    "\n",
    "- Adjust the weights of the retirement portfolio so that the composition for the Monte Carlo simulation consists of 20% bonds and 80% stocks. \n",
    "\n",
    "- Run the simulation over 500 samples, and use the same data that the API call to Alpaca generated.\n",
    "\n",
    "- Based on the new Monte Carlo simulation, answer the following questions in your Jupyter notebook:\n",
    "\n",
    "    - Using the current value of only the stock and bond portion of the member's portfolio and the summary statistics that you generated from the new Monte Carlo simulation, what are the lower and upper bounds for the expected value of the portfolio (with the new weights) with a 95% confidence interval?\n",
    "\n",
    "    - Will weighting the portfolio more heavily toward stocks allow the credit union members to retire after only 10 years?\n"
   ]
  },
  {
   "cell_type": "code",
   "execution_count": 38,
   "metadata": {},
   "outputs": [
    {
     "data": {
      "text/html": [
       "<div>\n",
       "<style scoped>\n",
       "    .dataframe tbody tr th:only-of-type {\n",
       "        vertical-align: middle;\n",
       "    }\n",
       "\n",
       "    .dataframe tbody tr th {\n",
       "        vertical-align: top;\n",
       "    }\n",
       "\n",
       "    .dataframe thead tr th {\n",
       "        text-align: left;\n",
       "    }\n",
       "\n",
       "    .dataframe thead tr:last-of-type th {\n",
       "        text-align: right;\n",
       "    }\n",
       "</style>\n",
       "<table border=\"1\" class=\"dataframe\">\n",
       "  <thead>\n",
       "    <tr>\n",
       "      <th></th>\n",
       "      <th colspan=\"2\" halign=\"left\">SPY</th>\n",
       "      <th colspan=\"2\" halign=\"left\">AGG</th>\n",
       "    </tr>\n",
       "    <tr>\n",
       "      <th></th>\n",
       "      <th>close</th>\n",
       "      <th>daily_return</th>\n",
       "      <th>close</th>\n",
       "      <th>daily_return</th>\n",
       "    </tr>\n",
       "    <tr>\n",
       "      <th>timestamp</th>\n",
       "      <th></th>\n",
       "      <th></th>\n",
       "      <th></th>\n",
       "      <th></th>\n",
       "    </tr>\n",
       "  </thead>\n",
       "  <tbody>\n",
       "    <tr>\n",
       "      <th>2019-06-25 04:00:00+00:00</th>\n",
       "      <td>290.76</td>\n",
       "      <td>NaN</td>\n",
       "      <td>111.34</td>\n",
       "      <td>NaN</td>\n",
       "    </tr>\n",
       "    <tr>\n",
       "      <th>2019-06-26 04:00:00+00:00</th>\n",
       "      <td>290.47</td>\n",
       "      <td>-0.000997</td>\n",
       "      <td>111.09</td>\n",
       "      <td>-0.002245</td>\n",
       "    </tr>\n",
       "    <tr>\n",
       "      <th>2019-06-27 04:00:00+00:00</th>\n",
       "      <td>291.50</td>\n",
       "      <td>0.003546</td>\n",
       "      <td>111.40</td>\n",
       "      <td>0.002791</td>\n",
       "    </tr>\n",
       "    <tr>\n",
       "      <th>2019-06-28 04:00:00+00:00</th>\n",
       "      <td>293.00</td>\n",
       "      <td>0.005146</td>\n",
       "      <td>111.35</td>\n",
       "      <td>-0.000449</td>\n",
       "    </tr>\n",
       "    <tr>\n",
       "      <th>2019-07-01 04:00:00+00:00</th>\n",
       "      <td>295.66</td>\n",
       "      <td>0.009078</td>\n",
       "      <td>111.18</td>\n",
       "      <td>-0.001527</td>\n",
       "    </tr>\n",
       "    <tr>\n",
       "      <th>...</th>\n",
       "      <td>...</td>\n",
       "      <td>...</td>\n",
       "      <td>...</td>\n",
       "      <td>...</td>\n",
       "    </tr>\n",
       "    <tr>\n",
       "      <th>2022-06-17 04:00:00+00:00</th>\n",
       "      <td>365.86</td>\n",
       "      <td>-0.002155</td>\n",
       "      <td>100.34</td>\n",
       "      <td>-0.000100</td>\n",
       "    </tr>\n",
       "    <tr>\n",
       "      <th>2022-06-21 04:00:00+00:00</th>\n",
       "      <td>375.07</td>\n",
       "      <td>0.025174</td>\n",
       "      <td>99.94</td>\n",
       "      <td>-0.003986</td>\n",
       "    </tr>\n",
       "    <tr>\n",
       "      <th>2022-06-22 04:00:00+00:00</th>\n",
       "      <td>374.39</td>\n",
       "      <td>-0.001813</td>\n",
       "      <td>100.79</td>\n",
       "      <td>0.008505</td>\n",
       "    </tr>\n",
       "    <tr>\n",
       "      <th>2022-06-23 04:00:00+00:00</th>\n",
       "      <td>378.06</td>\n",
       "      <td>0.009803</td>\n",
       "      <td>101.21</td>\n",
       "      <td>0.004167</td>\n",
       "    </tr>\n",
       "    <tr>\n",
       "      <th>2022-06-24 04:00:00+00:00</th>\n",
       "      <td>390.08</td>\n",
       "      <td>0.031794</td>\n",
       "      <td>101.05</td>\n",
       "      <td>-0.001581</td>\n",
       "    </tr>\n",
       "  </tbody>\n",
       "</table>\n",
       "<p>757 rows × 4 columns</p>\n",
       "</div>"
      ],
      "text/plain": [
       "                              SPY                  AGG             \n",
       "                            close daily_return   close daily_return\n",
       "timestamp                                                          \n",
       "2019-06-25 04:00:00+00:00  290.76          NaN  111.34          NaN\n",
       "2019-06-26 04:00:00+00:00  290.47    -0.000997  111.09    -0.002245\n",
       "2019-06-27 04:00:00+00:00  291.50     0.003546  111.40     0.002791\n",
       "2019-06-28 04:00:00+00:00  293.00     0.005146  111.35    -0.000449\n",
       "2019-07-01 04:00:00+00:00  295.66     0.009078  111.18    -0.001527\n",
       "...                           ...          ...     ...          ...\n",
       "2022-06-17 04:00:00+00:00  365.86    -0.002155  100.34    -0.000100\n",
       "2022-06-21 04:00:00+00:00  375.07     0.025174   99.94    -0.003986\n",
       "2022-06-22 04:00:00+00:00  374.39    -0.001813  100.79     0.008505\n",
       "2022-06-23 04:00:00+00:00  378.06     0.009803  101.21     0.004167\n",
       "2022-06-24 04:00:00+00:00  390.08     0.031794  101.05    -0.001581\n",
       "\n",
       "[757 rows x 4 columns]"
      ]
     },
     "execution_count": 38,
     "metadata": {},
     "output_type": "execute_result"
    }
   ],
   "source": [
    "# Configure a Monte Carlo simulation to forecast 10 years cumulative returns\n",
    "# The weights should be split 20% to AGG and 80% to SPY.\n",
    "# Run 500 samples.\n",
    "MC_80_20 = MCSimulation(\n",
    "    portfolio_data = portfolio_2_df,\n",
    "    weights = [0.80, 0.20],\n",
    "    num_simulation=500,\n",
    "    num_trading_days=252*10)\n",
    "\n",
    "# Review the simulation input data\n",
    "MC_80_20.portfolio_data\n"
   ]
  },
  {
   "cell_type": "code",
   "execution_count": 39,
   "metadata": {},
   "outputs": [
    {
     "name": "stdout",
     "output_type": "stream",
     "text": [
      "Running Monte Carlo simulation number 0.\n",
      "Running Monte Carlo simulation number 10.\n",
      "Running Monte Carlo simulation number 20.\n",
      "Running Monte Carlo simulation number 30.\n",
      "Running Monte Carlo simulation number 40.\n",
      "Running Monte Carlo simulation number 50.\n",
      "Running Monte Carlo simulation number 60.\n",
      "Running Monte Carlo simulation number 70.\n",
      "Running Monte Carlo simulation number 80.\n",
      "Running Monte Carlo simulation number 90.\n",
      "Running Monte Carlo simulation number 100.\n"
     ]
    },
    {
     "name": "stderr",
     "output_type": "stream",
     "text": [
      "/Users/jasonbuckholt/Desktop/FinTech_Workspace/Challenges/Module_5/MCForecastTools.py:117: PerformanceWarning: DataFrame is highly fragmented.  This is usually the result of calling `frame.insert` many times, which has poor performance.  Consider joining all columns at once using pd.concat(axis=1) instead.  To get a de-fragmented frame, use `newframe = frame.copy()`\n",
      "  portfolio_cumulative_returns[n] = (1 + sim_df.fillna(0)).cumprod()\n"
     ]
    },
    {
     "name": "stdout",
     "output_type": "stream",
     "text": [
      "Running Monte Carlo simulation number 110.\n",
      "Running Monte Carlo simulation number 120.\n",
      "Running Monte Carlo simulation number 130.\n",
      "Running Monte Carlo simulation number 140.\n",
      "Running Monte Carlo simulation number 150.\n",
      "Running Monte Carlo simulation number 160.\n",
      "Running Monte Carlo simulation number 170.\n",
      "Running Monte Carlo simulation number 180.\n",
      "Running Monte Carlo simulation number 190.\n",
      "Running Monte Carlo simulation number 200.\n",
      "Running Monte Carlo simulation number 210.\n",
      "Running Monte Carlo simulation number 220.\n",
      "Running Monte Carlo simulation number 230.\n",
      "Running Monte Carlo simulation number 240.\n",
      "Running Monte Carlo simulation number 250.\n",
      "Running Monte Carlo simulation number 260.\n",
      "Running Monte Carlo simulation number 270.\n",
      "Running Monte Carlo simulation number 280.\n",
      "Running Monte Carlo simulation number 290.\n",
      "Running Monte Carlo simulation number 300.\n",
      "Running Monte Carlo simulation number 310.\n",
      "Running Monte Carlo simulation number 320.\n",
      "Running Monte Carlo simulation number 330.\n",
      "Running Monte Carlo simulation number 340.\n",
      "Running Monte Carlo simulation number 350.\n",
      "Running Monte Carlo simulation number 360.\n",
      "Running Monte Carlo simulation number 370.\n",
      "Running Monte Carlo simulation number 380.\n",
      "Running Monte Carlo simulation number 390.\n",
      "Running Monte Carlo simulation number 400.\n",
      "Running Monte Carlo simulation number 410.\n",
      "Running Monte Carlo simulation number 420.\n",
      "Running Monte Carlo simulation number 430.\n",
      "Running Monte Carlo simulation number 440.\n",
      "Running Monte Carlo simulation number 450.\n",
      "Running Monte Carlo simulation number 460.\n",
      "Running Monte Carlo simulation number 470.\n",
      "Running Monte Carlo simulation number 480.\n",
      "Running Monte Carlo simulation number 490.\n"
     ]
    },
    {
     "data": {
      "text/html": [
       "<div>\n",
       "<style scoped>\n",
       "    .dataframe tbody tr th:only-of-type {\n",
       "        vertical-align: middle;\n",
       "    }\n",
       "\n",
       "    .dataframe tbody tr th {\n",
       "        vertical-align: top;\n",
       "    }\n",
       "\n",
       "    .dataframe thead th {\n",
       "        text-align: right;\n",
       "    }\n",
       "</style>\n",
       "<table border=\"1\" class=\"dataframe\">\n",
       "  <thead>\n",
       "    <tr style=\"text-align: right;\">\n",
       "      <th></th>\n",
       "      <th>0</th>\n",
       "      <th>1</th>\n",
       "      <th>2</th>\n",
       "      <th>3</th>\n",
       "      <th>4</th>\n",
       "      <th>5</th>\n",
       "      <th>6</th>\n",
       "      <th>7</th>\n",
       "      <th>8</th>\n",
       "      <th>9</th>\n",
       "      <th>...</th>\n",
       "      <th>490</th>\n",
       "      <th>491</th>\n",
       "      <th>492</th>\n",
       "      <th>493</th>\n",
       "      <th>494</th>\n",
       "      <th>495</th>\n",
       "      <th>496</th>\n",
       "      <th>497</th>\n",
       "      <th>498</th>\n",
       "      <th>499</th>\n",
       "    </tr>\n",
       "  </thead>\n",
       "  <tbody>\n",
       "    <tr>\n",
       "      <th>0</th>\n",
       "      <td>1.000000</td>\n",
       "      <td>1.000000</td>\n",
       "      <td>1.000000</td>\n",
       "      <td>1.000000</td>\n",
       "      <td>1.000000</td>\n",
       "      <td>1.000000</td>\n",
       "      <td>1.000000</td>\n",
       "      <td>1.000000</td>\n",
       "      <td>1.000000</td>\n",
       "      <td>1.000000</td>\n",
       "      <td>...</td>\n",
       "      <td>1.000000</td>\n",
       "      <td>1.000000</td>\n",
       "      <td>1.000000</td>\n",
       "      <td>1.000000</td>\n",
       "      <td>1.000000</td>\n",
       "      <td>1.000000</td>\n",
       "      <td>1.000000</td>\n",
       "      <td>1.000000</td>\n",
       "      <td>1.000000</td>\n",
       "      <td>1.000000</td>\n",
       "    </tr>\n",
       "    <tr>\n",
       "      <th>1</th>\n",
       "      <td>1.008730</td>\n",
       "      <td>0.992868</td>\n",
       "      <td>0.995187</td>\n",
       "      <td>0.983316</td>\n",
       "      <td>0.991310</td>\n",
       "      <td>0.988214</td>\n",
       "      <td>1.018612</td>\n",
       "      <td>1.000430</td>\n",
       "      <td>0.999684</td>\n",
       "      <td>1.005992</td>\n",
       "      <td>...</td>\n",
       "      <td>1.001874</td>\n",
       "      <td>1.008629</td>\n",
       "      <td>0.994910</td>\n",
       "      <td>1.006340</td>\n",
       "      <td>0.996653</td>\n",
       "      <td>0.988837</td>\n",
       "      <td>0.988108</td>\n",
       "      <td>0.992472</td>\n",
       "      <td>0.990052</td>\n",
       "      <td>1.015990</td>\n",
       "    </tr>\n",
       "    <tr>\n",
       "      <th>2</th>\n",
       "      <td>0.991964</td>\n",
       "      <td>0.961975</td>\n",
       "      <td>0.988923</td>\n",
       "      <td>0.966320</td>\n",
       "      <td>1.023627</td>\n",
       "      <td>0.995529</td>\n",
       "      <td>1.008742</td>\n",
       "      <td>1.000750</td>\n",
       "      <td>0.990192</td>\n",
       "      <td>1.015230</td>\n",
       "      <td>...</td>\n",
       "      <td>0.994380</td>\n",
       "      <td>1.000409</td>\n",
       "      <td>1.004932</td>\n",
       "      <td>1.013662</td>\n",
       "      <td>0.975263</td>\n",
       "      <td>0.989782</td>\n",
       "      <td>1.008396</td>\n",
       "      <td>0.987678</td>\n",
       "      <td>1.001051</td>\n",
       "      <td>1.017827</td>\n",
       "    </tr>\n",
       "    <tr>\n",
       "      <th>3</th>\n",
       "      <td>1.020740</td>\n",
       "      <td>0.970175</td>\n",
       "      <td>0.992343</td>\n",
       "      <td>0.950886</td>\n",
       "      <td>1.009799</td>\n",
       "      <td>0.982189</td>\n",
       "      <td>1.019442</td>\n",
       "      <td>1.016235</td>\n",
       "      <td>0.977132</td>\n",
       "      <td>1.020661</td>\n",
       "      <td>...</td>\n",
       "      <td>0.986069</td>\n",
       "      <td>0.987419</td>\n",
       "      <td>1.003152</td>\n",
       "      <td>1.003817</td>\n",
       "      <td>0.970345</td>\n",
       "      <td>1.003930</td>\n",
       "      <td>0.997483</td>\n",
       "      <td>0.989490</td>\n",
       "      <td>0.989198</td>\n",
       "      <td>1.014287</td>\n",
       "    </tr>\n",
       "    <tr>\n",
       "      <th>4</th>\n",
       "      <td>1.010498</td>\n",
       "      <td>0.961112</td>\n",
       "      <td>0.999267</td>\n",
       "      <td>0.941043</td>\n",
       "      <td>0.992037</td>\n",
       "      <td>0.998901</td>\n",
       "      <td>1.031591</td>\n",
       "      <td>1.027553</td>\n",
       "      <td>0.985103</td>\n",
       "      <td>1.015064</td>\n",
       "      <td>...</td>\n",
       "      <td>0.962143</td>\n",
       "      <td>0.989621</td>\n",
       "      <td>1.024462</td>\n",
       "      <td>1.002527</td>\n",
       "      <td>0.964649</td>\n",
       "      <td>1.019638</td>\n",
       "      <td>0.985003</td>\n",
       "      <td>0.988533</td>\n",
       "      <td>1.000129</td>\n",
       "      <td>1.014004</td>\n",
       "    </tr>\n",
       "    <tr>\n",
       "      <th>...</th>\n",
       "      <td>...</td>\n",
       "      <td>...</td>\n",
       "      <td>...</td>\n",
       "      <td>...</td>\n",
       "      <td>...</td>\n",
       "      <td>...</td>\n",
       "      <td>...</td>\n",
       "      <td>...</td>\n",
       "      <td>...</td>\n",
       "      <td>...</td>\n",
       "      <td>...</td>\n",
       "      <td>...</td>\n",
       "      <td>...</td>\n",
       "      <td>...</td>\n",
       "      <td>...</td>\n",
       "      <td>...</td>\n",
       "      <td>...</td>\n",
       "      <td>...</td>\n",
       "      <td>...</td>\n",
       "      <td>...</td>\n",
       "      <td>...</td>\n",
       "    </tr>\n",
       "    <tr>\n",
       "      <th>2516</th>\n",
       "      <td>0.626952</td>\n",
       "      <td>2.042408</td>\n",
       "      <td>1.321948</td>\n",
       "      <td>1.566619</td>\n",
       "      <td>1.823163</td>\n",
       "      <td>2.597735</td>\n",
       "      <td>1.398263</td>\n",
       "      <td>4.089469</td>\n",
       "      <td>3.711267</td>\n",
       "      <td>4.926508</td>\n",
       "      <td>...</td>\n",
       "      <td>0.783121</td>\n",
       "      <td>3.032039</td>\n",
       "      <td>2.354483</td>\n",
       "      <td>2.380653</td>\n",
       "      <td>0.522299</td>\n",
       "      <td>2.282498</td>\n",
       "      <td>1.538037</td>\n",
       "      <td>1.056973</td>\n",
       "      <td>3.301516</td>\n",
       "      <td>4.607758</td>\n",
       "    </tr>\n",
       "    <tr>\n",
       "      <th>2517</th>\n",
       "      <td>0.635098</td>\n",
       "      <td>2.036358</td>\n",
       "      <td>1.293135</td>\n",
       "      <td>1.549393</td>\n",
       "      <td>1.834762</td>\n",
       "      <td>2.632167</td>\n",
       "      <td>1.425726</td>\n",
       "      <td>4.107015</td>\n",
       "      <td>3.684767</td>\n",
       "      <td>4.979670</td>\n",
       "      <td>...</td>\n",
       "      <td>0.790446</td>\n",
       "      <td>2.997128</td>\n",
       "      <td>2.346035</td>\n",
       "      <td>2.422041</td>\n",
       "      <td>0.519676</td>\n",
       "      <td>2.202081</td>\n",
       "      <td>1.525892</td>\n",
       "      <td>1.039710</td>\n",
       "      <td>3.293098</td>\n",
       "      <td>4.624092</td>\n",
       "    </tr>\n",
       "    <tr>\n",
       "      <th>2518</th>\n",
       "      <td>0.649547</td>\n",
       "      <td>2.040728</td>\n",
       "      <td>1.294630</td>\n",
       "      <td>1.543372</td>\n",
       "      <td>1.832297</td>\n",
       "      <td>2.697546</td>\n",
       "      <td>1.440841</td>\n",
       "      <td>4.050514</td>\n",
       "      <td>3.675476</td>\n",
       "      <td>5.031818</td>\n",
       "      <td>...</td>\n",
       "      <td>0.792463</td>\n",
       "      <td>2.958692</td>\n",
       "      <td>2.356822</td>\n",
       "      <td>2.399736</td>\n",
       "      <td>0.524912</td>\n",
       "      <td>2.203749</td>\n",
       "      <td>1.529060</td>\n",
       "      <td>1.059045</td>\n",
       "      <td>3.289609</td>\n",
       "      <td>4.602785</td>\n",
       "    </tr>\n",
       "    <tr>\n",
       "      <th>2519</th>\n",
       "      <td>0.655761</td>\n",
       "      <td>2.021702</td>\n",
       "      <td>1.289840</td>\n",
       "      <td>1.549197</td>\n",
       "      <td>1.808980</td>\n",
       "      <td>2.732748</td>\n",
       "      <td>1.456770</td>\n",
       "      <td>4.150036</td>\n",
       "      <td>3.609923</td>\n",
       "      <td>5.043885</td>\n",
       "      <td>...</td>\n",
       "      <td>0.799435</td>\n",
       "      <td>2.891576</td>\n",
       "      <td>2.344051</td>\n",
       "      <td>2.392006</td>\n",
       "      <td>0.520297</td>\n",
       "      <td>2.189712</td>\n",
       "      <td>1.480490</td>\n",
       "      <td>1.051927</td>\n",
       "      <td>3.322855</td>\n",
       "      <td>4.602140</td>\n",
       "    </tr>\n",
       "    <tr>\n",
       "      <th>2520</th>\n",
       "      <td>0.645148</td>\n",
       "      <td>2.013916</td>\n",
       "      <td>1.290876</td>\n",
       "      <td>1.535120</td>\n",
       "      <td>1.814339</td>\n",
       "      <td>2.735011</td>\n",
       "      <td>1.455836</td>\n",
       "      <td>4.117068</td>\n",
       "      <td>3.572981</td>\n",
       "      <td>5.042798</td>\n",
       "      <td>...</td>\n",
       "      <td>0.795471</td>\n",
       "      <td>2.881539</td>\n",
       "      <td>2.308586</td>\n",
       "      <td>2.418958</td>\n",
       "      <td>0.520467</td>\n",
       "      <td>2.181405</td>\n",
       "      <td>1.482516</td>\n",
       "      <td>1.051900</td>\n",
       "      <td>3.313704</td>\n",
       "      <td>4.622368</td>\n",
       "    </tr>\n",
       "  </tbody>\n",
       "</table>\n",
       "<p>2521 rows × 500 columns</p>\n",
       "</div>"
      ],
      "text/plain": [
       "           0         1         2         3         4         5         6    \\\n",
       "0     1.000000  1.000000  1.000000  1.000000  1.000000  1.000000  1.000000   \n",
       "1     1.008730  0.992868  0.995187  0.983316  0.991310  0.988214  1.018612   \n",
       "2     0.991964  0.961975  0.988923  0.966320  1.023627  0.995529  1.008742   \n",
       "3     1.020740  0.970175  0.992343  0.950886  1.009799  0.982189  1.019442   \n",
       "4     1.010498  0.961112  0.999267  0.941043  0.992037  0.998901  1.031591   \n",
       "...        ...       ...       ...       ...       ...       ...       ...   \n",
       "2516  0.626952  2.042408  1.321948  1.566619  1.823163  2.597735  1.398263   \n",
       "2517  0.635098  2.036358  1.293135  1.549393  1.834762  2.632167  1.425726   \n",
       "2518  0.649547  2.040728  1.294630  1.543372  1.832297  2.697546  1.440841   \n",
       "2519  0.655761  2.021702  1.289840  1.549197  1.808980  2.732748  1.456770   \n",
       "2520  0.645148  2.013916  1.290876  1.535120  1.814339  2.735011  1.455836   \n",
       "\n",
       "           7         8         9    ...       490       491       492  \\\n",
       "0     1.000000  1.000000  1.000000  ...  1.000000  1.000000  1.000000   \n",
       "1     1.000430  0.999684  1.005992  ...  1.001874  1.008629  0.994910   \n",
       "2     1.000750  0.990192  1.015230  ...  0.994380  1.000409  1.004932   \n",
       "3     1.016235  0.977132  1.020661  ...  0.986069  0.987419  1.003152   \n",
       "4     1.027553  0.985103  1.015064  ...  0.962143  0.989621  1.024462   \n",
       "...        ...       ...       ...  ...       ...       ...       ...   \n",
       "2516  4.089469  3.711267  4.926508  ...  0.783121  3.032039  2.354483   \n",
       "2517  4.107015  3.684767  4.979670  ...  0.790446  2.997128  2.346035   \n",
       "2518  4.050514  3.675476  5.031818  ...  0.792463  2.958692  2.356822   \n",
       "2519  4.150036  3.609923  5.043885  ...  0.799435  2.891576  2.344051   \n",
       "2520  4.117068  3.572981  5.042798  ...  0.795471  2.881539  2.308586   \n",
       "\n",
       "           493       494       495       496       497       498       499  \n",
       "0     1.000000  1.000000  1.000000  1.000000  1.000000  1.000000  1.000000  \n",
       "1     1.006340  0.996653  0.988837  0.988108  0.992472  0.990052  1.015990  \n",
       "2     1.013662  0.975263  0.989782  1.008396  0.987678  1.001051  1.017827  \n",
       "3     1.003817  0.970345  1.003930  0.997483  0.989490  0.989198  1.014287  \n",
       "4     1.002527  0.964649  1.019638  0.985003  0.988533  1.000129  1.014004  \n",
       "...        ...       ...       ...       ...       ...       ...       ...  \n",
       "2516  2.380653  0.522299  2.282498  1.538037  1.056973  3.301516  4.607758  \n",
       "2517  2.422041  0.519676  2.202081  1.525892  1.039710  3.293098  4.624092  \n",
       "2518  2.399736  0.524912  2.203749  1.529060  1.059045  3.289609  4.602785  \n",
       "2519  2.392006  0.520297  2.189712  1.480490  1.051927  3.322855  4.602140  \n",
       "2520  2.418958  0.520467  2.181405  1.482516  1.051900  3.313704  4.622368  \n",
       "\n",
       "[2521 rows x 500 columns]"
      ]
     },
     "execution_count": 39,
     "metadata": {},
     "output_type": "execute_result"
    }
   ],
   "source": [
    "# Run the Monte Carlo simulation to forecast 10 years cumulative returns\n",
    "MC_80_20.calc_cumulative_return()\n"
   ]
  },
  {
   "cell_type": "code",
   "execution_count": 40,
   "metadata": {},
   "outputs": [
    {
     "data": {
      "text/plain": [
       "<AxesSubplot:title={'center':'500 Simulations of Cumulative Portfolio Return Trajectories Over the Next 2520 Trading Days.'}>"
      ]
     },
     "execution_count": 40,
     "metadata": {},
     "output_type": "execute_result"
    },
    {
     "data": {
      "image/png": "[encoded data removed]",
      "text/plain": [
       "<Figure size 432x288 with 1 Axes>"
      ]
     },
     "metadata": {
      "needs_background": "light"
     },
     "output_type": "display_data"
    }
   ],
   "source": [
    "# Visualize the 10-year Monte Carlo simulation by creating an\n",
    "# overlay line plot\n",
    "MC_80_20_overlay_plot = MC_80_20.plot_simulation()\n",
    "MC_80_20_overlay_plot\n"
   ]
  },
  {
   "cell_type": "code",
   "execution_count": 41,
   "metadata": {},
   "outputs": [
    {
     "data": {
      "text/plain": [
       "<AxesSubplot:title={'center':'Distribution of Final Cumuluative Returns Across All 500 Simulations'}, ylabel='Frequency'>"
      ]
     },
     "execution_count": 41,
     "metadata": {},
     "output_type": "execute_result"
    },
    {
     "data": {
      "image/png": "[encoded data removed]",
      "text/plain": [
       "<Figure size 432x288 with 1 Axes>"
      ]
     },
     "metadata": {
      "needs_background": "light"
     },
     "output_type": "display_data"
    }
   ],
   "source": [
    "# Visualize the probability distribution of the 10-year Monte Carlo simulation \n",
    "# by plotting a histogram\n",
    "MC_80_20_distribution_plot = MC_80_20.plot_distribution()\n",
    "MC_80_20_distribution_plot\n"
   ]
  },
  {
   "cell_type": "code",
   "execution_count": 42,
   "metadata": {},
   "outputs": [
    {
     "data": {
      "text/plain": [
       "count           500.000000\n",
       "mean              2.664039\n",
       "std               1.804678\n",
       "min               0.314711\n",
       "25%               1.491816\n",
       "50%               2.221206\n",
       "75%               3.346549\n",
       "max              13.718077\n",
       "95% CI Lower      0.664197\n",
       "95% CI Upper      7.077316\n",
       "Name: 2520, dtype: float64"
      ]
     },
     "execution_count": 42,
     "metadata": {},
     "output_type": "execute_result"
    }
   ],
   "source": [
    "# Generate summary statistics from the 10-year Monte Carlo simulation results\n",
    "# Save the results as a variable\n",
    "MC_80_20_table = MC_80_20.summarize_cumulative_return()\n",
    "\n",
    "\n",
    "# Review the 10-year Monte Carlo summary statistics\n",
    "MC_80_20_table"
   ]
  },
  {
   "cell_type": "markdown",
   "metadata": {},
   "source": [
    "### Answer the following questions:"
   ]
  },
  {
   "cell_type": "markdown",
   "metadata": {},
   "source": [
    "#### Question: Using the current value of only the stock and bond portion of the member's portfolio and the summary statistics that you generated from the new Monte Carlo simulation, what are the lower and upper bounds for the expected value of the portfolio (with the new weights) with a 95% confidence interval?"
   ]
  },
  {
   "cell_type": "code",
   "execution_count": 43,
   "metadata": {},
   "outputs": [
    {
     "name": "stdout",
     "output_type": "stream",
     "text": [
      "The current value of the stocks and bonds portfolio is $63119.\n"
     ]
    }
   ],
   "source": [
    "# Print the current balance of the stock and bond portion of the members portfolio\n",
    "print(f\"The current value of the stocks and bonds portfolio is ${total_stocks_bonds:0.0f}.\")\n"
   ]
  },
  {
   "cell_type": "code",
   "execution_count": 46,
   "metadata": {},
   "outputs": [
    {
     "name": "stdout",
     "output_type": "stream",
     "text": [
      "There is a 95% chance that the current value of $63119 in the stocks and bonds portfolio, reallocated to be 80% in SPY and 20% in AGG, will accumulate in 10 years to be within the range of $41923 and $446712.\n"
     ]
    }
   ],
   "source": [
    "# Use the lower and upper `95%` confidence intervals to calculate the range of the possible outcomes for the current stock/bond portfolio\n",
    "ci_lower_ten_cumulative_return = round(total_stocks_bonds * MC_80_20_table[8], 2)\n",
    "ci_upper_ten_cumulative_return = round(total_stocks_bonds * MC_80_20_table[9], 2)\n",
    "\n",
    "# Print the result of your calculations\n",
    "print(f\"There is a 95% chance that the current value of ${total_stocks_bonds:0.0f} in the stocks and bonds portfolio,\"\n",
    "      f\" reallocated to be 80% in SPY and 20% in AGG, will accumulate in 10 years to be within the range of\"\n",
    "      f\" ${ci_lower_ten_cumulative_return:0.0f} and ${ci_upper_ten_cumulative_return:0.0f}.\")\n"
   ]
  },
  {
   "cell_type": "markdown",
   "metadata": {},
   "source": [
    "#### Question: Will weighting the portfolio more heavily to stocks allow the credit union members to retire after only 10 years?"
   ]
  },
  {
   "cell_type": "markdown",
   "metadata": {},
   "source": [
    "**Answer** I would not recommend that this member switch to an 80/20 stock/bond weighting strategy in the hopes of retiring in just 10 years.  First of all, based on their current investment allocation being in 65% bonds to just 35% equities, I'll assume that they are more risk averse than the average member.  Therefore, drastically increasing their investment strategy to 80% higher risk equities does not match their current risk aversion profile.  Secondly, even if they decide that an 80/20 split is worth the risk, the chances of that investment strategy paying off in 10 years is still quite low.  Only under the best case scenarios will this strategy accumulate their current investments to at least $500,000.  In fact, there's only a 2.5% chance that they'll have $450,000 or more in 10 years, which I would consider a bare minimum to retire on.  There's about a 50% chance that they'll only have between $100,000 and $200,000 in 10 years time, not nearly enough for retirement.  Best to invest more conservatively, at most 60% stocks, and plan on a retirement date much later than just 10 years from now."
   ]
  },
  {
   "cell_type": "code",
   "execution_count": null,
   "metadata": {},
   "outputs": [],
   "source": []
  }
 ],
 "metadata": {
  "kernelspec": {
   "display_name": "dev",
   "language": "python",
   "name": "dev"
  },
  "language_info": {
   "codemirror_mode": {
    "name": "ipython",
    "version": 3
   },
   "file_extension": ".py",
   "mimetype": "text/x-python",
   "name": "python",
   "nbconvert_exporter": "python",
   "pygments_lexer": "ipython3",
   "version": "3.7.11"
  }
 },
 "nbformat": 4,
 "nbformat_minor": 4
}
