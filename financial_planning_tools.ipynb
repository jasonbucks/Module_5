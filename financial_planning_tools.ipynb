{
 "cells": [
  {
   "cell_type": "markdown",
   "metadata": {},
   "source": [
    "# Financial Planning with APIs and Simulations\n",
    "\n",
    "In this Challenge, you’ll create two financial analysis tools by using a single Jupyter notebook:\n",
    "\n",
    "Part 1: A financial planner for emergencies. The members will be able to use this tool to visualize their current savings. The members can then determine if they have enough reserves for an emergency fund.\n",
    "\n",
    "Part 2: A financial planner for retirement. This tool will forecast the performance of their retirement portfolio in 30 years. To do this, the tool will make an Alpaca API call via the Alpaca SDK to get historical price data for use in Monte Carlo simulations.\n",
    "\n",
    "You’ll use the information from the Monte Carlo simulation to answer questions about the portfolio in your Jupyter notebook.\n",
    "\n"
   ]
  },
  {
   "cell_type": "code",
   "execution_count": 1,
   "metadata": {},
   "outputs": [],
   "source": [
    "# Import the required libraries and dependencies\n",
    "import os\n",
    "import requests\n",
    "import json\n",
    "import pandas as pd\n",
    "from dotenv import load_dotenv\n",
    "import alpaca_trade_api as tradeapi\n",
    "from MCForecastTools import MCSimulation\n",
    "\n",
    "%matplotlib inline\n",
    "\n",
    "import datetime\n",
    "# BDay is business day, not birthday.  Used to calculate prior business day for closing market prices.\n",
    "from pandas.tseries.offsets import BDay"
   ]
  },
  {
   "cell_type": "code",
   "execution_count": 2,
   "metadata": {},
   "outputs": [
    {
     "data": {
      "text/plain": [
       "True"
      ]
     },
     "execution_count": 2,
     "metadata": {},
     "output_type": "execute_result"
    }
   ],
   "source": [
    "# Load the environment variables from the .env file\n",
    "#by calling the load_dotenv function\n",
    "load_dotenv()"
   ]
  },
  {
   "cell_type": "markdown",
   "metadata": {},
   "source": [
    "## Part 1: Create a Financial Planner for Emergencies"
   ]
  },
  {
   "cell_type": "markdown",
   "metadata": {},
   "source": [
    "### Evaluate the Cryptocurrency Wallet by Using the Requests Library\n",
    "\n",
    "In this section, you’ll determine the current value of a member’s cryptocurrency wallet. You’ll collect the current prices for the Bitcoin and Ethereum cryptocurrencies by using the Python Requests library. For the prototype, you’ll assume that the member holds the 1.2 Bitcoins (BTC) and 5.3 Ethereum coins (ETH). To do all this, complete the following steps:\n",
    "\n",
    "1. Create a variable named `monthly_income`, and set its value to `12000`.\n",
    "\n",
    "2. Use the Requests library to get the current price (in US dollars) of Bitcoin (BTC) and Ethereum (ETH) by using the API endpoints that the starter code supplies.\n",
    "\n",
    "3. Navigate the JSON response object to access the current price of each coin, and store each in a variable.\n",
    "\n",
    "    > **Hint** Note the specific identifier for each cryptocurrency in the API JSON response. The Bitcoin identifier is `1`, and the Ethereum identifier is `1027`.\n",
    "\n",
    "4. Calculate the value, in US dollars, of the current amount of each cryptocurrency and of the entire cryptocurrency wallet.\n",
    "\n"
   ]
  },
  {
   "cell_type": "code",
   "execution_count": 3,
   "metadata": {},
   "outputs": [],
   "source": [
    "# The current number of coins for each cryptocurrency asset held in the portfolio.\n",
    "btc_coins = 1.2\n",
    "eth_coins = 5.3"
   ]
  },
  {
   "cell_type": "markdown",
   "metadata": {},
   "source": [
    "#### Step 1: Create a variable named `monthly_income`, and set its value to `12000`."
   ]
  },
  {
   "cell_type": "code",
   "execution_count": 4,
   "metadata": {},
   "outputs": [],
   "source": [
    "# The monthly amount for the member's household income\n",
    "monthly_income = 12000\n"
   ]
  },
  {
   "cell_type": "markdown",
   "metadata": {},
   "source": [
    "#### Review the endpoint URLs for the API calls to Free Crypto API in order to get the current pricing information for both BTC and ETH."
   ]
  },
  {
   "cell_type": "code",
   "execution_count": 5,
   "metadata": {},
   "outputs": [
    {
     "name": "stdout",
     "output_type": "stream",
     "text": [
      "{'data': {'1': {'id': 1, 'name': 'Bitcoin', 'symbol': 'BTC', 'website_slug': 'bitcoin', 'rank': 1, 'circulating_supply': 19075862, 'total_supply': 19075862, 'max_supply': 21000000, 'quotes': {'USD': {'price': 21294.0, 'volume_24h': 23066015473, 'market_cap': 406998840420, 'percentage_change_1h': 0.254367104494549, 'percentage_change_24h': 4.02323675594781, 'percentage_change_7d': 4.33845080990356, 'percent_change_1h': 0.254367104494549, 'percent_change_24h': 4.02323675594781, 'percent_change_7d': 4.33845080990356}}, 'last_updated': 1656080596}}, 'metadata': {'timestamp': 1656080596, 'num_cryptocurrencies': 3116, 'error': None}}\n",
      "Parsed url: https://api.alternative.me/v2/ticker/Bitcoin/?convert=USD\n",
      "\n",
      "{'data': {'1027': {'id': 1027, 'name': 'Ethereum', 'symbol': 'ETH', 'website_slug': 'ethereum', 'rank': 2, 'circulating_supply': 121287789, 'total_supply': 121287789, 'max_supply': 0, 'quotes': {'USD': {'price': 1209.35, 'volume_24h': 15989677791, 'market_cap': 146980290265, 'percentage_change_1h': -0.447970805242467, 'percentage_change_24h': 9.41051634757607, 'percentage_change_7d': 13.1709855311033, 'percent_change_1h': -0.447970805242467, 'percent_change_24h': 9.41051634757607, 'percent_change_7d': 13.1709855311033}}, 'last_updated': 1656080617}}, 'metadata': {'timestamp': 1656080617, 'num_cryptocurrencies': 3116, 'error': None}}\n",
      "Parsed url: https://api.alternative.me/v2/ticker/Ethereum/?convert=USD\n",
      "\n"
     ]
    }
   ],
   "source": [
    "# The Free Crypto API Call endpoint URLs for the held cryptocurrency assets\n",
    "btc_url = \"https://api.alternative.me/v2/ticker/Bitcoin/?convert=USD\"\n",
    "eth_url = \"https://api.alternative.me/v2/ticker/Ethereum/?convert=USD\"\n",
    "\n",
    "# Make list of url's to check for any exception erros.  Copied from class instruction exercise, with minor edits.\n",
    "crypto_url_list = [btc_url, eth_url]\n",
    "\n",
    "for url in crypto_url_list:\n",
    "    try:\n",
    "        response = requests.get(url)\n",
    "\n",
    "        # Check Status Codes\n",
    "        if response.status_code == 200:\n",
    "            print(response.json())\n",
    "        else:\n",
    "            print(f\"The url: {url} is invalid.\\nResponse code: {response.status_code}\")\n",
    "\n",
    "    except Exception as error:\n",
    "        # If an exception occurs in the try portion, the code in this branch will be executed.\n",
    "        print(f\"Unable to connect to the server at url: {url}.\\nError:\\n{error}\")\n",
    "    finally:\n",
    "        # Everything in finally will be executed regardless of try/except\n",
    "        print(f\"Parsed url: {url}\\n\")"
   ]
  },
  {
   "cell_type": "markdown",
   "metadata": {},
   "source": [
    "#### Step 2. Use the Requests library to get the current price (in US dollars) of Bitcoin (BTC) and Ethereum (ETH) by using the API endpoints that the starter code supplied."
   ]
  },
  {
   "cell_type": "code",
   "execution_count": 6,
   "metadata": {},
   "outputs": [
    {
     "name": "stdout",
     "output_type": "stream",
     "text": [
      "{\n",
      "    \"data\": {\n",
      "        \"1\": {\n",
      "            \"circulating_supply\": 19075862,\n",
      "            \"id\": 1,\n",
      "            \"last_updated\": 1656080596,\n",
      "            \"max_supply\": 21000000,\n",
      "            \"name\": \"Bitcoin\",\n",
      "            \"quotes\": {\n",
      "                \"USD\": {\n",
      "                    \"market_cap\": 406998840420,\n",
      "                    \"percent_change_1h\": 0.254367104494549,\n",
      "                    \"percent_change_24h\": 4.02323675594781,\n",
      "                    \"percent_change_7d\": 4.33845080990356,\n",
      "                    \"percentage_change_1h\": 0.254367104494549,\n",
      "                    \"percentage_change_24h\": 4.02323675594781,\n",
      "                    \"percentage_change_7d\": 4.33845080990356,\n",
      "                    \"price\": 21294.0,\n",
      "                    \"volume_24h\": 23066015473\n",
      "                }\n",
      "            },\n",
      "            \"rank\": 1,\n",
      "            \"symbol\": \"BTC\",\n",
      "            \"total_supply\": 19075862,\n",
      "            \"website_slug\": \"bitcoin\"\n",
      "        }\n",
      "    },\n",
      "    \"metadata\": {\n",
      "        \"error\": null,\n",
      "        \"num_cryptocurrencies\": 3116,\n",
      "        \"timestamp\": 1656080596\n",
      "    }\n",
      "}\n"
     ]
    }
   ],
   "source": [
    "# Using the Python requests library, make an API call to access the current price of BTC\n",
    "btc_response = requests.get(btc_url).json()\n",
    "\n",
    "# Use the json.dumps function to review the response data from the API call\n",
    "# Use the indent and sort_keys parameters to make the response object readable\n",
    "print(json.dumps(btc_response, indent=4, sort_keys=True))\n"
   ]
  },
  {
   "cell_type": "code",
   "execution_count": 7,
   "metadata": {},
   "outputs": [
    {
     "name": "stdout",
     "output_type": "stream",
     "text": [
      "{\n",
      "    \"data\": {\n",
      "        \"1027\": {\n",
      "            \"circulating_supply\": 121287789,\n",
      "            \"id\": 1027,\n",
      "            \"last_updated\": 1656080617,\n",
      "            \"max_supply\": 0,\n",
      "            \"name\": \"Ethereum\",\n",
      "            \"quotes\": {\n",
      "                \"USD\": {\n",
      "                    \"market_cap\": 146980290265,\n",
      "                    \"percent_change_1h\": -0.447970805242467,\n",
      "                    \"percent_change_24h\": 9.41051634757607,\n",
      "                    \"percent_change_7d\": 13.1709855311033,\n",
      "                    \"percentage_change_1h\": -0.447970805242467,\n",
      "                    \"percentage_change_24h\": 9.41051634757607,\n",
      "                    \"percentage_change_7d\": 13.1709855311033,\n",
      "                    \"price\": 1209.35,\n",
      "                    \"volume_24h\": 15989677791\n",
      "                }\n",
      "            },\n",
      "            \"rank\": 2,\n",
      "            \"symbol\": \"ETH\",\n",
      "            \"total_supply\": 121287789,\n",
      "            \"website_slug\": \"ethereum\"\n",
      "        }\n",
      "    },\n",
      "    \"metadata\": {\n",
      "        \"error\": null,\n",
      "        \"num_cryptocurrencies\": 3116,\n",
      "        \"timestamp\": 1656080617\n",
      "    }\n",
      "}\n"
     ]
    }
   ],
   "source": [
    "# Using the Python requests library, make an API call to access the current price ETH\n",
    "eth_response = requests.get(eth_url).json()\n",
    "\n",
    "# Use the json.dumps function to review the response data from the API call\n",
    "# Use the indent and sort_keys parameters to make the response object readable\n",
    "print(json.dumps(eth_response, indent=4, sort_keys=True))\n"
   ]
  },
  {
   "cell_type": "markdown",
   "metadata": {},
   "source": [
    "#### Step 3: Navigate the JSON response object to access the current price of each coin, and store each in a variable."
   ]
  },
  {
   "cell_type": "code",
   "execution_count": 8,
   "metadata": {},
   "outputs": [
    {
     "name": "stdout",
     "output_type": "stream",
     "text": [
      "The current price for Bitcoin is $21294.00\n"
     ]
    }
   ],
   "source": [
    "# Navigate the BTC response object to access the current price of BTC\n",
    "btc_price = btc_response['data']['1']['quotes']['USD']['price']\n",
    "\n",
    "# Print the current price of BTC\n",
    "print(f\"The current price for Bitcoin is ${btc_price:0.2f}\")\n"
   ]
  },
  {
   "cell_type": "code",
   "execution_count": 9,
   "metadata": {},
   "outputs": [
    {
     "name": "stdout",
     "output_type": "stream",
     "text": [
      "The current price for Ethereum is $1209.35\n"
     ]
    }
   ],
   "source": [
    "# Navigate the BTC response object to access the current price of ETH\n",
    "eth_price = eth_response['data']['1027']['quotes']['USD']['price']\n",
    "\n",
    "# Print the current price of ETH\n",
    "print(f\"The current price for Ethereum is ${eth_price:0.2f}\")\n"
   ]
  },
  {
   "cell_type": "markdown",
   "metadata": {},
   "source": [
    "### Step 4: Calculate the value, in US dollars, of the current amount of each cryptocurrency and of the entire cryptocurrency wallet."
   ]
  },
  {
   "cell_type": "code",
   "execution_count": 10,
   "metadata": {},
   "outputs": [
    {
     "name": "stdout",
     "output_type": "stream",
     "text": [
      "The current value of your Bitcoin holdings is $25552.80\n"
     ]
    }
   ],
   "source": [
    "# Compute the current value of the BTC holding \n",
    "btc_value = btc_coins * btc_price\n",
    "\n",
    "# Print current value of your holding in BTC\n",
    "print(f\"The current value of your Bitcoin holdings is ${btc_value:0.2f}\")\n"
   ]
  },
  {
   "cell_type": "code",
   "execution_count": 11,
   "metadata": {},
   "outputs": [
    {
     "name": "stdout",
     "output_type": "stream",
     "text": [
      "The current value of your Ethereum holdings is $6409.55\n"
     ]
    }
   ],
   "source": [
    "# Compute the current value of the ETH holding \n",
    "eth_value = eth_coins * eth_price\n",
    "\n",
    "# Print current value of your holding in ETH\n",
    "print(f\"The current value of your Ethereum holdings is ${eth_value:0.2f}\")\n"
   ]
  },
  {
   "cell_type": "code",
   "execution_count": 12,
   "metadata": {},
   "outputs": [
    {
     "name": "stdout",
     "output_type": "stream",
     "text": [
      "Your total cryptocurrency current wallet balance is $31962.35\n"
     ]
    }
   ],
   "source": [
    "# Compute the total value of the cryptocurrency wallet\n",
    "# Add the value of the BTC holding to the value of the ETH holding\n",
    "total_crypto_wallet = btc_value + eth_value\n",
    "\n",
    "# Print current cryptocurrency wallet balance\n",
    "print(f\"Your total cryptocurrency current wallet balance is ${total_crypto_wallet:0.2f}\")\n"
   ]
  },
  {
   "cell_type": "markdown",
   "metadata": {
    "tags": []
   },
   "source": [
    "### Evaluate the Stock and Bond Holdings by Using the Alpaca SDK\n",
    "\n",
    "In this section, you’ll determine the current value of a member’s stock and bond holdings. You’ll make an API call to Alpaca via the Alpaca SDK to get the current closing prices of the SPDR S&P 500 ETF Trust (ticker: SPY) and of the iShares Core US Aggregate Bond ETF (ticker: AGG). For the prototype, assume that the member holds 110 shares of SPY, which represents the stock portion of their portfolio, and 200 shares of AGG, which represents the bond portion. To do all this, complete the following steps:\n",
    "\n",
    "1. In the `Starter_Code` folder, create an environment file (`.env`) to store the values of your Alpaca API key and Alpaca secret key.\n",
    "\n",
    "2. Set the variables for the Alpaca API and secret keys. Using the Alpaca SDK, create the Alpaca `tradeapi.REST` object. In this object, include the parameters for the Alpaca API key, the secret key, and the version number.\n",
    "\n",
    "3. Set the following parameters for the Alpaca API call:\n",
    "\n",
    "    - `tickers`: Use the tickers for the member’s stock and bond holdings.\n",
    "\n",
    "    - `timeframe`: Use a time frame of one day.\n",
    "\n",
    "    - `start_date` and `end_date`: Use the same date for these parameters, and format them with the date of the previous weekday (or `2020-08-07`). This is because you want the one closing price for the most-recent trading day.\n",
    "\n",
    "4. Get the current closing prices for `SPY` and `AGG` by using the Alpaca `get_bars` function. Format the response as a Pandas DataFrame by including the `df` property at the end of the `get_bars` function.\n",
    "\n",
    "5. Navigating the Alpaca response DataFrame, select the `SPY` and `AGG` closing prices, and store them as variables.\n",
    "\n",
    "6. Calculate the value, in US dollars, of the current amount of shares in each of the stock and bond portions of the portfolio, and print the results.\n"
   ]
  },
  {
   "cell_type": "markdown",
   "metadata": {},
   "source": [
    "#### Review the total number of shares held in both (SPY) and (AGG)."
   ]
  },
  {
   "cell_type": "code",
   "execution_count": 13,
   "metadata": {},
   "outputs": [],
   "source": [
    "# Current amount of shares held in both the stock (SPY) and bond (AGG) portion of the portfolio.\n",
    "spy_shares = 110\n",
    "agg_shares = 200\n"
   ]
  },
  {
   "cell_type": "markdown",
   "metadata": {},
   "source": [
    "#### Step 1: In the `Starter_Code` folder, create an environment file (`.env`) to store the values of your Alpaca API key and Alpaca secret key."
   ]
  },
  {
   "cell_type": "markdown",
   "metadata": {},
   "source": [
    "#### Step 2: Set the variables for the Alpaca API and secret keys. Using the Alpaca SDK, create the Alpaca `tradeapi.REST` object. In this object, include the parameters for the Alpaca API key, the secret key, and the version number."
   ]
  },
  {
   "cell_type": "code",
   "execution_count": 14,
   "metadata": {},
   "outputs": [
    {
     "name": "stdout",
     "output_type": "stream",
     "text": [
      "<class 'str'>\n",
      "<class 'str'>\n"
     ]
    }
   ],
   "source": [
    "# Set the variables for the Alpaca API and secret keys\n",
    "alpaca_api_key = os.getenv(\"ALPACA_API_KEY\")\n",
    "alpaca_secret_key = os.getenv(\"ALPACA_SECRET_KEY\")\n",
    "print(type(alpaca_api_key))\n",
    "print(type(alpaca_secret_key))\n",
    "\n",
    "# Create the Alpaca tradeapi.REST object\n",
    "alpaca = tradeapi.REST(alpaca_api_key, alpaca_secret_key, api_version=\"v2\")\n"
   ]
  },
  {
   "cell_type": "markdown",
   "metadata": {},
   "source": [
    "#### Step 3: Set the following parameters for the Alpaca API call:\n",
    "\n",
    "- `tickers`: Use the tickers for the member’s stock and bond holdings.\n",
    "\n",
    "- `timeframe`: Use a time frame of one day.\n",
    "\n",
    "- `start_date` and `end_date`: Use the same date for these parameters, and format them with the date of the previous weekday (or `2020-08-07`). This is because you want the one closing price for the most-recent trading day.\n"
   ]
  },
  {
   "cell_type": "code",
   "execution_count": 15,
   "metadata": {},
   "outputs": [
    {
     "data": {
      "text/plain": [
       "'2022-06-23'"
      ]
     },
     "execution_count": 15,
     "metadata": {},
     "output_type": "execute_result"
    }
   ],
   "source": [
    "# Get a formatted date for the prior business day.  Used in API calls for obtaining prices from last market close.\n",
    "\n",
    "today = datetime.datetime.today()\n",
    "# BDay is business day, not birthday.  Used to calculate prior business day for closing market prices.\n",
    "prior_business_day = today - BDay(1)\n",
    "prior_business_day_str = prior_business_day.strftime ('%Y-%m-%d') # formats the date to YYYY-MM-DD and stores as a string\n",
    "prior_business_day_str"
   ]
  },
  {
   "cell_type": "code",
   "execution_count": 16,
   "metadata": {},
   "outputs": [],
   "source": [
    "# Set the tickers for both the bond and stock portion of the portfolio\n",
    "tickers = ['SPY', 'AGG']\n",
    "\n",
    "# Set timeframe to 1Day\n",
    "timeframe = '1Day'\n",
    "\n",
    "# Format current date as ISO format\n",
    "# Set both the start and end date at the date of your prior weekday \n",
    "# This will give you the closing price of the previous trading day\n",
    "# Alternatively you can use a start and end date of 2020-08-07\n",
    "start_date = pd.Timestamp(prior_business_day_str, tz=\"America/New_York\").isoformat()\n",
    "end_date = pd.Timestamp(prior_business_day_str, tz=\"America/New_York\").isoformat()"
   ]
  },
  {
   "cell_type": "markdown",
   "metadata": {},
   "source": [
    "#### Step 4: Get the current closing prices for `SPY` and `AGG` by using the Alpaca `get_bars` function. Format the response as a Pandas DataFrame by including the `df` property at the end of the `get_bars` function."
   ]
  },
  {
   "cell_type": "code",
   "execution_count": 17,
   "metadata": {},
   "outputs": [
    {
     "data": {
      "text/html": [
       "<div>\n",
       "<style scoped>\n",
       "    .dataframe tbody tr th:only-of-type {\n",
       "        vertical-align: middle;\n",
       "    }\n",
       "\n",
       "    .dataframe tbody tr th {\n",
       "        vertical-align: top;\n",
       "    }\n",
       "\n",
       "    .dataframe thead tr th {\n",
       "        text-align: left;\n",
       "    }\n",
       "\n",
       "    .dataframe thead tr:last-of-type th {\n",
       "        text-align: right;\n",
       "    }\n",
       "</style>\n",
       "<table border=\"1\" class=\"dataframe\">\n",
       "  <thead>\n",
       "    <tr>\n",
       "      <th></th>\n",
       "      <th colspan=\"7\" halign=\"left\">SPY</th>\n",
       "      <th colspan=\"7\" halign=\"left\">AGG</th>\n",
       "    </tr>\n",
       "    <tr>\n",
       "      <th></th>\n",
       "      <th>open</th>\n",
       "      <th>high</th>\n",
       "      <th>low</th>\n",
       "      <th>close</th>\n",
       "      <th>volume</th>\n",
       "      <th>trade_count</th>\n",
       "      <th>vwap</th>\n",
       "      <th>open</th>\n",
       "      <th>high</th>\n",
       "      <th>low</th>\n",
       "      <th>close</th>\n",
       "      <th>volume</th>\n",
       "      <th>trade_count</th>\n",
       "      <th>vwap</th>\n",
       "    </tr>\n",
       "    <tr>\n",
       "      <th>timestamp</th>\n",
       "      <th></th>\n",
       "      <th></th>\n",
       "      <th></th>\n",
       "      <th></th>\n",
       "      <th></th>\n",
       "      <th></th>\n",
       "      <th></th>\n",
       "      <th></th>\n",
       "      <th></th>\n",
       "      <th></th>\n",
       "      <th></th>\n",
       "      <th></th>\n",
       "      <th></th>\n",
       "      <th></th>\n",
       "    </tr>\n",
       "  </thead>\n",
       "  <tbody>\n",
       "    <tr>\n",
       "      <th>2022-06-23 04:00:00+00:00</th>\n",
       "      <td>376.69</td>\n",
       "      <td>378.83</td>\n",
       "      <td>372.89</td>\n",
       "      <td>378.06</td>\n",
       "      <td>78643521</td>\n",
       "      <td>623105</td>\n",
       "      <td>376.219755</td>\n",
       "      <td>101.25</td>\n",
       "      <td>101.76</td>\n",
       "      <td>101.125</td>\n",
       "      <td>101.21</td>\n",
       "      <td>7760715</td>\n",
       "      <td>25697</td>\n",
       "      <td>101.363615</td>\n",
       "    </tr>\n",
       "  </tbody>\n",
       "</table>\n",
       "</div>"
      ],
      "text/plain": [
       "                              SPY                                    \\\n",
       "                             open    high     low   close    volume   \n",
       "timestamp                                                             \n",
       "2022-06-23 04:00:00+00:00  376.69  378.83  372.89  378.06  78643521   \n",
       "\n",
       "                                                      AGG                   \\\n",
       "                          trade_count        vwap    open    high      low   \n",
       "timestamp                                                                    \n",
       "2022-06-23 04:00:00+00:00      623105  376.219755  101.25  101.76  101.125   \n",
       "\n",
       "                                                                    \n",
       "                            close   volume trade_count        vwap  \n",
       "timestamp                                                           \n",
       "2022-06-23 04:00:00+00:00  101.21  7760715       25697  101.363615  "
      ]
     },
     "execution_count": 17,
     "metadata": {},
     "output_type": "execute_result"
    }
   ],
   "source": [
    "# Use the Alpaca get_bars function to get current closing prices the portfolio\n",
    "# Be sure to set the `df` property after the function to format the response object as a DataFrame\n",
    "portfolio_df = alpaca.get_bars(\n",
    "    tickers,\n",
    "    timeframe,\n",
    "    start=start_date,\n",
    "    end=end_date).df\n",
    "\n",
    "# Reorganize the DataFrame\n",
    "# Separate ticker data\n",
    "SPY = portfolio_df[portfolio_df['symbol']=='SPY'].drop('symbol', axis=1)\n",
    "AGG = portfolio_df[portfolio_df['symbol']=='AGG'].drop('symbol', axis=1)\n",
    "\n",
    "# Concatenate the ticker DataFrames\n",
    "portfolio_df = pd.concat([SPY,AGG], axis=1, keys=['SPY','AGG'])\n",
    "\n",
    "# Review the first 5 rows of the Alpaca DataFrame\n",
    "portfolio_df.head()\n"
   ]
  },
  {
   "cell_type": "markdown",
   "metadata": {},
   "source": [
    "#### Step 5: Navigating the Alpaca response DataFrame, select the `SPY` and `AGG` closing prices, and store them as variables."
   ]
  },
  {
   "cell_type": "code",
   "execution_count": 18,
   "metadata": {},
   "outputs": [
    {
     "name": "stdout",
     "output_type": "stream",
     "text": [
      "The AGG closing price is $101.21\n"
     ]
    }
   ],
   "source": [
    "# Access the closing price for AGG from the Alpaca DataFrame\n",
    "# Converting the value to a floating point number\n",
    "agg_close_price = float(portfolio_df[\"AGG\"][\"close\"])\n",
    "\n",
    "# Print the AGG closing price\n",
    "print(f\"The AGG closing price is ${agg_close_price:0.2f}\")\n"
   ]
  },
  {
   "cell_type": "code",
   "execution_count": 19,
   "metadata": {},
   "outputs": [
    {
     "name": "stdout",
     "output_type": "stream",
     "text": [
      "The SPY closing price is $378.06\n"
     ]
    }
   ],
   "source": [
    "# Access the closing price for SPY from the Alpaca DataFrame\n",
    "# Converting the value to a floating point number\n",
    "spy_close_price = float(portfolio_df[\"SPY\"][\"close\"])\n",
    "\n",
    "# Print the SPY closing price\n",
    "print(f\"The SPY closing price is ${spy_close_price:0.2f}\")\n"
   ]
  },
  {
   "cell_type": "markdown",
   "metadata": {},
   "source": [
    "#### Step 6: Calculate the value, in US dollars, of the current amount of shares in each of the stock and bond portions of the portfolio, and print the results."
   ]
  },
  {
   "cell_type": "code",
   "execution_count": 20,
   "metadata": {},
   "outputs": [
    {
     "name": "stdout",
     "output_type": "stream",
     "text": [
      "The current value of the bond portfolio is $20242.00\n"
     ]
    }
   ],
   "source": [
    "# Calculate the current value of the bond portion of the portfolio\n",
    "agg_value = agg_shares * agg_close_price\n",
    "\n",
    "# Print the current value of the bond portfolio\n",
    "print(f\"The current value of the bond portfolio is ${agg_value:0.2f}\")\n"
   ]
  },
  {
   "cell_type": "code",
   "execution_count": 21,
   "metadata": {},
   "outputs": [
    {
     "name": "stdout",
     "output_type": "stream",
     "text": [
      "The current value of the stock portfolio is $41586.60\n"
     ]
    }
   ],
   "source": [
    "# Calculate the current value of the stock portion of the portfolio\n",
    "spy_value = spy_shares * spy_close_price\n",
    "\n",
    "# Print the current value of the stock portfolio\n",
    "print(f\"The current value of the stock portfolio is ${spy_value:0.2f}\")\n"
   ]
  },
  {
   "cell_type": "code",
   "execution_count": 22,
   "metadata": {},
   "outputs": [
    {
     "name": "stdout",
     "output_type": "stream",
     "text": [
      "The current balance of the stock and bond portion of the portfolio is $61828.60\n"
     ]
    }
   ],
   "source": [
    "# Calculate the total value of the stock and bond portion of the portfolio\n",
    "total_stocks_bonds = agg_value + spy_value\n",
    "\n",
    "# Print the current balance of the stock and bond portion of the portfolio\n",
    "print(f\"The current balance of the stock and bond portion of the portfolio is ${total_stocks_bonds:0.2f}\")\n"
   ]
  },
  {
   "cell_type": "code",
   "execution_count": 23,
   "metadata": {},
   "outputs": [
    {
     "name": "stdout",
     "output_type": "stream",
     "text": [
      "The total value of your entire savings portfolio is $93790.96\n"
     ]
    }
   ],
   "source": [
    "# Calculate the total value of the member's entire savings portfolio\n",
    "# Add the value of the cryptocurrency walled to the value of the total stocks and bonds\n",
    "total_portfolio = total_crypto_wallet + total_stocks_bonds\n",
    "\n",
    "# Print the total value of the member's entire savings portfolio\n",
    "print(f\"The total value of your entire savings portfolio is ${total_portfolio:0.2f}\")\n"
   ]
  },
  {
   "cell_type": "markdown",
   "metadata": {},
   "source": [
    "### Evaluate the Emergency Fund\n",
    "\n",
    "In this section, you’ll use the valuations for the cryptocurrency wallet and for the stock and bond portions of the portfolio to determine if the credit union member has enough savings to build an emergency fund into their financial plan. To do this, complete the following steps:\n",
    "\n",
    "1. Create a Python list named `savings_data` that has two elements. The first element contains the total value of the cryptocurrency wallet. The second element contains the total value of the stock and bond portions of the portfolio.\n",
    "\n",
    "2. Use the `savings_data` list to create a Pandas DataFrame named `savings_df`, and then display this DataFrame. The function to create the DataFrame should take the following three parameters:\n",
    "\n",
    "    - `savings_data`: Use the list that you just created.\n",
    "\n",
    "    - `columns`: Set this parameter equal to a Python list with a single value called `amount`.\n",
    "\n",
    "    - `index`: Set this parameter equal to a Python list with the values of `crypto` and `stock/bond`.\n",
    "\n",
    "3. Use the `savings_df` DataFrame to plot a pie chart that visualizes the composition of the member’s portfolio. The y-axis of the pie chart uses `amount`. Be sure to add a title.\n",
    "\n",
    "4. Using Python, determine if the current portfolio has enough to create an emergency fund as part of the member’s financial plan. Ideally, an emergency fund should equal to three times the member’s monthly income. To do this, implement the following steps:\n",
    "\n",
    "    1. Create a variable named `emergency_fund_value`, and set it equal to three times the value of the member’s `monthly_income` of $12000. (You set this earlier in Part 1).\n",
    "\n",
    "    2. Create a series of three if statements to determine if the member’s total portfolio is large enough to fund the emergency portfolio:\n",
    "\n",
    "        1. If the total portfolio value is greater than the emergency fund value, display a message congratulating the member for having enough money in this fund.\n",
    "\n",
    "        2. Else if the total portfolio value is equal to the emergency fund value, display a message congratulating the member on reaching this important financial goal.\n",
    "\n",
    "        3. Else the total portfolio is less than the emergency fund value, so display a message showing how many dollars away the member is from reaching the goal. (Subtract the total portfolio value from the emergency fund value.)\n"
   ]
  },
  {
   "cell_type": "markdown",
   "metadata": {},
   "source": [
    "#### Step 1: Create a Python list named `savings_data` that has two elements. The first element contains the total value of the cryptocurrency wallet. The second element contains the total value of the stock and bond portions of the portfolio."
   ]
  },
  {
   "cell_type": "code",
   "execution_count": 24,
   "metadata": {},
   "outputs": [
    {
     "data": {
      "text/plain": [
       "[31962.355, 61828.6]"
      ]
     },
     "execution_count": 24,
     "metadata": {},
     "output_type": "execute_result"
    }
   ],
   "source": [
    "# Consolidate financial assets data into a Python list\n",
    "savings_data = [total_crypto_wallet, total_stocks_bonds]\n",
    "\n",
    "# Review the Python list savings_data\n",
    "savings_data\n",
    "    "
   ]
  },
  {
   "cell_type": "markdown",
   "metadata": {},
   "source": [
    "#### Step 2: Use the `savings_data` list to create a Pandas DataFrame named `savings_df`, and then display this DataFrame. The function to create the DataFrame should take the following three parameters:\n",
    "\n",
    "- `savings_data`: Use the list that you just created.\n",
    "\n",
    "- `columns`: Set this parameter equal to a Python list with a single value called `amount`.\n",
    "\n",
    "- `index`: Set this parameter equal to a Python list with the values of `crypto` and `stock/bond`.\n"
   ]
  },
  {
   "cell_type": "code",
   "execution_count": 25,
   "metadata": {},
   "outputs": [
    {
     "data": {
      "text/html": [
       "<div>\n",
       "<style scoped>\n",
       "    .dataframe tbody tr th:only-of-type {\n",
       "        vertical-align: middle;\n",
       "    }\n",
       "\n",
       "    .dataframe tbody tr th {\n",
       "        vertical-align: top;\n",
       "    }\n",
       "\n",
       "    .dataframe thead th {\n",
       "        text-align: right;\n",
       "    }\n",
       "</style>\n",
       "<table border=\"1\" class=\"dataframe\">\n",
       "  <thead>\n",
       "    <tr style=\"text-align: right;\">\n",
       "      <th></th>\n",
       "      <th>amount</th>\n",
       "    </tr>\n",
       "  </thead>\n",
       "  <tbody>\n",
       "    <tr>\n",
       "      <th>crypto</th>\n",
       "      <td>31962.355</td>\n",
       "    </tr>\n",
       "    <tr>\n",
       "      <th>stock/bond</th>\n",
       "      <td>61828.600</td>\n",
       "    </tr>\n",
       "  </tbody>\n",
       "</table>\n",
       "</div>"
      ],
      "text/plain": [
       "               amount\n",
       "crypto      31962.355\n",
       "stock/bond  61828.600"
      ]
     },
     "execution_count": 25,
     "metadata": {},
     "output_type": "execute_result"
    }
   ],
   "source": [
    "# Create a Pandas DataFrame called savings_df \n",
    "savings_df = pd.DataFrame(data=savings_data, columns=['amount'], index=['crypto', 'stock/bond'])\n",
    "\n",
    "# Display the savings_df DataFrame\n",
    "savings_df\n"
   ]
  },
  {
   "cell_type": "markdown",
   "metadata": {},
   "source": [
    "#### Step 3: Use the `savings_df` DataFrame to plot a pie chart that visualizes the composition of the member’s portfolio. The y-axis of the pie chart uses `amount`. Be sure to add a title."
   ]
  },
  {
   "cell_type": "code",
   "execution_count": 26,
   "metadata": {},
   "outputs": [
    {
     "data": {
      "text/plain": [
       "<AxesSubplot:title={'center':'Breakdown of Total Portfolio Value'}, ylabel='amount'>"
      ]
     },
     "execution_count": 26,
     "metadata": {},
     "output_type": "execute_result"
    },
    {
     "data": {
      "image/png": "[encoded data removed]",
      "text/plain": [
       "<Figure size 576x576 with 1 Axes>"
      ]
     },
     "metadata": {},
     "output_type": "display_data"
    }
   ],
   "source": [
    "# Plot the total value of the member's portfolio (crypto and stock/bond) in a pie chart\n",
    "savings_df.plot.pie(y='amount', figsize=(8, 8), title=\"Breakdown of Total Portfolio Value\")\n"
   ]
  },
  {
   "cell_type": "markdown",
   "metadata": {},
   "source": [
    "#### Step 4: Using Python, determine if the current portfolio has enough to create an emergency fund as part of the member’s financial plan. Ideally, an emergency fund should equal to three times the member’s monthly income. To do this, implement the following steps:\n",
    "\n",
    "Step 1. Create a variable named `emergency_fund_value`, and set it equal to three times the value of the member’s `monthly_income` of 12000. (You set this earlier in Part 1).\n",
    "\n",
    "Step 2. Create a series of three if statements to determine if the member’s total portfolio is large enough to fund the emergency portfolio:\n",
    "\n",
    "* If the total portfolio value is greater than the emergency fund value, display a message congratulating the member for having enough money in this fund.\n",
    "\n",
    "* Else if the total portfolio value is equal to the emergency fund value, display a message congratulating the member on reaching this important financial goal.\n",
    "\n",
    "* Else the total portfolio is less than the emergency fund value, so display a message showing how many dollars away the member is from reaching the goal. (Subtract the total portfolio value from the emergency fund value.)\n"
   ]
  },
  {
   "cell_type": "markdown",
   "metadata": {},
   "source": [
    "##### Step 4-1: Create a variable named `emergency_fund_value`, and set it equal to three times the value of the member’s `monthly_income` of 12000. (You set this earlier in Part 1)."
   ]
  },
  {
   "cell_type": "code",
   "execution_count": 27,
   "metadata": {},
   "outputs": [],
   "source": [
    "# Create a variable named emergency_fund_value\n",
    "emergency_fund_value = 3 * monthly_income\n"
   ]
  },
  {
   "cell_type": "markdown",
   "metadata": {},
   "source": [
    "##### Step 4-2: Create a series of three if statements to determine if the member’s total portfolio is large enough to fund the emergency portfolio:\n",
    "\n",
    "* If the total portfolio value is greater than the emergency fund value, display a message congratulating the member for having enough money in this fund.\n",
    "\n",
    "* Else if the total portfolio value is equal to the emergency fund value, display a message congratulating the member on reaching this important financial goal.\n",
    "\n",
    "* Else the total portfolio is less than the emergency fund value, so display a message showing how many dollars away the member is from reaching the goal. (Subtract the total portfolio value from the emergency fund value.)"
   ]
  },
  {
   "cell_type": "code",
   "execution_count": 28,
   "metadata": {},
   "outputs": [
    {
     "name": "stdout",
     "output_type": "stream",
     "text": [
      "Congratulations! You have more than enough money saved to cover emergencies, with $57790.96 to spare.\n"
     ]
    }
   ],
   "source": [
    "# Evaluate the possibility of creating an emergency fund with 3 conditions:\n",
    "if total_portfolio > emergency_fund_value:\n",
    "    print(f\"Congratulations! You have more than enough money saved to cover emergencies, with ${total_portfolio - emergency_fund_value:0.2f} to spare.\")\n",
    "elif total_portfolio == emergency_fund_value:\n",
    "    print(\"Congratulations! You have just enough money saved to cover emergencies.\")\n",
    "else:\n",
    "    print(f\"Almost there! You'll need to save an additional ${emergency_fund_value - total_portfolio:0.2f} to fully fund your emergency fund.\")\n"
   ]
  },
  {
   "cell_type": "markdown",
   "metadata": {},
   "source": [
    "## Part 2: Create a Financial Planner for Retirement"
   ]
  },
  {
   "cell_type": "markdown",
   "metadata": {},
   "source": [
    "### Create the Monte Carlo Simulation\n",
    "\n",
    "In this section, you’ll use the MCForecastTools library to create a Monte Carlo simulation for the member’s savings portfolio. To do this, complete the following steps:\n",
    "\n",
    "1. Make an API call via the Alpaca SDK to get 3 years of historical closing prices for a traditional 60/40 portfolio split: 60% stocks (SPY) and 40% bonds (AGG).\n",
    "\n",
    "2. Run a Monte Carlo simulation of 500 samples and 30 years for the 60/40 portfolio, and then plot the results.The following image shows the overlay line plot resulting from a simulation with these characteristics. However, because a random number generator is used to run each live Monte Carlo simulation, your image will differ slightly from this exact image:\n",
    "\n",
    "![A screenshot depicts the resulting plot.](Images/5-4-monte-carlo-line-plot.png)\n",
    "\n",
    "3. Plot the probability distribution of the Monte Carlo simulation. Plot the probability distribution of the Monte Carlo simulation. The following image shows the histogram plot resulting from a simulation with these characteristics. However, because a random number generator is used to run each live Monte Carlo simulation, your image will differ slightly from this exact image:\n",
    "\n",
    "![A screenshot depicts the histogram plot.](Images/5-4-monte-carlo-histogram.png)\n",
    "\n",
    "4. Generate the summary statistics for the Monte Carlo simulation.\n",
    "\n"
   ]
  },
  {
   "cell_type": "markdown",
   "metadata": {},
   "source": [
    "#### Step 1: Make an API call via the Alpaca SDK to get 3 years of historical closing prices for a traditional 60/40 portfolio split: 60% stocks (SPY) and 40% bonds (AGG)."
   ]
  },
  {
   "cell_type": "code",
   "execution_count": 29,
   "metadata": {},
   "outputs": [
    {
     "name": "stdout",
     "output_type": "stream",
     "text": [
      "2022-06-23\n",
      "2019-06-24\n"
     ]
    }
   ],
   "source": [
    "# Set start and end dates of 3 years back from your current date\n",
    "# Alternatively, you can use an end date of 2020-08-07 and work 3 years back from that date \n",
    "\n",
    "print(prior_business_day_str) # from Financial Planner for Emergencies coding\n",
    "\n",
    "three_years_ago = prior_business_day - datetime.timedelta(days=365*3)\n",
    "three_years_ago_str = three_years_ago.strftime ('%Y-%m-%d') # formats the date to YYYY-MM-DD and stores as a string\n",
    "print(three_years_ago_str)\n",
    "\n",
    "start_date_2 = pd.Timestamp(three_years_ago_str, tz=\"America/New_York\").isoformat()\n",
    "end_date_2 = pd.Timestamp(prior_business_day_str, tz=\"America/New_York\").isoformat()"
   ]
  },
  {
   "cell_type": "code",
   "execution_count": 39,
   "metadata": {},
   "outputs": [
    {
     "data": {
      "text/html": [
       "<div>\n",
       "<style scoped>\n",
       "    .dataframe tbody tr th:only-of-type {\n",
       "        vertical-align: middle;\n",
       "    }\n",
       "\n",
       "    .dataframe tbody tr th {\n",
       "        vertical-align: top;\n",
       "    }\n",
       "\n",
       "    .dataframe thead tr th {\n",
       "        text-align: left;\n",
       "    }\n",
       "\n",
       "    .dataframe thead tr:last-of-type th {\n",
       "        text-align: right;\n",
       "    }\n",
       "</style>\n",
       "<table border=\"1\" class=\"dataframe\">\n",
       "  <thead>\n",
       "    <tr>\n",
       "      <th></th>\n",
       "      <th>SPY</th>\n",
       "      <th>AGG</th>\n",
       "    </tr>\n",
       "    <tr>\n",
       "      <th></th>\n",
       "      <th>close</th>\n",
       "      <th>close</th>\n",
       "    </tr>\n",
       "    <tr>\n",
       "      <th>timestamp</th>\n",
       "      <th></th>\n",
       "      <th></th>\n",
       "    </tr>\n",
       "  </thead>\n",
       "  <tbody>\n",
       "    <tr>\n",
       "      <th>2019-06-24 04:00:00+00:00</th>\n",
       "      <td>293.64</td>\n",
       "      <td>111.32</td>\n",
       "    </tr>\n",
       "    <tr>\n",
       "      <th>2019-06-25 04:00:00+00:00</th>\n",
       "      <td>290.76</td>\n",
       "      <td>111.34</td>\n",
       "    </tr>\n",
       "    <tr>\n",
       "      <th>2019-06-26 04:00:00+00:00</th>\n",
       "      <td>290.47</td>\n",
       "      <td>111.09</td>\n",
       "    </tr>\n",
       "    <tr>\n",
       "      <th>2019-06-27 04:00:00+00:00</th>\n",
       "      <td>291.50</td>\n",
       "      <td>111.40</td>\n",
       "    </tr>\n",
       "    <tr>\n",
       "      <th>2019-06-28 04:00:00+00:00</th>\n",
       "      <td>293.00</td>\n",
       "      <td>111.35</td>\n",
       "    </tr>\n",
       "    <tr>\n",
       "      <th>...</th>\n",
       "      <td>...</td>\n",
       "      <td>...</td>\n",
       "    </tr>\n",
       "    <tr>\n",
       "      <th>2022-06-16 04:00:00+00:00</th>\n",
       "      <td>366.65</td>\n",
       "      <td>100.35</td>\n",
       "    </tr>\n",
       "    <tr>\n",
       "      <th>2022-06-17 04:00:00+00:00</th>\n",
       "      <td>365.86</td>\n",
       "      <td>100.34</td>\n",
       "    </tr>\n",
       "    <tr>\n",
       "      <th>2022-06-21 04:00:00+00:00</th>\n",
       "      <td>375.07</td>\n",
       "      <td>99.94</td>\n",
       "    </tr>\n",
       "    <tr>\n",
       "      <th>2022-06-22 04:00:00+00:00</th>\n",
       "      <td>374.39</td>\n",
       "      <td>100.79</td>\n",
       "    </tr>\n",
       "    <tr>\n",
       "      <th>2022-06-23 04:00:00+00:00</th>\n",
       "      <td>378.06</td>\n",
       "      <td>101.21</td>\n",
       "    </tr>\n",
       "  </tbody>\n",
       "</table>\n",
       "<p>757 rows × 2 columns</p>\n",
       "</div>"
      ],
      "text/plain": [
       "                              SPY     AGG\n",
       "                            close   close\n",
       "timestamp                                \n",
       "2019-06-24 04:00:00+00:00  293.64  111.32\n",
       "2019-06-25 04:00:00+00:00  290.76  111.34\n",
       "2019-06-26 04:00:00+00:00  290.47  111.09\n",
       "2019-06-27 04:00:00+00:00  291.50  111.40\n",
       "2019-06-28 04:00:00+00:00  293.00  111.35\n",
       "...                           ...     ...\n",
       "2022-06-16 04:00:00+00:00  366.65  100.35\n",
       "2022-06-17 04:00:00+00:00  365.86  100.34\n",
       "2022-06-21 04:00:00+00:00  375.07   99.94\n",
       "2022-06-22 04:00:00+00:00  374.39  100.79\n",
       "2022-06-23 04:00:00+00:00  378.06  101.21\n",
       "\n",
       "[757 rows x 2 columns]"
      ]
     },
     "execution_count": 39,
     "metadata": {},
     "output_type": "execute_result"
    }
   ],
   "source": [
    "# Use the Alpaca get_bars function to make the API call to get the 3 years worth of pricing data\n",
    "# The tickers and timeframe parameters should have been set in Part 1 of this activity \n",
    "# The start and end dates should be updated with the information set above\n",
    "# Remember to add the df property to the end of the call so the response is returned as a DataFrame\n",
    "portfolio_2_df = alpaca.get_bars(\n",
    "    tickers,\n",
    "    timeframe,\n",
    "    start=start_date_2,\n",
    "    end=end_date_2).df\n",
    "\n",
    "# Take only the \"close\" and \"symbol\" columns for the dataframe.\n",
    "portfolio_2_df = portfolio_2_df[[\"close\", \"symbol\"]]\n",
    "\n",
    "# Reorganize the DataFrame\n",
    "# Separate ticker data\n",
    "SPY_2 = portfolio_2_df[portfolio_2_df['symbol']=='SPY'].drop('symbol', axis=1)\n",
    "AGG_2 = portfolio_2_df[portfolio_2_df['symbol']=='AGG'].drop('symbol', axis=1)\n",
    "\n",
    "# Concatenate the ticker DataFrames\n",
    "portfolio_2_df = pd.concat([SPY_2,AGG_2], axis=1, keys=['SPY','AGG'])\n",
    "\n",
    "# Display both the first and last five rows of the DataFrame\n",
    "portfolio_2_df\n"
   ]
  },
  {
   "cell_type": "markdown",
   "metadata": {},
   "source": [
    "#### Step 2: Run a Monte Carlo simulation of 500 samples and 30 years for the 60/40 portfolio, and then plot the results."
   ]
  },
  {
   "cell_type": "code",
   "execution_count": 40,
   "metadata": {},
   "outputs": [
    {
     "data": {
      "text/html": [
       "<div>\n",
       "<style scoped>\n",
       "    .dataframe tbody tr th:only-of-type {\n",
       "        vertical-align: middle;\n",
       "    }\n",
       "\n",
       "    .dataframe tbody tr th {\n",
       "        vertical-align: top;\n",
       "    }\n",
       "\n",
       "    .dataframe thead tr th {\n",
       "        text-align: left;\n",
       "    }\n",
       "\n",
       "    .dataframe thead tr:last-of-type th {\n",
       "        text-align: right;\n",
       "    }\n",
       "</style>\n",
       "<table border=\"1\" class=\"dataframe\">\n",
       "  <thead>\n",
       "    <tr>\n",
       "      <th></th>\n",
       "      <th colspan=\"2\" halign=\"left\">SPY</th>\n",
       "      <th colspan=\"2\" halign=\"left\">AGG</th>\n",
       "    </tr>\n",
       "    <tr>\n",
       "      <th></th>\n",
       "      <th>close</th>\n",
       "      <th>daily_return</th>\n",
       "      <th>close</th>\n",
       "      <th>daily_return</th>\n",
       "    </tr>\n",
       "    <tr>\n",
       "      <th>timestamp</th>\n",
       "      <th></th>\n",
       "      <th></th>\n",
       "      <th></th>\n",
       "      <th></th>\n",
       "    </tr>\n",
       "  </thead>\n",
       "  <tbody>\n",
       "    <tr>\n",
       "      <th>2019-06-24 04:00:00+00:00</th>\n",
       "      <td>293.64</td>\n",
       "      <td>NaN</td>\n",
       "      <td>111.32</td>\n",
       "      <td>NaN</td>\n",
       "    </tr>\n",
       "    <tr>\n",
       "      <th>2019-06-25 04:00:00+00:00</th>\n",
       "      <td>290.76</td>\n",
       "      <td>-0.009808</td>\n",
       "      <td>111.34</td>\n",
       "      <td>0.000180</td>\n",
       "    </tr>\n",
       "    <tr>\n",
       "      <th>2019-06-26 04:00:00+00:00</th>\n",
       "      <td>290.47</td>\n",
       "      <td>-0.000997</td>\n",
       "      <td>111.09</td>\n",
       "      <td>-0.002245</td>\n",
       "    </tr>\n",
       "    <tr>\n",
       "      <th>2019-06-27 04:00:00+00:00</th>\n",
       "      <td>291.50</td>\n",
       "      <td>0.003546</td>\n",
       "      <td>111.40</td>\n",
       "      <td>0.002791</td>\n",
       "    </tr>\n",
       "    <tr>\n",
       "      <th>2019-06-28 04:00:00+00:00</th>\n",
       "      <td>293.00</td>\n",
       "      <td>0.005146</td>\n",
       "      <td>111.35</td>\n",
       "      <td>-0.000449</td>\n",
       "    </tr>\n",
       "    <tr>\n",
       "      <th>...</th>\n",
       "      <td>...</td>\n",
       "      <td>...</td>\n",
       "      <td>...</td>\n",
       "      <td>...</td>\n",
       "    </tr>\n",
       "    <tr>\n",
       "      <th>2022-06-16 04:00:00+00:00</th>\n",
       "      <td>366.65</td>\n",
       "      <td>-0.033096</td>\n",
       "      <td>100.35</td>\n",
       "      <td>0.002397</td>\n",
       "    </tr>\n",
       "    <tr>\n",
       "      <th>2022-06-17 04:00:00+00:00</th>\n",
       "      <td>365.86</td>\n",
       "      <td>-0.002155</td>\n",
       "      <td>100.34</td>\n",
       "      <td>-0.000100</td>\n",
       "    </tr>\n",
       "    <tr>\n",
       "      <th>2022-06-21 04:00:00+00:00</th>\n",
       "      <td>375.07</td>\n",
       "      <td>0.025174</td>\n",
       "      <td>99.94</td>\n",
       "      <td>-0.003986</td>\n",
       "    </tr>\n",
       "    <tr>\n",
       "      <th>2022-06-22 04:00:00+00:00</th>\n",
       "      <td>374.39</td>\n",
       "      <td>-0.001813</td>\n",
       "      <td>100.79</td>\n",
       "      <td>0.008505</td>\n",
       "    </tr>\n",
       "    <tr>\n",
       "      <th>2022-06-23 04:00:00+00:00</th>\n",
       "      <td>378.06</td>\n",
       "      <td>0.009803</td>\n",
       "      <td>101.21</td>\n",
       "      <td>0.004167</td>\n",
       "    </tr>\n",
       "  </tbody>\n",
       "</table>\n",
       "<p>757 rows × 4 columns</p>\n",
       "</div>"
      ],
      "text/plain": [
       "                              SPY                  AGG             \n",
       "                            close daily_return   close daily_return\n",
       "timestamp                                                          \n",
       "2019-06-24 04:00:00+00:00  293.64          NaN  111.32          NaN\n",
       "2019-06-25 04:00:00+00:00  290.76    -0.009808  111.34     0.000180\n",
       "2019-06-26 04:00:00+00:00  290.47    -0.000997  111.09    -0.002245\n",
       "2019-06-27 04:00:00+00:00  291.50     0.003546  111.40     0.002791\n",
       "2019-06-28 04:00:00+00:00  293.00     0.005146  111.35    -0.000449\n",
       "...                           ...          ...     ...          ...\n",
       "2022-06-16 04:00:00+00:00  366.65    -0.033096  100.35     0.002397\n",
       "2022-06-17 04:00:00+00:00  365.86    -0.002155  100.34    -0.000100\n",
       "2022-06-21 04:00:00+00:00  375.07     0.025174   99.94    -0.003986\n",
       "2022-06-22 04:00:00+00:00  374.39    -0.001813  100.79     0.008505\n",
       "2022-06-23 04:00:00+00:00  378.06     0.009803  101.21     0.004167\n",
       "\n",
       "[757 rows x 4 columns]"
      ]
     },
     "execution_count": 40,
     "metadata": {},
     "output_type": "execute_result"
    }
   ],
   "source": [
    "# Configure the Monte Carlo simulation to forecast 30 years cumulative returns\n",
    "# The weights should be split 40% to AGG and 60% to SPY.\n",
    "# Run 500 samples.\n",
    "MC_60_40 = MCSimulation(\n",
    "    portfolio_data = portfolio_2_df,\n",
    "    weights = [0.60, 0.40],\n",
    "    num_simulation=500,\n",
    "    num_trading_days=252*30)\n",
    "\n",
    "# Review the simulation input data\n",
    "MC_60_40.portfolio_data\n"
   ]
  },
  {
   "cell_type": "code",
   "execution_count": 41,
   "metadata": {},
   "outputs": [
    {
     "name": "stdout",
     "output_type": "stream",
     "text": [
      "Running Monte Carlo simulation number 0.\n",
      "Running Monte Carlo simulation number 10.\n",
      "Running Monte Carlo simulation number 20.\n",
      "Running Monte Carlo simulation number 30.\n",
      "Running Monte Carlo simulation number 40.\n",
      "Running Monte Carlo simulation number 50.\n",
      "Running Monte Carlo simulation number 60.\n",
      "Running Monte Carlo simulation number 70.\n",
      "Running Monte Carlo simulation number 80.\n",
      "Running Monte Carlo simulation number 90.\n",
      "Running Monte Carlo simulation number 100.\n"
     ]
    },
    {
     "name": "stderr",
     "output_type": "stream",
     "text": [
      "/Users/jasonbuckholt/Desktop/FinTech_Workspace/Challenges/Module_5/MCForecastTools.py:117: PerformanceWarning: DataFrame is highly fragmented.  This is usually the result of calling `frame.insert` many times, which has poor performance.  Consider joining all columns at once using pd.concat(axis=1) instead.  To get a de-fragmented frame, use `newframe = frame.copy()`\n",
      "  portfolio_cumulative_returns[n] = (1 + sim_df.fillna(0)).cumprod()\n"
     ]
    },
    {
     "name": "stdout",
     "output_type": "stream",
     "text": [
      "Running Monte Carlo simulation number 110.\n",
      "Running Monte Carlo simulation number 120.\n",
      "Running Monte Carlo simulation number 130.\n",
      "Running Monte Carlo simulation number 140.\n",
      "Running Monte Carlo simulation number 150.\n",
      "Running Monte Carlo simulation number 160.\n",
      "Running Monte Carlo simulation number 170.\n",
      "Running Monte Carlo simulation number 180.\n",
      "Running Monte Carlo simulation number 190.\n",
      "Running Monte Carlo simulation number 200.\n",
      "Running Monte Carlo simulation number 210.\n",
      "Running Monte Carlo simulation number 220.\n",
      "Running Monte Carlo simulation number 230.\n",
      "Running Monte Carlo simulation number 240.\n",
      "Running Monte Carlo simulation number 250.\n",
      "Running Monte Carlo simulation number 260.\n",
      "Running Monte Carlo simulation number 270.\n",
      "Running Monte Carlo simulation number 280.\n",
      "Running Monte Carlo simulation number 290.\n",
      "Running Monte Carlo simulation number 300.\n",
      "Running Monte Carlo simulation number 310.\n",
      "Running Monte Carlo simulation number 320.\n",
      "Running Monte Carlo simulation number 330.\n",
      "Running Monte Carlo simulation number 340.\n",
      "Running Monte Carlo simulation number 350.\n",
      "Running Monte Carlo simulation number 360.\n",
      "Running Monte Carlo simulation number 370.\n",
      "Running Monte Carlo simulation number 380.\n",
      "Running Monte Carlo simulation number 390.\n",
      "Running Monte Carlo simulation number 400.\n",
      "Running Monte Carlo simulation number 410.\n",
      "Running Monte Carlo simulation number 420.\n",
      "Running Monte Carlo simulation number 430.\n",
      "Running Monte Carlo simulation number 440.\n",
      "Running Monte Carlo simulation number 450.\n",
      "Running Monte Carlo simulation number 460.\n",
      "Running Monte Carlo simulation number 470.\n",
      "Running Monte Carlo simulation number 480.\n",
      "Running Monte Carlo simulation number 490.\n"
     ]
    },
    {
     "data": {
      "text/html": [
       "<div>\n",
       "<style scoped>\n",
       "    .dataframe tbody tr th:only-of-type {\n",
       "        vertical-align: middle;\n",
       "    }\n",
       "\n",
       "    .dataframe tbody tr th {\n",
       "        vertical-align: top;\n",
       "    }\n",
       "\n",
       "    .dataframe thead th {\n",
       "        text-align: right;\n",
       "    }\n",
       "</style>\n",
       "<table border=\"1\" class=\"dataframe\">\n",
       "  <thead>\n",
       "    <tr style=\"text-align: right;\">\n",
       "      <th></th>\n",
       "      <th>0</th>\n",
       "      <th>1</th>\n",
       "      <th>2</th>\n",
       "      <th>3</th>\n",
       "      <th>4</th>\n",
       "      <th>5</th>\n",
       "      <th>6</th>\n",
       "      <th>7</th>\n",
       "      <th>8</th>\n",
       "      <th>9</th>\n",
       "      <th>...</th>\n",
       "      <th>490</th>\n",
       "      <th>491</th>\n",
       "      <th>492</th>\n",
       "      <th>493</th>\n",
       "      <th>494</th>\n",
       "      <th>495</th>\n",
       "      <th>496</th>\n",
       "      <th>497</th>\n",
       "      <th>498</th>\n",
       "      <th>499</th>\n",
       "    </tr>\n",
       "  </thead>\n",
       "  <tbody>\n",
       "    <tr>\n",
       "      <th>0</th>\n",
       "      <td>1.000000</td>\n",
       "      <td>1.000000</td>\n",
       "      <td>1.000000</td>\n",
       "      <td>1.000000</td>\n",
       "      <td>1.000000</td>\n",
       "      <td>1.000000</td>\n",
       "      <td>1.000000</td>\n",
       "      <td>1.000000</td>\n",
       "      <td>1.000000</td>\n",
       "      <td>1.000000</td>\n",
       "      <td>...</td>\n",
       "      <td>1.000000</td>\n",
       "      <td>1.000000</td>\n",
       "      <td>1.000000</td>\n",
       "      <td>1.000000</td>\n",
       "      <td>1.000000</td>\n",
       "      <td>1.000000</td>\n",
       "      <td>1.000000</td>\n",
       "      <td>1.000000</td>\n",
       "      <td>1.000000</td>\n",
       "      <td>1.000000</td>\n",
       "    </tr>\n",
       "    <tr>\n",
       "      <th>1</th>\n",
       "      <td>1.000649</td>\n",
       "      <td>1.005030</td>\n",
       "      <td>1.008262</td>\n",
       "      <td>1.002873</td>\n",
       "      <td>0.997284</td>\n",
       "      <td>1.006590</td>\n",
       "      <td>1.003678</td>\n",
       "      <td>1.011671</td>\n",
       "      <td>0.996700</td>\n",
       "      <td>1.010592</td>\n",
       "      <td>...</td>\n",
       "      <td>1.003647</td>\n",
       "      <td>0.996579</td>\n",
       "      <td>0.985071</td>\n",
       "      <td>0.986488</td>\n",
       "      <td>0.993960</td>\n",
       "      <td>0.991979</td>\n",
       "      <td>0.992285</td>\n",
       "      <td>0.999077</td>\n",
       "      <td>1.004727</td>\n",
       "      <td>1.008759</td>\n",
       "    </tr>\n",
       "    <tr>\n",
       "      <th>2</th>\n",
       "      <td>0.992634</td>\n",
       "      <td>1.010161</td>\n",
       "      <td>0.995855</td>\n",
       "      <td>1.001796</td>\n",
       "      <td>1.003453</td>\n",
       "      <td>0.999959</td>\n",
       "      <td>1.009597</td>\n",
       "      <td>1.006150</td>\n",
       "      <td>0.991099</td>\n",
       "      <td>1.003429</td>\n",
       "      <td>...</td>\n",
       "      <td>0.996115</td>\n",
       "      <td>1.008136</td>\n",
       "      <td>1.002673</td>\n",
       "      <td>0.987775</td>\n",
       "      <td>0.984211</td>\n",
       "      <td>0.990058</td>\n",
       "      <td>0.992566</td>\n",
       "      <td>0.995026</td>\n",
       "      <td>1.003020</td>\n",
       "      <td>1.017614</td>\n",
       "    </tr>\n",
       "    <tr>\n",
       "      <th>3</th>\n",
       "      <td>0.999521</td>\n",
       "      <td>0.999916</td>\n",
       "      <td>1.002540</td>\n",
       "      <td>1.005386</td>\n",
       "      <td>0.994017</td>\n",
       "      <td>1.001976</td>\n",
       "      <td>0.993088</td>\n",
       "      <td>1.006996</td>\n",
       "      <td>0.984548</td>\n",
       "      <td>1.009911</td>\n",
       "      <td>...</td>\n",
       "      <td>0.982606</td>\n",
       "      <td>1.001610</td>\n",
       "      <td>0.991840</td>\n",
       "      <td>0.966313</td>\n",
       "      <td>0.949640</td>\n",
       "      <td>1.001122</td>\n",
       "      <td>0.981928</td>\n",
       "      <td>0.999607</td>\n",
       "      <td>1.013376</td>\n",
       "      <td>1.016830</td>\n",
       "    </tr>\n",
       "    <tr>\n",
       "      <th>4</th>\n",
       "      <td>1.004355</td>\n",
       "      <td>1.000057</td>\n",
       "      <td>1.001112</td>\n",
       "      <td>1.008165</td>\n",
       "      <td>0.985337</td>\n",
       "      <td>0.993676</td>\n",
       "      <td>0.996554</td>\n",
       "      <td>1.002927</td>\n",
       "      <td>1.001659</td>\n",
       "      <td>1.002578</td>\n",
       "      <td>...</td>\n",
       "      <td>0.982829</td>\n",
       "      <td>1.004098</td>\n",
       "      <td>0.996963</td>\n",
       "      <td>0.980073</td>\n",
       "      <td>0.949495</td>\n",
       "      <td>0.987081</td>\n",
       "      <td>0.992136</td>\n",
       "      <td>1.020937</td>\n",
       "      <td>0.996877</td>\n",
       "      <td>1.012916</td>\n",
       "    </tr>\n",
       "    <tr>\n",
       "      <th>...</th>\n",
       "      <td>...</td>\n",
       "      <td>...</td>\n",
       "      <td>...</td>\n",
       "      <td>...</td>\n",
       "      <td>...</td>\n",
       "      <td>...</td>\n",
       "      <td>...</td>\n",
       "      <td>...</td>\n",
       "      <td>...</td>\n",
       "      <td>...</td>\n",
       "      <td>...</td>\n",
       "      <td>...</td>\n",
       "      <td>...</td>\n",
       "      <td>...</td>\n",
       "      <td>...</td>\n",
       "      <td>...</td>\n",
       "      <td>...</td>\n",
       "      <td>...</td>\n",
       "      <td>...</td>\n",
       "      <td>...</td>\n",
       "      <td>...</td>\n",
       "    </tr>\n",
       "    <tr>\n",
       "      <th>7556</th>\n",
       "      <td>10.815464</td>\n",
       "      <td>18.542293</td>\n",
       "      <td>1.424575</td>\n",
       "      <td>2.588759</td>\n",
       "      <td>3.930275</td>\n",
       "      <td>1.167132</td>\n",
       "      <td>2.099032</td>\n",
       "      <td>7.124757</td>\n",
       "      <td>5.552539</td>\n",
       "      <td>3.736578</td>\n",
       "      <td>...</td>\n",
       "      <td>1.462714</td>\n",
       "      <td>2.486068</td>\n",
       "      <td>2.924928</td>\n",
       "      <td>1.710287</td>\n",
       "      <td>1.114830</td>\n",
       "      <td>2.713878</td>\n",
       "      <td>13.794616</td>\n",
       "      <td>20.160648</td>\n",
       "      <td>3.370478</td>\n",
       "      <td>3.096902</td>\n",
       "    </tr>\n",
       "    <tr>\n",
       "      <th>7557</th>\n",
       "      <td>10.814175</td>\n",
       "      <td>18.338917</td>\n",
       "      <td>1.420468</td>\n",
       "      <td>2.586429</td>\n",
       "      <td>3.938645</td>\n",
       "      <td>1.158109</td>\n",
       "      <td>2.118824</td>\n",
       "      <td>7.134317</td>\n",
       "      <td>5.558751</td>\n",
       "      <td>3.820884</td>\n",
       "      <td>...</td>\n",
       "      <td>1.465378</td>\n",
       "      <td>2.504927</td>\n",
       "      <td>2.990251</td>\n",
       "      <td>1.753574</td>\n",
       "      <td>1.103297</td>\n",
       "      <td>2.689840</td>\n",
       "      <td>13.931232</td>\n",
       "      <td>20.338693</td>\n",
       "      <td>3.384227</td>\n",
       "      <td>3.116648</td>\n",
       "    </tr>\n",
       "    <tr>\n",
       "      <th>7558</th>\n",
       "      <td>10.837432</td>\n",
       "      <td>18.144034</td>\n",
       "      <td>1.415591</td>\n",
       "      <td>2.589404</td>\n",
       "      <td>3.916160</td>\n",
       "      <td>1.173090</td>\n",
       "      <td>2.170524</td>\n",
       "      <td>7.050112</td>\n",
       "      <td>5.486393</td>\n",
       "      <td>3.832144</td>\n",
       "      <td>...</td>\n",
       "      <td>1.468223</td>\n",
       "      <td>2.487739</td>\n",
       "      <td>3.017628</td>\n",
       "      <td>1.760246</td>\n",
       "      <td>1.097584</td>\n",
       "      <td>2.626438</td>\n",
       "      <td>13.933834</td>\n",
       "      <td>20.243447</td>\n",
       "      <td>3.379093</td>\n",
       "      <td>3.129208</td>\n",
       "    </tr>\n",
       "    <tr>\n",
       "      <th>7559</th>\n",
       "      <td>10.823352</td>\n",
       "      <td>18.154946</td>\n",
       "      <td>1.425875</td>\n",
       "      <td>2.558807</td>\n",
       "      <td>3.924702</td>\n",
       "      <td>1.183784</td>\n",
       "      <td>2.150536</td>\n",
       "      <td>7.006677</td>\n",
       "      <td>5.553245</td>\n",
       "      <td>3.777961</td>\n",
       "      <td>...</td>\n",
       "      <td>1.466900</td>\n",
       "      <td>2.491532</td>\n",
       "      <td>2.999514</td>\n",
       "      <td>1.746834</td>\n",
       "      <td>1.089613</td>\n",
       "      <td>2.614455</td>\n",
       "      <td>13.881910</td>\n",
       "      <td>20.028499</td>\n",
       "      <td>3.443605</td>\n",
       "      <td>3.109331</td>\n",
       "    </tr>\n",
       "    <tr>\n",
       "      <th>7560</th>\n",
       "      <td>10.871498</td>\n",
       "      <td>17.978928</td>\n",
       "      <td>1.448661</td>\n",
       "      <td>2.501171</td>\n",
       "      <td>3.965813</td>\n",
       "      <td>1.199432</td>\n",
       "      <td>2.109304</td>\n",
       "      <td>6.997640</td>\n",
       "      <td>5.443727</td>\n",
       "      <td>3.793113</td>\n",
       "      <td>...</td>\n",
       "      <td>1.469546</td>\n",
       "      <td>2.497043</td>\n",
       "      <td>3.020345</td>\n",
       "      <td>1.744627</td>\n",
       "      <td>1.091465</td>\n",
       "      <td>2.596658</td>\n",
       "      <td>14.072723</td>\n",
       "      <td>20.049831</td>\n",
       "      <td>3.429029</td>\n",
       "      <td>3.070372</td>\n",
       "    </tr>\n",
       "  </tbody>\n",
       "</table>\n",
       "<p>7561 rows × 500 columns</p>\n",
       "</div>"
      ],
      "text/plain": [
       "            0          1         2         3         4         5         6    \\\n",
       "0      1.000000   1.000000  1.000000  1.000000  1.000000  1.000000  1.000000   \n",
       "1      1.000649   1.005030  1.008262  1.002873  0.997284  1.006590  1.003678   \n",
       "2      0.992634   1.010161  0.995855  1.001796  1.003453  0.999959  1.009597   \n",
       "3      0.999521   0.999916  1.002540  1.005386  0.994017  1.001976  0.993088   \n",
       "4      1.004355   1.000057  1.001112  1.008165  0.985337  0.993676  0.996554   \n",
       "...         ...        ...       ...       ...       ...       ...       ...   \n",
       "7556  10.815464  18.542293  1.424575  2.588759  3.930275  1.167132  2.099032   \n",
       "7557  10.814175  18.338917  1.420468  2.586429  3.938645  1.158109  2.118824   \n",
       "7558  10.837432  18.144034  1.415591  2.589404  3.916160  1.173090  2.170524   \n",
       "7559  10.823352  18.154946  1.425875  2.558807  3.924702  1.183784  2.150536   \n",
       "7560  10.871498  17.978928  1.448661  2.501171  3.965813  1.199432  2.109304   \n",
       "\n",
       "           7         8         9    ...       490       491       492  \\\n",
       "0     1.000000  1.000000  1.000000  ...  1.000000  1.000000  1.000000   \n",
       "1     1.011671  0.996700  1.010592  ...  1.003647  0.996579  0.985071   \n",
       "2     1.006150  0.991099  1.003429  ...  0.996115  1.008136  1.002673   \n",
       "3     1.006996  0.984548  1.009911  ...  0.982606  1.001610  0.991840   \n",
       "4     1.002927  1.001659  1.002578  ...  0.982829  1.004098  0.996963   \n",
       "...        ...       ...       ...  ...       ...       ...       ...   \n",
       "7556  7.124757  5.552539  3.736578  ...  1.462714  2.486068  2.924928   \n",
       "7557  7.134317  5.558751  3.820884  ...  1.465378  2.504927  2.990251   \n",
       "7558  7.050112  5.486393  3.832144  ...  1.468223  2.487739  3.017628   \n",
       "7559  7.006677  5.553245  3.777961  ...  1.466900  2.491532  2.999514   \n",
       "7560  6.997640  5.443727  3.793113  ...  1.469546  2.497043  3.020345   \n",
       "\n",
       "           493       494       495        496        497       498       499  \n",
       "0     1.000000  1.000000  1.000000   1.000000   1.000000  1.000000  1.000000  \n",
       "1     0.986488  0.993960  0.991979   0.992285   0.999077  1.004727  1.008759  \n",
       "2     0.987775  0.984211  0.990058   0.992566   0.995026  1.003020  1.017614  \n",
       "3     0.966313  0.949640  1.001122   0.981928   0.999607  1.013376  1.016830  \n",
       "4     0.980073  0.949495  0.987081   0.992136   1.020937  0.996877  1.012916  \n",
       "...        ...       ...       ...        ...        ...       ...       ...  \n",
       "7556  1.710287  1.114830  2.713878  13.794616  20.160648  3.370478  3.096902  \n",
       "7557  1.753574  1.103297  2.689840  13.931232  20.338693  3.384227  3.116648  \n",
       "7558  1.760246  1.097584  2.626438  13.933834  20.243447  3.379093  3.129208  \n",
       "7559  1.746834  1.089613  2.614455  13.881910  20.028499  3.443605  3.109331  \n",
       "7560  1.744627  1.091465  2.596658  14.072723  20.049831  3.429029  3.070372  \n",
       "\n",
       "[7561 rows x 500 columns]"
      ]
     },
     "execution_count": 41,
     "metadata": {},
     "output_type": "execute_result"
    }
   ],
   "source": [
    "# Run the Monte Carlo simulation to forecast 30 years cumulative returns\n",
    "MC_60_40.calc_cumulative_return()\n"
   ]
  },
  {
   "cell_type": "code",
   "execution_count": 44,
   "metadata": {},
   "outputs": [
    {
     "data": {
      "text/plain": [
       "<AxesSubplot:title={'center':'500 Simulations of Cumulative Portfolio Return Trajectories Over the Next 7560 Trading Days.'}>"
      ]
     },
     "execution_count": 44,
     "metadata": {},
     "output_type": "execute_result"
    },
    {
     "data": {
      "image/png": "[encoded data removed]",
      "text/plain": [
       "<Figure size 432x288 with 1 Axes>"
      ]
     },
     "metadata": {
      "needs_background": "light"
     },
     "output_type": "display_data"
    }
   ],
   "source": [
    "# Visualize the 30-year Monte Carlo simulation by creating an\n",
    "# overlay line plot\n",
    "MC_60_40_overlay_plot = MC_60_40.plot_simulation()\n",
    "MC_60_40_overlay_plot"
   ]
  },
  {
   "cell_type": "markdown",
   "metadata": {},
   "source": [
    "#### Step 3: Plot the probability distribution of the Monte Carlo simulation."
   ]
  },
  {
   "cell_type": "code",
   "execution_count": 45,
   "metadata": {},
   "outputs": [
    {
     "data": {
      "text/plain": [
       "<AxesSubplot:title={'center':'Distribution of Final Cumuluative Returns Across All 500 Simulations'}, ylabel='Frequency'>"
      ]
     },
     "execution_count": 45,
     "metadata": {},
     "output_type": "execute_result"
    },
    {
     "data": {
      "image/png": "[encoded data removed]",
      "text/plain": [
       "<Figure size 432x288 with 1 Axes>"
      ]
     },
     "metadata": {
      "needs_background": "light"
     },
     "output_type": "display_data"
    }
   ],
   "source": [
    "# Visualize the probability distribution of the 30-year Monte Carlo simulation \n",
    "# by plotting a histogram\n",
    "MC_60_40_distribution_plot = MC_60_40.plot_distribution()\n",
    "MC_60_40_distribution_plot\n"
   ]
  },
  {
   "cell_type": "markdown",
   "metadata": {},
   "source": [
    "#### Step 4: Generate the summary statistics for the Monte Carlo simulation."
   ]
  },
  {
   "cell_type": "code",
   "execution_count": 46,
   "metadata": {},
   "outputs": [
    {
     "data": {
      "text/plain": [
       "count           500.000000\n",
       "mean              5.382482\n",
       "std               5.559409\n",
       "min               0.304358\n",
       "25%               2.199066\n",
       "50%               3.921616\n",
       "75%               6.659348\n",
       "max              81.928595\n",
       "95% CI Lower      0.762415\n",
       "95% CI Upper     18.240170\n",
       "Name: 7560, dtype: float64"
      ]
     },
     "execution_count": 46,
     "metadata": {},
     "output_type": "execute_result"
    }
   ],
   "source": [
    "# Generate summary statistics from the 30-year Monte Carlo simulation results\n",
    "# Save the results as a variable\n",
    "MC_60_40_table = MC_60_40.summarize_cumulative_return()\n",
    "\n",
    "# Review the 30-year Monte Carlo summary statistics\n",
    "MC_60_40_table"
   ]
  },
  {
   "cell_type": "markdown",
   "metadata": {},
   "source": [
    "### Analyze the Retirement Portfolio Forecasts\n",
    "\n",
    "Using the current value of only the stock and bond portion of the member's portfolio and the summary statistics that you generated from the Monte Carlo simulation, answer the following question in your Jupyter notebook:\n",
    "\n",
    "-  What are the lower and upper bounds for the expected value of the portfolio with a 95% confidence interval?\n"
   ]
  },
  {
   "cell_type": "code",
   "execution_count": 62,
   "metadata": {},
   "outputs": [
    {
     "name": "stdout",
     "output_type": "stream",
     "text": [
      "The current value of the stocks and bonds portfolio is $61829.\n"
     ]
    }
   ],
   "source": [
    "# Print the current balance of the stock and bond portion of the members portfolio\n",
    "print(f\"The current value of the stocks and bonds portfolio is ${total_stocks_bonds:0.0f}.\")\n"
   ]
  },
  {
   "cell_type": "code",
   "execution_count": 58,
   "metadata": {},
   "outputs": [
    {
     "name": "stdout",
     "output_type": "stream",
     "text": [
      "There is a 95% chance that the current value of $61829 in the stocks and bonds portfolio, reallocated to be 60% in SPY and 40% in AGG, will accumulate in 30 years to be within the range of $47139 and $1127764.\n"
     ]
    }
   ],
   "source": [
    "# Use the lower and upper `95%` confidence intervals to calculate the range of the possible outcomes for the current stock/bond portfolio\n",
    "ci_lower_thirty_cumulative_return = round(total_stocks_bonds * MC_60_40_table[8], 2)\n",
    "ci_upper_thirty_cumulative_return = round(total_stocks_bonds * MC_60_40_table[9], 2)\n",
    "\n",
    "# Print the result of your calculations\n",
    "print(f\"There is a 95% chance that the current value of ${total_stocks_bonds:0.0f} in the stocks and bonds portfolio,\"\n",
    "      f\" reallocated to be 60% in SPY and 40% in AGG, will accumulate in 30 years to be within the range of\"\n",
    "      f\" ${ci_lower_thirty_cumulative_return:0.0f} and ${ci_upper_thirty_cumulative_return:0.0f}.\")\n"
   ]
  },
  {
   "cell_type": "markdown",
   "metadata": {},
   "source": [
    "### Forecast Cumulative Returns in 10 Years\n",
    "\n",
    "The CTO of the credit union is impressed with your work on these planning tools but wonders if 30 years is a long time to wait until retirement. So, your next task is to adjust the retirement portfolio and run a new Monte Carlo simulation to find out if the changes will allow members to retire earlier.\n",
    "\n",
    "For this new Monte Carlo simulation, do the following: \n",
    "\n",
    "- Forecast the cumulative returns for 10 years from now. Because of the shortened investment horizon (30 years to 10 years), the portfolio needs to invest more heavily in the riskier asset&mdash;that is, stock&mdash;to help accumulate wealth for retirement. \n",
    "\n",
    "- Adjust the weights of the retirement portfolio so that the composition for the Monte Carlo simulation consists of 20% bonds and 80% stocks. \n",
    "\n",
    "- Run the simulation over 500 samples, and use the same data that the API call to Alpaca generated.\n",
    "\n",
    "- Based on the new Monte Carlo simulation, answer the following questions in your Jupyter notebook:\n",
    "\n",
    "    - Using the current value of only the stock and bond portion of the member's portfolio and the summary statistics that you generated from the new Monte Carlo simulation, what are the lower and upper bounds for the expected value of the portfolio (with the new weights) with a 95% confidence interval?\n",
    "\n",
    "    - Will weighting the portfolio more heavily toward stocks allow the credit union members to retire after only 10 years?\n"
   ]
  },
  {
   "cell_type": "code",
   "execution_count": 53,
   "metadata": {},
   "outputs": [
    {
     "data": {
      "text/html": [
       "<div>\n",
       "<style scoped>\n",
       "    .dataframe tbody tr th:only-of-type {\n",
       "        vertical-align: middle;\n",
       "    }\n",
       "\n",
       "    .dataframe tbody tr th {\n",
       "        vertical-align: top;\n",
       "    }\n",
       "\n",
       "    .dataframe thead tr th {\n",
       "        text-align: left;\n",
       "    }\n",
       "\n",
       "    .dataframe thead tr:last-of-type th {\n",
       "        text-align: right;\n",
       "    }\n",
       "</style>\n",
       "<table border=\"1\" class=\"dataframe\">\n",
       "  <thead>\n",
       "    <tr>\n",
       "      <th></th>\n",
       "      <th colspan=\"2\" halign=\"left\">SPY</th>\n",
       "      <th colspan=\"2\" halign=\"left\">AGG</th>\n",
       "    </tr>\n",
       "    <tr>\n",
       "      <th></th>\n",
       "      <th>close</th>\n",
       "      <th>daily_return</th>\n",
       "      <th>close</th>\n",
       "      <th>daily_return</th>\n",
       "    </tr>\n",
       "    <tr>\n",
       "      <th>timestamp</th>\n",
       "      <th></th>\n",
       "      <th></th>\n",
       "      <th></th>\n",
       "      <th></th>\n",
       "    </tr>\n",
       "  </thead>\n",
       "  <tbody>\n",
       "    <tr>\n",
       "      <th>2019-06-24 04:00:00+00:00</th>\n",
       "      <td>293.64</td>\n",
       "      <td>NaN</td>\n",
       "      <td>111.32</td>\n",
       "      <td>NaN</td>\n",
       "    </tr>\n",
       "    <tr>\n",
       "      <th>2019-06-25 04:00:00+00:00</th>\n",
       "      <td>290.76</td>\n",
       "      <td>-0.009808</td>\n",
       "      <td>111.34</td>\n",
       "      <td>0.000180</td>\n",
       "    </tr>\n",
       "    <tr>\n",
       "      <th>2019-06-26 04:00:00+00:00</th>\n",
       "      <td>290.47</td>\n",
       "      <td>-0.000997</td>\n",
       "      <td>111.09</td>\n",
       "      <td>-0.002245</td>\n",
       "    </tr>\n",
       "    <tr>\n",
       "      <th>2019-06-27 04:00:00+00:00</th>\n",
       "      <td>291.50</td>\n",
       "      <td>0.003546</td>\n",
       "      <td>111.40</td>\n",
       "      <td>0.002791</td>\n",
       "    </tr>\n",
       "    <tr>\n",
       "      <th>2019-06-28 04:00:00+00:00</th>\n",
       "      <td>293.00</td>\n",
       "      <td>0.005146</td>\n",
       "      <td>111.35</td>\n",
       "      <td>-0.000449</td>\n",
       "    </tr>\n",
       "    <tr>\n",
       "      <th>...</th>\n",
       "      <td>...</td>\n",
       "      <td>...</td>\n",
       "      <td>...</td>\n",
       "      <td>...</td>\n",
       "    </tr>\n",
       "    <tr>\n",
       "      <th>2022-06-16 04:00:00+00:00</th>\n",
       "      <td>366.65</td>\n",
       "      <td>-0.033096</td>\n",
       "      <td>100.35</td>\n",
       "      <td>0.002397</td>\n",
       "    </tr>\n",
       "    <tr>\n",
       "      <th>2022-06-17 04:00:00+00:00</th>\n",
       "      <td>365.86</td>\n",
       "      <td>-0.002155</td>\n",
       "      <td>100.34</td>\n",
       "      <td>-0.000100</td>\n",
       "    </tr>\n",
       "    <tr>\n",
       "      <th>2022-06-21 04:00:00+00:00</th>\n",
       "      <td>375.07</td>\n",
       "      <td>0.025174</td>\n",
       "      <td>99.94</td>\n",
       "      <td>-0.003986</td>\n",
       "    </tr>\n",
       "    <tr>\n",
       "      <th>2022-06-22 04:00:00+00:00</th>\n",
       "      <td>374.39</td>\n",
       "      <td>-0.001813</td>\n",
       "      <td>100.79</td>\n",
       "      <td>0.008505</td>\n",
       "    </tr>\n",
       "    <tr>\n",
       "      <th>2022-06-23 04:00:00+00:00</th>\n",
       "      <td>378.06</td>\n",
       "      <td>0.009803</td>\n",
       "      <td>101.21</td>\n",
       "      <td>0.004167</td>\n",
       "    </tr>\n",
       "  </tbody>\n",
       "</table>\n",
       "<p>757 rows × 4 columns</p>\n",
       "</div>"
      ],
      "text/plain": [
       "                              SPY                  AGG             \n",
       "                            close daily_return   close daily_return\n",
       "timestamp                                                          \n",
       "2019-06-24 04:00:00+00:00  293.64          NaN  111.32          NaN\n",
       "2019-06-25 04:00:00+00:00  290.76    -0.009808  111.34     0.000180\n",
       "2019-06-26 04:00:00+00:00  290.47    -0.000997  111.09    -0.002245\n",
       "2019-06-27 04:00:00+00:00  291.50     0.003546  111.40     0.002791\n",
       "2019-06-28 04:00:00+00:00  293.00     0.005146  111.35    -0.000449\n",
       "...                           ...          ...     ...          ...\n",
       "2022-06-16 04:00:00+00:00  366.65    -0.033096  100.35     0.002397\n",
       "2022-06-17 04:00:00+00:00  365.86    -0.002155  100.34    -0.000100\n",
       "2022-06-21 04:00:00+00:00  375.07     0.025174   99.94    -0.003986\n",
       "2022-06-22 04:00:00+00:00  374.39    -0.001813  100.79     0.008505\n",
       "2022-06-23 04:00:00+00:00  378.06     0.009803  101.21     0.004167\n",
       "\n",
       "[757 rows x 4 columns]"
      ]
     },
     "execution_count": 53,
     "metadata": {},
     "output_type": "execute_result"
    }
   ],
   "source": [
    "# Configure a Monte Carlo simulation to forecast 10 years cumulative returns\n",
    "# The weights should be split 20% to AGG and 80% to SPY.\n",
    "# Run 500 samples.\n",
    "MC_80_20 = MCSimulation(\n",
    "    portfolio_data = portfolio_2_df,\n",
    "    weights = [0.80, 0.20],\n",
    "    num_simulation=500,\n",
    "    num_trading_days=252*10)\n",
    "\n",
    "# Review the simulation input data\n",
    "MC_80_20.portfolio_data\n"
   ]
  },
  {
   "cell_type": "code",
   "execution_count": 54,
   "metadata": {},
   "outputs": [
    {
     "name": "stdout",
     "output_type": "stream",
     "text": [
      "Running Monte Carlo simulation number 0.\n",
      "Running Monte Carlo simulation number 10.\n",
      "Running Monte Carlo simulation number 20.\n",
      "Running Monte Carlo simulation number 30.\n",
      "Running Monte Carlo simulation number 40.\n",
      "Running Monte Carlo simulation number 50.\n",
      "Running Monte Carlo simulation number 60.\n",
      "Running Monte Carlo simulation number 70.\n",
      "Running Monte Carlo simulation number 80.\n",
      "Running Monte Carlo simulation number 90.\n",
      "Running Monte Carlo simulation number 100.\n"
     ]
    },
    {
     "name": "stderr",
     "output_type": "stream",
     "text": [
      "/Users/jasonbuckholt/Desktop/FinTech_Workspace/Challenges/Module_5/MCForecastTools.py:117: PerformanceWarning: DataFrame is highly fragmented.  This is usually the result of calling `frame.insert` many times, which has poor performance.  Consider joining all columns at once using pd.concat(axis=1) instead.  To get a de-fragmented frame, use `newframe = frame.copy()`\n",
      "  portfolio_cumulative_returns[n] = (1 + sim_df.fillna(0)).cumprod()\n"
     ]
    },
    {
     "name": "stdout",
     "output_type": "stream",
     "text": [
      "Running Monte Carlo simulation number 110.\n",
      "Running Monte Carlo simulation number 120.\n",
      "Running Monte Carlo simulation number 130.\n",
      "Running Monte Carlo simulation number 140.\n",
      "Running Monte Carlo simulation number 150.\n",
      "Running Monte Carlo simulation number 160.\n",
      "Running Monte Carlo simulation number 170.\n",
      "Running Monte Carlo simulation number 180.\n",
      "Running Monte Carlo simulation number 190.\n",
      "Running Monte Carlo simulation number 200.\n",
      "Running Monte Carlo simulation number 210.\n",
      "Running Monte Carlo simulation number 220.\n",
      "Running Monte Carlo simulation number 230.\n",
      "Running Monte Carlo simulation number 240.\n",
      "Running Monte Carlo simulation number 250.\n",
      "Running Monte Carlo simulation number 260.\n",
      "Running Monte Carlo simulation number 270.\n",
      "Running Monte Carlo simulation number 280.\n",
      "Running Monte Carlo simulation number 290.\n",
      "Running Monte Carlo simulation number 300.\n",
      "Running Monte Carlo simulation number 310.\n",
      "Running Monte Carlo simulation number 320.\n",
      "Running Monte Carlo simulation number 330.\n",
      "Running Monte Carlo simulation number 340.\n",
      "Running Monte Carlo simulation number 350.\n",
      "Running Monte Carlo simulation number 360.\n",
      "Running Monte Carlo simulation number 370.\n",
      "Running Monte Carlo simulation number 380.\n",
      "Running Monte Carlo simulation number 390.\n",
      "Running Monte Carlo simulation number 400.\n",
      "Running Monte Carlo simulation number 410.\n",
      "Running Monte Carlo simulation number 420.\n",
      "Running Monte Carlo simulation number 430.\n",
      "Running Monte Carlo simulation number 440.\n",
      "Running Monte Carlo simulation number 450.\n",
      "Running Monte Carlo simulation number 460.\n",
      "Running Monte Carlo simulation number 470.\n",
      "Running Monte Carlo simulation number 480.\n",
      "Running Monte Carlo simulation number 490.\n"
     ]
    },
    {
     "data": {
      "text/html": [
       "<div>\n",
       "<style scoped>\n",
       "    .dataframe tbody tr th:only-of-type {\n",
       "        vertical-align: middle;\n",
       "    }\n",
       "\n",
       "    .dataframe tbody tr th {\n",
       "        vertical-align: top;\n",
       "    }\n",
       "\n",
       "    .dataframe thead th {\n",
       "        text-align: right;\n",
       "    }\n",
       "</style>\n",
       "<table border=\"1\" class=\"dataframe\">\n",
       "  <thead>\n",
       "    <tr style=\"text-align: right;\">\n",
       "      <th></th>\n",
       "      <th>0</th>\n",
       "      <th>1</th>\n",
       "      <th>2</th>\n",
       "      <th>3</th>\n",
       "      <th>4</th>\n",
       "      <th>5</th>\n",
       "      <th>6</th>\n",
       "      <th>7</th>\n",
       "      <th>8</th>\n",
       "      <th>9</th>\n",
       "      <th>...</th>\n",
       "      <th>490</th>\n",
       "      <th>491</th>\n",
       "      <th>492</th>\n",
       "      <th>493</th>\n",
       "      <th>494</th>\n",
       "      <th>495</th>\n",
       "      <th>496</th>\n",
       "      <th>497</th>\n",
       "      <th>498</th>\n",
       "      <th>499</th>\n",
       "    </tr>\n",
       "  </thead>\n",
       "  <tbody>\n",
       "    <tr>\n",
       "      <th>0</th>\n",
       "      <td>1.000000</td>\n",
       "      <td>1.000000</td>\n",
       "      <td>1.000000</td>\n",
       "      <td>1.000000</td>\n",
       "      <td>1.000000</td>\n",
       "      <td>1.000000</td>\n",
       "      <td>1.000000</td>\n",
       "      <td>1.000000</td>\n",
       "      <td>1.000000</td>\n",
       "      <td>1.000000</td>\n",
       "      <td>...</td>\n",
       "      <td>1.000000</td>\n",
       "      <td>1.000000</td>\n",
       "      <td>1.000000</td>\n",
       "      <td>1.000000</td>\n",
       "      <td>1.000000</td>\n",
       "      <td>1.000000</td>\n",
       "      <td>1.000000</td>\n",
       "      <td>1.000000</td>\n",
       "      <td>1.000000</td>\n",
       "      <td>1.000000</td>\n",
       "    </tr>\n",
       "    <tr>\n",
       "      <th>1</th>\n",
       "      <td>0.992172</td>\n",
       "      <td>0.999687</td>\n",
       "      <td>0.982152</td>\n",
       "      <td>1.010204</td>\n",
       "      <td>0.979103</td>\n",
       "      <td>1.018800</td>\n",
       "      <td>1.017189</td>\n",
       "      <td>0.978635</td>\n",
       "      <td>1.000040</td>\n",
       "      <td>1.015442</td>\n",
       "      <td>...</td>\n",
       "      <td>1.000386</td>\n",
       "      <td>0.992967</td>\n",
       "      <td>0.998591</td>\n",
       "      <td>1.015738</td>\n",
       "      <td>1.016829</td>\n",
       "      <td>0.983342</td>\n",
       "      <td>0.996712</td>\n",
       "      <td>0.997229</td>\n",
       "      <td>1.016151</td>\n",
       "      <td>1.002147</td>\n",
       "    </tr>\n",
       "    <tr>\n",
       "      <th>2</th>\n",
       "      <td>0.981162</td>\n",
       "      <td>0.992117</td>\n",
       "      <td>0.995441</td>\n",
       "      <td>1.010804</td>\n",
       "      <td>0.973064</td>\n",
       "      <td>1.023000</td>\n",
       "      <td>1.025814</td>\n",
       "      <td>0.972352</td>\n",
       "      <td>0.998042</td>\n",
       "      <td>1.003019</td>\n",
       "      <td>...</td>\n",
       "      <td>1.001266</td>\n",
       "      <td>1.007455</td>\n",
       "      <td>0.984743</td>\n",
       "      <td>1.031330</td>\n",
       "      <td>1.007605</td>\n",
       "      <td>1.006062</td>\n",
       "      <td>0.996518</td>\n",
       "      <td>0.968423</td>\n",
       "      <td>1.007420</td>\n",
       "      <td>1.018782</td>\n",
       "    </tr>\n",
       "    <tr>\n",
       "      <th>3</th>\n",
       "      <td>0.979335</td>\n",
       "      <td>0.981517</td>\n",
       "      <td>1.001045</td>\n",
       "      <td>0.982655</td>\n",
       "      <td>0.980380</td>\n",
       "      <td>1.029652</td>\n",
       "      <td>1.040075</td>\n",
       "      <td>0.965732</td>\n",
       "      <td>0.999129</td>\n",
       "      <td>0.995581</td>\n",
       "      <td>...</td>\n",
       "      <td>1.004862</td>\n",
       "      <td>1.000748</td>\n",
       "      <td>0.972767</td>\n",
       "      <td>1.016208</td>\n",
       "      <td>1.006430</td>\n",
       "      <td>1.022297</td>\n",
       "      <td>0.992592</td>\n",
       "      <td>0.960894</td>\n",
       "      <td>1.015949</td>\n",
       "      <td>1.012832</td>\n",
       "    </tr>\n",
       "    <tr>\n",
       "      <th>4</th>\n",
       "      <td>0.962095</td>\n",
       "      <td>0.975376</td>\n",
       "      <td>1.000531</td>\n",
       "      <td>0.956941</td>\n",
       "      <td>0.973800</td>\n",
       "      <td>1.044600</td>\n",
       "      <td>1.053822</td>\n",
       "      <td>0.964467</td>\n",
       "      <td>1.003397</td>\n",
       "      <td>0.997154</td>\n",
       "      <td>...</td>\n",
       "      <td>1.006222</td>\n",
       "      <td>0.996458</td>\n",
       "      <td>0.967423</td>\n",
       "      <td>1.024652</td>\n",
       "      <td>1.016793</td>\n",
       "      <td>1.042789</td>\n",
       "      <td>1.007406</td>\n",
       "      <td>0.951669</td>\n",
       "      <td>1.039877</td>\n",
       "      <td>1.011882</td>\n",
       "    </tr>\n",
       "    <tr>\n",
       "      <th>...</th>\n",
       "      <td>...</td>\n",
       "      <td>...</td>\n",
       "      <td>...</td>\n",
       "      <td>...</td>\n",
       "      <td>...</td>\n",
       "      <td>...</td>\n",
       "      <td>...</td>\n",
       "      <td>...</td>\n",
       "      <td>...</td>\n",
       "      <td>...</td>\n",
       "      <td>...</td>\n",
       "      <td>...</td>\n",
       "      <td>...</td>\n",
       "      <td>...</td>\n",
       "      <td>...</td>\n",
       "      <td>...</td>\n",
       "      <td>...</td>\n",
       "      <td>...</td>\n",
       "      <td>...</td>\n",
       "      <td>...</td>\n",
       "      <td>...</td>\n",
       "    </tr>\n",
       "    <tr>\n",
       "      <th>2516</th>\n",
       "      <td>1.919827</td>\n",
       "      <td>1.898107</td>\n",
       "      <td>1.442714</td>\n",
       "      <td>1.025312</td>\n",
       "      <td>1.685961</td>\n",
       "      <td>2.934626</td>\n",
       "      <td>6.427468</td>\n",
       "      <td>4.310799</td>\n",
       "      <td>4.047796</td>\n",
       "      <td>2.097050</td>\n",
       "      <td>...</td>\n",
       "      <td>1.216307</td>\n",
       "      <td>1.852687</td>\n",
       "      <td>0.696242</td>\n",
       "      <td>3.946485</td>\n",
       "      <td>3.671731</td>\n",
       "      <td>0.511090</td>\n",
       "      <td>1.280425</td>\n",
       "      <td>3.195155</td>\n",
       "      <td>1.997395</td>\n",
       "      <td>5.093968</td>\n",
       "    </tr>\n",
       "    <tr>\n",
       "      <th>2517</th>\n",
       "      <td>1.934595</td>\n",
       "      <td>1.896142</td>\n",
       "      <td>1.453443</td>\n",
       "      <td>0.998255</td>\n",
       "      <td>1.678275</td>\n",
       "      <td>2.935497</td>\n",
       "      <td>6.356631</td>\n",
       "      <td>4.333685</td>\n",
       "      <td>3.945026</td>\n",
       "      <td>2.038079</td>\n",
       "      <td>...</td>\n",
       "      <td>1.206358</td>\n",
       "      <td>1.853097</td>\n",
       "      <td>0.693199</td>\n",
       "      <td>3.977475</td>\n",
       "      <td>3.765850</td>\n",
       "      <td>0.513019</td>\n",
       "      <td>1.290575</td>\n",
       "      <td>3.183835</td>\n",
       "      <td>2.033111</td>\n",
       "      <td>5.113960</td>\n",
       "    </tr>\n",
       "    <tr>\n",
       "      <th>2518</th>\n",
       "      <td>1.937601</td>\n",
       "      <td>1.892182</td>\n",
       "      <td>1.431230</td>\n",
       "      <td>1.000452</td>\n",
       "      <td>1.658070</td>\n",
       "      <td>2.907216</td>\n",
       "      <td>6.333846</td>\n",
       "      <td>4.275039</td>\n",
       "      <td>3.891757</td>\n",
       "      <td>2.031815</td>\n",
       "      <td>...</td>\n",
       "      <td>1.210391</td>\n",
       "      <td>1.844839</td>\n",
       "      <td>0.685813</td>\n",
       "      <td>3.960271</td>\n",
       "      <td>3.706388</td>\n",
       "      <td>0.515509</td>\n",
       "      <td>1.285219</td>\n",
       "      <td>3.206086</td>\n",
       "      <td>2.066204</td>\n",
       "      <td>5.085155</td>\n",
       "    </tr>\n",
       "    <tr>\n",
       "      <th>2519</th>\n",
       "      <td>1.932798</td>\n",
       "      <td>1.873748</td>\n",
       "      <td>1.428856</td>\n",
       "      <td>0.991264</td>\n",
       "      <td>1.685200</td>\n",
       "      <td>2.952826</td>\n",
       "      <td>6.342253</td>\n",
       "      <td>4.318332</td>\n",
       "      <td>3.878085</td>\n",
       "      <td>2.011260</td>\n",
       "      <td>...</td>\n",
       "      <td>1.224108</td>\n",
       "      <td>1.851001</td>\n",
       "      <td>0.675216</td>\n",
       "      <td>3.909095</td>\n",
       "      <td>3.705136</td>\n",
       "      <td>0.515906</td>\n",
       "      <td>1.290932</td>\n",
       "      <td>3.170123</td>\n",
       "      <td>2.071954</td>\n",
       "      <td>5.086951</td>\n",
       "    </tr>\n",
       "    <tr>\n",
       "      <th>2520</th>\n",
       "      <td>1.939184</td>\n",
       "      <td>1.850711</td>\n",
       "      <td>1.440629</td>\n",
       "      <td>0.991555</td>\n",
       "      <td>1.680699</td>\n",
       "      <td>2.941518</td>\n",
       "      <td>6.430858</td>\n",
       "      <td>4.281439</td>\n",
       "      <td>3.860367</td>\n",
       "      <td>1.975418</td>\n",
       "      <td>...</td>\n",
       "      <td>1.255257</td>\n",
       "      <td>1.867280</td>\n",
       "      <td>0.667799</td>\n",
       "      <td>3.862220</td>\n",
       "      <td>3.737518</td>\n",
       "      <td>0.511313</td>\n",
       "      <td>1.292930</td>\n",
       "      <td>3.185542</td>\n",
       "      <td>2.071125</td>\n",
       "      <td>5.080924</td>\n",
       "    </tr>\n",
       "  </tbody>\n",
       "</table>\n",
       "<p>2521 rows × 500 columns</p>\n",
       "</div>"
      ],
      "text/plain": [
       "           0         1         2         3         4         5         6    \\\n",
       "0     1.000000  1.000000  1.000000  1.000000  1.000000  1.000000  1.000000   \n",
       "1     0.992172  0.999687  0.982152  1.010204  0.979103  1.018800  1.017189   \n",
       "2     0.981162  0.992117  0.995441  1.010804  0.973064  1.023000  1.025814   \n",
       "3     0.979335  0.981517  1.001045  0.982655  0.980380  1.029652  1.040075   \n",
       "4     0.962095  0.975376  1.000531  0.956941  0.973800  1.044600  1.053822   \n",
       "...        ...       ...       ...       ...       ...       ...       ...   \n",
       "2516  1.919827  1.898107  1.442714  1.025312  1.685961  2.934626  6.427468   \n",
       "2517  1.934595  1.896142  1.453443  0.998255  1.678275  2.935497  6.356631   \n",
       "2518  1.937601  1.892182  1.431230  1.000452  1.658070  2.907216  6.333846   \n",
       "2519  1.932798  1.873748  1.428856  0.991264  1.685200  2.952826  6.342253   \n",
       "2520  1.939184  1.850711  1.440629  0.991555  1.680699  2.941518  6.430858   \n",
       "\n",
       "           7         8         9    ...       490       491       492  \\\n",
       "0     1.000000  1.000000  1.000000  ...  1.000000  1.000000  1.000000   \n",
       "1     0.978635  1.000040  1.015442  ...  1.000386  0.992967  0.998591   \n",
       "2     0.972352  0.998042  1.003019  ...  1.001266  1.007455  0.984743   \n",
       "3     0.965732  0.999129  0.995581  ...  1.004862  1.000748  0.972767   \n",
       "4     0.964467  1.003397  0.997154  ...  1.006222  0.996458  0.967423   \n",
       "...        ...       ...       ...  ...       ...       ...       ...   \n",
       "2516  4.310799  4.047796  2.097050  ...  1.216307  1.852687  0.696242   \n",
       "2517  4.333685  3.945026  2.038079  ...  1.206358  1.853097  0.693199   \n",
       "2518  4.275039  3.891757  2.031815  ...  1.210391  1.844839  0.685813   \n",
       "2519  4.318332  3.878085  2.011260  ...  1.224108  1.851001  0.675216   \n",
       "2520  4.281439  3.860367  1.975418  ...  1.255257  1.867280  0.667799   \n",
       "\n",
       "           493       494       495       496       497       498       499  \n",
       "0     1.000000  1.000000  1.000000  1.000000  1.000000  1.000000  1.000000  \n",
       "1     1.015738  1.016829  0.983342  0.996712  0.997229  1.016151  1.002147  \n",
       "2     1.031330  1.007605  1.006062  0.996518  0.968423  1.007420  1.018782  \n",
       "3     1.016208  1.006430  1.022297  0.992592  0.960894  1.015949  1.012832  \n",
       "4     1.024652  1.016793  1.042789  1.007406  0.951669  1.039877  1.011882  \n",
       "...        ...       ...       ...       ...       ...       ...       ...  \n",
       "2516  3.946485  3.671731  0.511090  1.280425  3.195155  1.997395  5.093968  \n",
       "2517  3.977475  3.765850  0.513019  1.290575  3.183835  2.033111  5.113960  \n",
       "2518  3.960271  3.706388  0.515509  1.285219  3.206086  2.066204  5.085155  \n",
       "2519  3.909095  3.705136  0.515906  1.290932  3.170123  2.071954  5.086951  \n",
       "2520  3.862220  3.737518  0.511313  1.292930  3.185542  2.071125  5.080924  \n",
       "\n",
       "[2521 rows x 500 columns]"
      ]
     },
     "execution_count": 54,
     "metadata": {},
     "output_type": "execute_result"
    }
   ],
   "source": [
    "# Run the Monte Carlo simulation to forecast 10 years cumulative returns\n",
    "MC_80_20.calc_cumulative_return()\n"
   ]
  },
  {
   "cell_type": "code",
   "execution_count": 55,
   "metadata": {},
   "outputs": [
    {
     "data": {
      "text/plain": [
       "<AxesSubplot:title={'center':'500 Simulations of Cumulative Portfolio Return Trajectories Over the Next 2520 Trading Days.'}>"
      ]
     },
     "execution_count": 55,
     "metadata": {},
     "output_type": "execute_result"
    },
    {
     "data": {
      "image/png": "[encoded data removed]",
      "text/plain": [
       "<Figure size 432x288 with 1 Axes>"
      ]
     },
     "metadata": {
      "needs_background": "light"
     },
     "output_type": "display_data"
    }
   ],
   "source": [
    "# Visualize the 10-year Monte Carlo simulation by creating an\n",
    "# overlay line plot\n",
    "MC_80_20_overlay_plot = MC_80_20.plot_simulation()\n",
    "MC_80_20_overlay_plot\n"
   ]
  },
  {
   "cell_type": "code",
   "execution_count": 56,
   "metadata": {},
   "outputs": [
    {
     "data": {
      "text/plain": [
       "<AxesSubplot:title={'center':'Distribution of Final Cumuluative Returns Across All 500 Simulations'}, ylabel='Frequency'>"
      ]
     },
     "execution_count": 56,
     "metadata": {},
     "output_type": "execute_result"
    },
    {
     "data": {
      "image/png": "[encoded data removed]",
      "text/plain": [
       "<Figure size 432x288 with 1 Axes>"
      ]
     },
     "metadata": {
      "needs_background": "light"
     },
     "output_type": "display_data"
    }
   ],
   "source": [
    "# Visualize the probability distribution of the 10-year Monte Carlo simulation \n",
    "# by plotting a histogram\n",
    "MC_80_20_distribution_plot = MC_80_20.plot_distribution()\n",
    "MC_80_20_distribution_plot\n"
   ]
  },
  {
   "cell_type": "code",
   "execution_count": 57,
   "metadata": {},
   "outputs": [
    {
     "data": {
      "text/plain": [
       "count           500.000000\n",
       "mean              2.294528\n",
       "std               1.489109\n",
       "min               0.388546\n",
       "25%               1.281181\n",
       "50%               1.936684\n",
       "75%               3.009073\n",
       "max              16.271113\n",
       "95% CI Lower      0.565811\n",
       "95% CI Upper      5.767481\n",
       "Name: 2520, dtype: float64"
      ]
     },
     "execution_count": 57,
     "metadata": {},
     "output_type": "execute_result"
    }
   ],
   "source": [
    "# Generate summary statistics from the 10-year Monte Carlo simulation results\n",
    "# Save the results as a variable\n",
    "MC_80_20_table = MC_80_20.summarize_cumulative_return()\n",
    "\n",
    "\n",
    "# Review the 10-year Monte Carlo summary statistics\n",
    "MC_80_20_table"
   ]
  },
  {
   "cell_type": "markdown",
   "metadata": {},
   "source": [
    "### Answer the following questions:"
   ]
  },
  {
   "cell_type": "markdown",
   "metadata": {},
   "source": [
    "#### Question: Using the current value of only the stock and bond portion of the member's portfolio and the summary statistics that you generated from the new Monte Carlo simulation, what are the lower and upper bounds for the expected value of the portfolio (with the new weights) with a 95% confidence interval?"
   ]
  },
  {
   "cell_type": "code",
   "execution_count": 63,
   "metadata": {},
   "outputs": [
    {
     "name": "stdout",
     "output_type": "stream",
     "text": [
      "The current value of the stocks and bonds portfolio is $61829.\n"
     ]
    }
   ],
   "source": [
    "# Print the current balance of the stock and bond portion of the members portfolio\n",
    "print(f\"The current value of the stocks and bonds portfolio is ${total_stocks_bonds:0.0f}.\")\n"
   ]
  },
  {
   "cell_type": "code",
   "execution_count": 61,
   "metadata": {},
   "outputs": [
    {
     "name": "stdout",
     "output_type": "stream",
     "text": [
      "There is a 95% chance that the current value of $61829 in the stocks and bonds portfolio, reallocated to be 80% in SPY and 20% in AGG, will accumulate in 10 years to be within the range of $34983 and $356595.\n"
     ]
    }
   ],
   "source": [
    "# Use the lower and upper `95%` confidence intervals to calculate the range of the possible outcomes for the current stock/bond portfolio\n",
    "ci_lower_ten_cumulative_return = round(total_stocks_bonds * MC_80_20_table[8], 2)\n",
    "ci_upper_ten_cumulative_return = round(total_stocks_bonds * MC_80_20_table[9], 2)\n",
    "\n",
    "# Print the result of your calculations\n",
    "print(f\"There is a 95% chance that the current value of ${total_stocks_bonds:0.0f} in the stocks and bonds portfolio,\"\n",
    "      f\" reallocated to be 80% in SPY and 20% in AGG, will accumulate in 10 years to be within the range of\"\n",
    "      f\" ${ci_lower_ten_cumulative_return:0.0f} and ${ci_upper_ten_cumulative_return:0.0f}.\")\n"
   ]
  },
  {
   "cell_type": "markdown",
   "metadata": {},
   "source": [
    "#### Question: Will weighting the portfolio more heavily to stocks allow the credit union members to retire after only 10 years?"
   ]
  },
  {
   "cell_type": "markdown",
   "metadata": {},
   "source": [
    "**Answer** # YOUR ANSWER HERE"
   ]
  },
  {
   "cell_type": "code",
   "execution_count": null,
   "metadata": {},
   "outputs": [],
   "source": []
  }
 ],
 "metadata": {
  "kernelspec": {
   "display_name": "dev",
   "language": "python",
   "name": "dev"
  },
  "language_info": {
   "codemirror_mode": {
    "name": "ipython",
    "version": 3
   },
   "file_extension": ".py",
   "mimetype": "text/x-python",
   "name": "python",
   "nbconvert_exporter": "python",
   "pygments_lexer": "ipython3",
   "version": "3.7.11"
  }
 },
 "nbformat": 4,
 "nbformat_minor": 4
}
